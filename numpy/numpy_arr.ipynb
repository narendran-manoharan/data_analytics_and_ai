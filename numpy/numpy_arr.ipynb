{
 "cells": [
  {
   "cell_type": "code",
   "execution_count": 2,
   "id": "ded1dc60",
   "metadata": {},
   "outputs": [],
   "source": [
    "import numpy as np"
   ]
  },
  {
   "cell_type": "code",
   "execution_count": 3,
   "id": "ef9afad6",
   "metadata": {},
   "outputs": [
    {
     "data": {
      "text/plain": [
       "array([1, 2, 3, 4, 5])"
      ]
     },
     "execution_count": 3,
     "metadata": {},
     "output_type": "execute_result"
    }
   ],
   "source": [
    "np.array([1, 2, 3, 4, 5])"
   ]
  },
  {
   "cell_type": "code",
   "execution_count": 4,
   "id": "fa78d524",
   "metadata": {},
   "outputs": [
    {
     "data": {
      "text/plain": [
       "[567396, 567889, 567445, 568034]"
      ]
     },
     "execution_count": 4,
     "metadata": {},
     "output_type": "execute_result"
    }
   ],
   "source": [
    "my_list = [567396, 567889, 567445, 568034]\n",
    "np.array(my_list)\n",
    "my_list"
   ]
  },
  {
   "cell_type": "code",
   "execution_count": 5,
   "id": "6d42940c",
   "metadata": {},
   "outputs": [
    {
     "data": {
      "text/plain": [
       "list"
      ]
     },
     "execution_count": 5,
     "metadata": {},
     "output_type": "execute_result"
    }
   ],
   "source": [
    "type(my_list)"
   ]
  },
  {
   "cell_type": "code",
   "execution_count": 6,
   "id": "5da2cfea",
   "metadata": {},
   "outputs": [
    {
     "data": {
      "text/plain": [
       "dtype('int64')"
      ]
     },
     "execution_count": 6,
     "metadata": {},
     "output_type": "execute_result"
    }
   ],
   "source": [
    "arr = np.array(my_list)\n",
    "arr\n",
    "arr.dtype"
   ]
  },
  {
   "cell_type": "code",
   "execution_count": 7,
   "id": "170d2f60",
   "metadata": {},
   "outputs": [
    {
     "data": {
      "text/plain": [
       "dtype('O')"
      ]
     },
     "execution_count": 7,
     "metadata": {},
     "output_type": "execute_result"
    }
   ],
   "source": [
    "my_list = [23, \"male\", \"Munich\", \"08 Nov 2022\", \"cat\"]\n",
    "arr_2 = np.array(my_list, dtype=object)\n",
    "arr_2.dtype"
   ]
  },
  {
   "cell_type": "code",
   "execution_count": 8,
   "id": "27a17d56",
   "metadata": {},
   "outputs": [
    {
     "ename": "SyntaxError",
     "evalue": "f-string: expecting '=', or '!', or ':', or '}' (1937860025.py, line 2)",
     "output_type": "error",
     "traceback": [
      "  \u001b[36mCell\u001b[39m\u001b[36m \u001b[39m\u001b[32mIn[8]\u001b[39m\u001b[32m, line 2\u001b[39m\n\u001b[31m    \u001b[39m\u001b[31mprint(f\"The index 0 is: {my_list[0]} and it is a {type(my_list[0]) dtype=object}\")\u001b[39m\n                                                                       ^\n\u001b[31mSyntaxError\u001b[39m\u001b[31m:\u001b[39m f-string: expecting '=', or '!', or ':', or '}'\n"
     ]
    }
   ],
   "source": [
    "print(f\"A {my_list[0]} year old {my_list[1]} arrived in {my_list[2]} on {my_list[3]}, with a {my_list[4]}\")\n",
    "print(f\"The index 0 is: {my_list[0]} and it is a {type(my_list[0]) dtype=object}\")"
   ]
  },
  {
   "cell_type": "code",
   "execution_count": null,
   "id": "89d183f1",
   "metadata": {},
   "outputs": [],
   "source": [
    "my_list = [8, 8.5]\n",
    "my_list\n",
    "arr = np.array(my_list, dtype=object)\n",
    "arr.dtype"
   ]
  },
  {
   "cell_type": "code",
   "execution_count": null,
   "id": "fe0c5976",
   "metadata": {},
   "outputs": [],
   "source": [
    "ecommerce_list = [ [536365,  17850,  6], [536366,  17850,  6], [536367, 13047, 32] ]\n",
    "arr = np.array(ecommerce_list)\n",
    "print(arr.dtype)\n"
   ]
  },
  {
   "cell_type": "code",
   "execution_count": null,
   "id": "694924ca",
   "metadata": {},
   "outputs": [],
   "source": [
    "word = np.array([\"bacon\", \"egg\", \"spam\"])\n",
    "word"
   ]
  },
  {
   "cell_type": "code",
   "execution_count": null,
   "id": "e1a05366",
   "metadata": {},
   "outputs": [],
   "source": [
    "my_2dlist = [[\"A\", \"B\"],\n",
    "             [\"C\", \"D\"]]\n",
    "arr = np.array(my_2dlist)\n",
    "arr"
   ]
  },
  {
   "cell_type": "code",
   "execution_count": null,
   "id": "ce152011",
   "metadata": {},
   "outputs": [],
   "source": [
    "exp_list = [1, \"Narendran\", 8.11]\n",
    "arr = np.array(exp_list, dtype=int)\n",
    "print(arr)"
   ]
  },
  {
   "cell_type": "code",
   "execution_count": null,
   "id": "7cd0f5f3",
   "metadata": {},
   "outputs": [
    {
     "name": "stdout",
     "output_type": "stream",
     "text": [
      "['1' 'Narendran' '8.11']\n",
      "<U32\n"
     ]
    }
   ],
   "source": [
    "exp_list = [1, \"Narendran\", 8.11]\n",
    "arr = np.array(exp_list)\n",
    "print(arr)\n",
    "print(arr.dtype)"
   ]
  },
  {
   "cell_type": "code",
   "execution_count": 14,
   "id": "b56cf2f7",
   "metadata": {},
   "outputs": [
    {
     "data": {
      "text/plain": [
       "array(['Narendran', '1990', 'Indian'], dtype='<U21')"
      ]
     },
     "execution_count": 14,
     "metadata": {},
     "output_type": "execute_result"
    }
   ],
   "source": [
    "exp_list = [\"Narendran\", 1990, \"Indian\"]\n",
    "arr = np.array(exp_list)\n",
    "arr.flatten()\n",
    "arr"
   ]
  }
 ],
 "metadata": {
  "kernelspec": {
   "display_name": ".venv",
   "language": "python",
   "name": "python3"
  },
  "language_info": {
   "codemirror_mode": {
    "name": "ipython",
    "version": 3
   },
   "file_extension": ".py",
   "mimetype": "text/x-python",
   "name": "python",
   "nbconvert_exporter": "python",
   "pygments_lexer": "ipython3",
   "version": "3.12.8"
  }
 },
 "nbformat": 4,
 "nbformat_minor": 5
}
