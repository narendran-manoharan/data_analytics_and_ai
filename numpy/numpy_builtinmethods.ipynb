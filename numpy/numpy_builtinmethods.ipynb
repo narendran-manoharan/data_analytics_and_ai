{
 "cells": [
  {
   "cell_type": "code",
   "execution_count": 3,
   "id": "cd2b07ec",
   "metadata": {},
   "outputs": [
    {
     "data": {
      "text/plain": [
       "array([  0,   5,  10,  15,  20,  25,  30,  35,  40,  45,  50,  55,  60,\n",
       "        65,  70,  75,  80,  85,  90,  95, 100])"
      ]
     },
     "execution_count": 3,
     "metadata": {},
     "output_type": "execute_result"
    }
   ],
   "source": [
    "import numpy as np\n",
    "np.arange(start = 0, stop = 105, step = 5)"
   ]
  },
  {
   "cell_type": "code",
   "execution_count": null,
   "id": "fcf9fd87",
   "metadata": {},
   "outputs": [],
   "source": [
    "np.arange(1, 10, 1)"
   ]
  },
  {
   "cell_type": "code",
   "execution_count": null,
   "id": "2bcb39a3",
   "metadata": {},
   "outputs": [],
   "source": [
    "arr = np.zeros(shape = (3,5), dtype=int)\n",
    "arr"
   ]
  },
  {
   "cell_type": "code",
   "execution_count": null,
   "id": "f31d67ad",
   "metadata": {},
   "outputs": [],
   "source": [
    "print(f\"the second item in third row is {arr[2, 3]}\")"
   ]
  },
  {
   "cell_type": "code",
   "execution_count": null,
   "id": "cbe852bb",
   "metadata": {},
   "outputs": [],
   "source": [
    "arr =np.zeros(shape = (3, 1, 5))\n",
    "arr"
   ]
  },
  {
   "cell_type": "code",
   "execution_count": null,
   "id": "b0757f46",
   "metadata": {},
   "outputs": [],
   "source": [
    "arr= np.ones(shape=(4,3))\n",
    "arr"
   ]
  },
  {
   "cell_type": "code",
   "execution_count": null,
   "id": "7e877dab",
   "metadata": {},
   "outputs": [],
   "source": [
    "np.linspace(start = 0, stop = 10, num = 5, dtype=float)\n"
   ]
  },
  {
   "cell_type": "code",
   "execution_count": null,
   "id": "29e3bf8a",
   "metadata": {},
   "outputs": [],
   "source": [
    "arr = np.linspace(start=0,stop=9,num=6, dtype=float)\n",
    "arr"
   ]
  },
  {
   "cell_type": "code",
   "execution_count": null,
   "id": "f5ad965a",
   "metadata": {},
   "outputs": [],
   "source": [
    "arr = np.linspace(-3, 5, 9)\n",
    "arr"
   ]
  },
  {
   "cell_type": "code",
   "execution_count": null,
   "id": "710727b4",
   "metadata": {},
   "outputs": [],
   "source": [
    "arr= np.random.rand(3, 4)\n",
    "arr"
   ]
  },
  {
   "cell_type": "code",
   "execution_count": null,
   "id": "8c30fd12",
   "metadata": {},
   "outputs": [],
   "source": [
    "arr= np.random.rand()\n",
    "arr"
   ]
  },
  {
   "cell_type": "code",
   "execution_count": null,
   "id": "fb27089c",
   "metadata": {},
   "outputs": [],
   "source": [
    "arr = np.random.rand(3, 4, 2)\n",
    "arr"
   ]
  },
  {
   "cell_type": "code",
   "execution_count": null,
   "id": "3d0eda1e",
   "metadata": {},
   "outputs": [],
   "source": [
    "arr = np.random.randn(4, 5, 2)\n",
    "arr"
   ]
  },
  {
   "cell_type": "code",
   "execution_count": 54,
   "id": "194107be",
   "metadata": {},
   "outputs": [
    {
     "data": {
      "text/plain": [
       "array([-4.83246302e-01,  8.37093670e-01,  1.22555760e+00, -4.33815647e-01,\n",
       "       -1.64781296e+00,  6.22731995e-01, -1.81098117e+00,  1.20047669e+00,\n",
       "       -1.03095886e-01,  2.65218496e-01, -1.10318799e-01,  2.28911262e+00,\n",
       "       -4.59748427e-01, -2.35682204e+00,  6.83517950e-02,  7.22062003e-01,\n",
       "       -1.32378122e+00,  1.39423743e+00, -4.08612717e-04, -7.76089182e-01,\n",
       "        2.28870340e-01,  5.78273593e-01, -6.52048662e-01,  8.42929246e-02,\n",
       "       -1.39441902e+00])"
      ]
     },
     "execution_count": 54,
     "metadata": {},
     "output_type": "execute_result"
    }
   ],
   "source": [
    "arr = np.random.randn(25)\n",
    "arr"
   ]
  },
  {
   "cell_type": "code",
   "execution_count": 53,
   "id": "621a93f0",
   "metadata": {},
   "outputs": [
    {
     "data": {
      "text/plain": [
       "array([1, 1, 2], dtype=int32)"
      ]
     },
     "execution_count": 53,
     "metadata": {},
     "output_type": "execute_result"
    }
   ],
   "source": [
    "arr = np.random.randint(0, 3, 3)\n",
    "arr"
   ]
  },
  {
   "cell_type": "code",
   "execution_count": 60,
   "id": "652f05da",
   "metadata": {},
   "outputs": [
    {
     "data": {
      "text/plain": [
       "array([[575, 546, 496],\n",
       "       [518, 478, 726],\n",
       "       [615, 749, 741]], dtype=int32)"
      ]
     },
     "execution_count": 60,
     "metadata": {},
     "output_type": "execute_result"
    }
   ],
   "source": [
    "arr = np.random.randint(456, 890,(3, 3))\n",
    "arr"
   ]
  },
  {
   "cell_type": "code",
   "execution_count": 70,
   "id": "1c0b8a00",
   "metadata": {},
   "outputs": [
    {
     "data": {
      "text/plain": [
       "array([[[424, 633],\n",
       "        [801, 444],\n",
       "        [791, 623]],\n",
       "\n",
       "       [[851, 578],\n",
       "        [301, 766],\n",
       "        [299, 651]]], dtype=int32)"
      ]
     },
     "execution_count": 70,
     "metadata": {},
     "output_type": "execute_result"
    }
   ],
   "source": [
    "arr = np.random.randint(250, 888, (2, 3, 2))\n",
    "arr"
   ]
  },
  {
   "cell_type": "code",
   "execution_count": 4,
   "id": "d3b57542",
   "metadata": {},
   "outputs": [
    {
     "data": {
      "text/plain": [
       "array([[8, 8],\n",
       "       [6, 2]], dtype=int32)"
      ]
     },
     "execution_count": 4,
     "metadata": {},
     "output_type": "execute_result"
    }
   ],
   "source": [
    "np.random.seed(seed=2)\n",
    "arr = np.random.randint(0, 10, (2, 2))\n",
    "arr"
   ]
  },
  {
   "cell_type": "code",
   "execution_count": 7,
   "id": "6bcbc9b5",
   "metadata": {},
   "outputs": [
    {
     "data": {
      "text/plain": [
       "(2, 2)"
      ]
     },
     "execution_count": 7,
     "metadata": {},
     "output_type": "execute_result"
    }
   ],
   "source": [
    "arr.shape\n"
   ]
  },
  {
   "cell_type": "code",
   "execution_count": 10,
   "id": "086f0be9",
   "metadata": {},
   "outputs": [
    {
     "data": {
      "text/plain": [
       "array([14, 10])"
      ]
     },
     "execution_count": 10,
     "metadata": {},
     "output_type": "execute_result"
    }
   ],
   "source": [
    "arr.sum(axis=0)"
   ]
  }
 ],
 "metadata": {
  "kernelspec": {
   "display_name": ".venv",
   "language": "python",
   "name": "python3"
  },
  "language_info": {
   "codemirror_mode": {
    "name": "ipython",
    "version": 3
   },
   "file_extension": ".py",
   "mimetype": "text/x-python",
   "name": "python",
   "nbconvert_exporter": "python",
   "pygments_lexer": "ipython3",
   "version": "3.12.8"
  }
 },
 "nbformat": 4,
 "nbformat_minor": 5
}
