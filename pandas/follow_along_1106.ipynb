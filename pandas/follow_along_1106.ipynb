{
 "cells": [
  {
   "cell_type": "code",
   "execution_count": 3,
   "id": "a35e7d85",
   "metadata": {},
   "outputs": [],
   "source": [
    "import numpy as np\n",
    "import pandas as pd\n",
    "import seaborn as sns\n",
    "import matplotlib.pyplot as plt\n",
    "import plotly.express as px"
   ]
  },
  {
   "cell_type": "code",
   "execution_count": 2,
   "id": "c6226890",
   "metadata": {},
   "outputs": [
    {
     "data": {
      "text/html": [
       "<div>\n",
       "<style scoped>\n",
       "    .dataframe tbody tr th:only-of-type {\n",
       "        vertical-align: middle;\n",
       "    }\n",
       "\n",
       "    .dataframe tbody tr th {\n",
       "        vertical-align: top;\n",
       "    }\n",
       "\n",
       "    .dataframe thead th {\n",
       "        text-align: right;\n",
       "    }\n",
       "</style>\n",
       "<table border=\"1\" class=\"dataframe\">\n",
       "  <thead>\n",
       "    <tr style=\"text-align: right;\">\n",
       "      <th></th>\n",
       "      <th>age</th>\n",
       "      <th>sex</th>\n",
       "      <th>bmi</th>\n",
       "      <th>children</th>\n",
       "      <th>smoker</th>\n",
       "      <th>region</th>\n",
       "      <th>charges</th>\n",
       "    </tr>\n",
       "  </thead>\n",
       "  <tbody>\n",
       "    <tr>\n",
       "      <th>0</th>\n",
       "      <td>19</td>\n",
       "      <td>female</td>\n",
       "      <td>27.900</td>\n",
       "      <td>0</td>\n",
       "      <td>yes</td>\n",
       "      <td>southwest</td>\n",
       "      <td>16884.92400</td>\n",
       "    </tr>\n",
       "    <tr>\n",
       "      <th>1</th>\n",
       "      <td>18</td>\n",
       "      <td>male</td>\n",
       "      <td>33.770</td>\n",
       "      <td>1</td>\n",
       "      <td>no</td>\n",
       "      <td>southeast</td>\n",
       "      <td>1725.55230</td>\n",
       "    </tr>\n",
       "    <tr>\n",
       "      <th>2</th>\n",
       "      <td>28</td>\n",
       "      <td>male</td>\n",
       "      <td>33.000</td>\n",
       "      <td>3</td>\n",
       "      <td>no</td>\n",
       "      <td>southeast</td>\n",
       "      <td>4449.46200</td>\n",
       "    </tr>\n",
       "    <tr>\n",
       "      <th>3</th>\n",
       "      <td>33</td>\n",
       "      <td>male</td>\n",
       "      <td>22.705</td>\n",
       "      <td>0</td>\n",
       "      <td>no</td>\n",
       "      <td>northwest</td>\n",
       "      <td>21984.47061</td>\n",
       "    </tr>\n",
       "    <tr>\n",
       "      <th>4</th>\n",
       "      <td>32</td>\n",
       "      <td>male</td>\n",
       "      <td>28.880</td>\n",
       "      <td>0</td>\n",
       "      <td>no</td>\n",
       "      <td>northwest</td>\n",
       "      <td>3866.85520</td>\n",
       "    </tr>\n",
       "    <tr>\n",
       "      <th>...</th>\n",
       "      <td>...</td>\n",
       "      <td>...</td>\n",
       "      <td>...</td>\n",
       "      <td>...</td>\n",
       "      <td>...</td>\n",
       "      <td>...</td>\n",
       "      <td>...</td>\n",
       "    </tr>\n",
       "    <tr>\n",
       "      <th>1333</th>\n",
       "      <td>50</td>\n",
       "      <td>male</td>\n",
       "      <td>30.970</td>\n",
       "      <td>3</td>\n",
       "      <td>no</td>\n",
       "      <td>northwest</td>\n",
       "      <td>10600.54830</td>\n",
       "    </tr>\n",
       "    <tr>\n",
       "      <th>1334</th>\n",
       "      <td>18</td>\n",
       "      <td>female</td>\n",
       "      <td>31.920</td>\n",
       "      <td>0</td>\n",
       "      <td>no</td>\n",
       "      <td>northeast</td>\n",
       "      <td>2205.98080</td>\n",
       "    </tr>\n",
       "    <tr>\n",
       "      <th>1335</th>\n",
       "      <td>18</td>\n",
       "      <td>female</td>\n",
       "      <td>36.850</td>\n",
       "      <td>0</td>\n",
       "      <td>no</td>\n",
       "      <td>southeast</td>\n",
       "      <td>1629.83350</td>\n",
       "    </tr>\n",
       "    <tr>\n",
       "      <th>1336</th>\n",
       "      <td>21</td>\n",
       "      <td>female</td>\n",
       "      <td>25.800</td>\n",
       "      <td>0</td>\n",
       "      <td>no</td>\n",
       "      <td>southwest</td>\n",
       "      <td>2007.94500</td>\n",
       "    </tr>\n",
       "    <tr>\n",
       "      <th>1337</th>\n",
       "      <td>61</td>\n",
       "      <td>female</td>\n",
       "      <td>29.070</td>\n",
       "      <td>0</td>\n",
       "      <td>yes</td>\n",
       "      <td>northwest</td>\n",
       "      <td>29141.36030</td>\n",
       "    </tr>\n",
       "  </tbody>\n",
       "</table>\n",
       "<p>1338 rows × 7 columns</p>\n",
       "</div>"
      ],
      "text/plain": [
       "      age     sex     bmi  children smoker     region      charges\n",
       "0      19  female  27.900         0    yes  southwest  16884.92400\n",
       "1      18    male  33.770         1     no  southeast   1725.55230\n",
       "2      28    male  33.000         3     no  southeast   4449.46200\n",
       "3      33    male  22.705         0     no  northwest  21984.47061\n",
       "4      32    male  28.880         0     no  northwest   3866.85520\n",
       "...   ...     ...     ...       ...    ...        ...          ...\n",
       "1333   50    male  30.970         3     no  northwest  10600.54830\n",
       "1334   18  female  31.920         0     no  northeast   2205.98080\n",
       "1335   18  female  36.850         0     no  southeast   1629.83350\n",
       "1336   21  female  25.800         0     no  southwest   2007.94500\n",
       "1337   61  female  29.070         0    yes  northwest  29141.36030\n",
       "\n",
       "[1338 rows x 7 columns]"
      ]
     },
     "execution_count": 2,
     "metadata": {},
     "output_type": "execute_result"
    }
   ],
   "source": [
    "df = pd.read_csv(\"https://raw.githubusercontent.com/stedy/Machine-Learning-with-R-datasets/master/insurance.csv\")\n",
    "df"
   ]
  },
  {
   "cell_type": "code",
   "execution_count": 4,
   "id": "eeaed0c8",
   "metadata": {},
   "outputs": [
    {
     "data": {
      "application/vnd.plotly.v1+json": {
       "config": {
        "plotlyServerURL": "https://plot.ly"
       },
       "data": [
        {
         "customdata": [
          [
           "southwest",
           0
          ],
          [
           "southeast",
           0
          ],
          [
           "southeast",
           0
          ],
          [
           "southwest",
           0
          ],
          [
           "northeast",
           1
          ],
          [
           "southwest",
           2
          ],
          [
           "southwest",
           0
          ],
          [
           "southwest",
           1
          ],
          [
           "northeast",
           1
          ],
          [
           "southwest",
           0
          ],
          [
           "southeast",
           1
          ],
          [
           "southwest",
           1
          ],
          [
           "southeast",
           0
          ],
          [
           "northwest",
           2
          ],
          [
           "southeast",
           2
          ],
          [
           "southeast",
           1
          ],
          [
           "northwest",
           0
          ],
          [
           "southeast",
           3
          ],
          [
           "southeast",
           0
          ],
          [
           "southeast",
           1
          ],
          [
           "southwest",
           2
          ],
          [
           "northwest",
           2
          ],
          [
           "northwest",
           0
          ],
          [
           "northeast",
           3
          ],
          [
           "southwest",
           2
          ],
          [
           "northeast",
           0
          ],
          [
           "southwest",
           0
          ],
          [
           "southeast",
           3
          ],
          [
           "northwest",
           1
          ],
          [
           "southeast",
           0
          ],
          [
           "southeast",
           1
          ],
          [
           "northeast",
           1
          ],
          [
           "southwest",
           0
          ],
          [
           "northwest",
           2
          ],
          [
           "southeast",
           2
          ],
          [
           "northwest",
           3
          ],
          [
           "northwest",
           3
          ],
          [
           "northeast",
           0
          ],
          [
           "southeast",
           0
          ],
          [
           "northeast",
           0
          ],
          [
           "southeast",
           0
          ],
          [
           "northwest",
           0
          ],
          [
           "southeast",
           0
          ],
          [
           "southwest",
           0
          ],
          [
           "northeast",
           3
          ],
          [
           "southeast",
           0
          ],
          [
           "northeast",
           2
          ],
          [
           "southwest",
           0
          ],
          [
           "southeast",
           0
          ],
          [
           "southeast",
           2
          ],
          [
           "northwest",
           0
          ],
          [
           "northeast",
           2
          ],
          [
           "northeast",
           0
          ],
          [
           "northeast",
           2
          ],
          [
           "southwest",
           2
          ],
          [
           "southeast",
           2
          ],
          [
           "northeast",
           0
          ],
          [
           "northwest",
           0
          ],
          [
           "northwest",
           0
          ],
          [
           "southeast",
           1
          ],
          [
           "northeast",
           3
          ],
          [
           "northwest",
           0
          ],
          [
           "southeast",
           3
          ],
          [
           "southeast",
           1
          ],
          [
           "southwest",
           2
          ],
          [
           "northeast",
           1
          ],
          [
           "northeast",
           3
          ],
          [
           "northeast",
           1
          ],
          [
           "southeast",
           2
          ],
          [
           "southwest",
           0
          ],
          [
           "southeast",
           1
          ],
          [
           "northwest",
           3
          ],
          [
           "northeast",
           3
          ],
          [
           "southeast",
           3
          ],
          [
           "southwest",
           0
          ],
          [
           "southwest",
           0
          ],
          [
           "northwest",
           2
          ],
          [
           "southwest",
           1
          ],
          [
           "northeast",
           1
          ],
          [
           "northwest",
           0
          ],
          [
           "northeast",
           1
          ],
          [
           "southwest",
           0
          ],
          [
           "southwest",
           2
          ],
          [
           "northwest",
           0
          ],
          [
           "northeast",
           3
          ],
          [
           "southeast",
           0
          ],
          [
           "northeast",
           2
          ],
          [
           "northeast",
           0
          ],
          [
           "northeast",
           1
          ],
          [
           "northeast",
           2
          ],
          [
           "southwest",
           2
          ],
          [
           "northwest",
           0
          ],
          [
           "southeast",
           0
          ],
          [
           "southeast",
           0
          ],
          [
           "northeast",
           1
          ],
          [
           "southwest",
           0
          ],
          [
           "northwest",
           1
          ],
          [
           "southwest",
           0
          ],
          [
           "southeast",
           1
          ],
          [
           "southwest",
           3
          ],
          [
           "northwest",
           1
          ],
          [
           "northeast",
           0
          ],
          [
           "southeast",
           0
          ],
          [
           "southwest",
           4
          ],
          [
           "southwest",
           0
          ],
          [
           "southeast",
           1
          ],
          [
           "southeast",
           0
          ],
          [
           "southwest",
           1
          ],
          [
           "southeast",
           1
          ],
          [
           "southeast",
           1
          ],
          [
           "southeast",
           0
          ],
          [
           "northwest",
           2
          ],
          [
           "southeast",
           0
          ],
          [
           "northwest",
           3
          ],
          [
           "northwest",
           2
          ],
          [
           "northeast",
           1
          ],
          [
           "northwest",
           1
          ],
          [
           "northeast",
           1
          ],
          [
           "northwest",
           0
          ],
          [
           "northwest",
           0
          ],
          [
           "southwest",
           2
          ],
          [
           "southeast",
           1
          ],
          [
           "southwest",
           2
          ],
          [
           "southeast",
           0
          ],
          [
           "southwest",
           4
          ],
          [
           "northeast",
           0
          ],
          [
           "northwest",
           0
          ],
          [
           "northeast",
           0
          ],
          [
           "northwest",
           3
          ],
          [
           "southeast",
           2
          ],
          [
           "southeast",
           0
          ],
          [
           "southeast",
           2
          ],
          [
           "northwest",
           2
          ],
          [
           "northeast",
           0
          ],
          [
           "southeast",
           2
          ],
          [
           "northwest",
           3
          ],
          [
           "southwest",
           2
          ],
          [
           "southeast",
           1
          ],
          [
           "southeast",
           1
          ],
          [
           "southeast",
           0
          ],
          [
           "southeast",
           3
          ],
          [
           "northeast",
           1
          ],
          [
           "southeast",
           3
          ],
          [
           "southeast",
           0
          ],
          [
           "northeast",
           3
          ],
          [
           "southwest",
           2
          ],
          [
           "southeast",
           0
          ],
          [
           "northeast",
           0
          ],
          [
           "southeast",
           0
          ],
          [
           "southeast",
           0
          ],
          [
           "southeast",
           0
          ],
          [
           "southwest",
           1
          ],
          [
           "northwest",
           0
          ],
          [
           "southwest",
           3
          ],
          [
           "southwest",
           1
          ],
          [
           "southeast",
           0
          ],
          [
           "northwest",
           0
          ],
          [
           "northeast",
           0
          ],
          [
           "southeast",
           0
          ],
          [
           "northeast",
           1
          ],
          [
           "northwest",
           0
          ],
          [
           "southeast",
           2
          ],
          [
           "northeast",
           1
          ],
          [
           "northeast",
           3
          ],
          [
           "southeast",
           2
          ],
          [
           "southeast",
           0
          ],
          [
           "southeast",
           0
          ],
          [
           "northeast",
           0
          ],
          [
           "northeast",
           0
          ],
          [
           "northeast",
           3
          ],
          [
           "southeast",
           0
          ],
          [
           "northwest",
           0
          ],
          [
           "southwest",
           2
          ],
          [
           "northeast",
           3
          ],
          [
           "southeast",
           1
          ],
          [
           "northeast",
           0
          ],
          [
           "northwest",
           0
          ],
          [
           "southeast",
           2
          ],
          [
           "northeast",
           2
          ],
          [
           "southeast",
           0
          ],
          [
           "southwest",
           0
          ],
          [
           "northeast",
           0
          ],
          [
           "northwest",
           0
          ],
          [
           "northeast",
           0
          ],
          [
           "northeast",
           1
          ],
          [
           "southwest",
           3
          ],
          [
           "southeast",
           2
          ],
          [
           "southwest",
           2
          ],
          [
           "northwest",
           1
          ],
          [
           "southeast",
           1
          ],
          [
           "northeast",
           1
          ],
          [
           "northwest",
           2
          ],
          [
           "northeast",
           0
          ],
          [
           "southwest",
           3
          ],
          [
           "northeast",
           0
          ],
          [
           "northwest",
           3
          ],
          [
           "northwest",
           2
          ],
          [
           "southwest",
           0
          ],
          [
           "northwest",
           3
          ],
          [
           "southeast",
           2
          ],
          [
           "southeast",
           3
          ],
          [
           "southeast",
           1
          ],
          [
           "northwest",
           1
          ],
          [
           "northwest",
           1
          ],
          [
           "southeast",
           0
          ],
          [
           "northeast",
           0
          ],
          [
           "southeast",
           2
          ],
          [
           "northwest",
           1
          ],
          [
           "northwest",
           0
          ],
          [
           "northeast",
           0
          ],
          [
           "northwest",
           2
          ],
          [
           "southeast",
           1
          ],
          [
           "southwest",
           0
          ],
          [
           "southwest",
           3
          ],
          [
           "southeast",
           1
          ],
          [
           "southeast",
           1
          ],
          [
           "southeast",
           0
          ],
          [
           "southwest",
           5
          ],
          [
           "southeast",
           0
          ],
          [
           "northwest",
           0
          ],
          [
           "northeast",
           2
          ],
          [
           "northeast",
           2
          ],
          [
           "southeast",
           3
          ],
          [
           "southeast",
           3
          ],
          [
           "southeast",
           2
          ],
          [
           "southeast",
           1
          ],
          [
           "southwest",
           0
          ],
          [
           "northwest",
           3
          ],
          [
           "northeast",
           1
          ],
          [
           "northwest",
           0
          ],
          [
           "southwest",
           0
          ],
          [
           "southeast",
           3
          ],
          [
           "southeast",
           0
          ],
          [
           "northeast",
           1
          ],
          [
           "southwest",
           2
          ],
          [
           "northwest",
           1
          ],
          [
           "southeast",
           0
          ],
          [
           "southeast",
           1
          ],
          [
           "northwest",
           3
          ],
          [
           "northeast",
           1
          ],
          [
           "northwest",
           0
          ],
          [
           "southeast",
           3
          ],
          [
           "southwest",
           2
          ],
          [
           "northeast",
           1
          ],
          [
           "southwest",
           1
          ],
          [
           "southeast",
           0
          ],
          [
           "northwest",
           3
          ],
          [
           "southwest",
           0
          ],
          [
           "southeast",
           2
          ],
          [
           "southeast",
           2
          ],
          [
           "northeast",
           1
          ],
          [
           "northeast",
           0
          ],
          [
           "southwest",
           0
          ],
          [
           "southeast",
           0
          ],
          [
           "northeast",
           0
          ],
          [
           "southeast",
           0
          ],
          [
           "northeast",
           1
          ],
          [
           "northwest",
           2
          ],
          [
           "northeast",
           0
          ],
          [
           "southwest",
           1
          ],
          [
           "southwest",
           2
          ],
          [
           "southwest",
           0
          ],
          [
           "southeast",
           0
          ],
          [
           "northwest",
           3
          ],
          [
           "southwest",
           0
          ],
          [
           "northeast",
           2
          ],
          [
           "northeast",
           0
          ],
          [
           "northwest",
           4
          ],
          [
           "southwest",
           0
          ],
          [
           "southwest",
           2
          ],
          [
           "northwest",
           3
          ],
          [
           "northeast",
           0
          ],
          [
           "southeast",
           2
          ],
          [
           "northwest",
           0
          ]
         ],
         "hovertemplate": "smoker=yes<br>bmi=%{x}<br>charges=%{y}<br>age=%{marker.size}<br>region=%{customdata[0]}<br>children=%{customdata[1]}<extra></extra>",
         "legendgroup": "yes",
         "marker": {
          "color": "#636efa",
          "size": {
           "bdata": "Ez4bHiIfFhwjPCQwJDoSNRQcGxYlLTk7QDgmPRQ/HSwTICIeLiowEh4qEj8kGyMTKigTFz8SPzYyOBMUNBMuKDIoNjsZEy8fNSsbIi1APTQyExoXJxgbNywaJD9APSghOCoeNj0YLBUdMxMnKjk2MSsjMB8iFRM7Hi8xEyUSLCcqNEArKD4sPCcbKTMeHSMlFx0bNSUvEiETHjI1GyESLyE4JCkXOTwlLjEwGSUzIDlALys8IBIrLSUZMywiNiszHR8YGx4YLysWLxMuNxIWLSMUKxYxLzslHCcvFjMhJjAZIRc1FxM8KxMSKzQfFxQrExIkJS4UNBQ0QCAYFEAYGicvEj0UEy0+KyodIBkTHj4qPQ==",
           "dtype": "i1"
          },
          "sizemode": "area",
          "sizeref": 0.16,
          "symbol": "circle"
         },
         "mode": "markers",
         "name": "yes",
         "showlegend": true,
         "type": "scattergl",
         "x": {
          "bdata": "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",
          "dtype": "f8"
         },
         "xaxis": "x",
         "y": {
          "bdata": "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",
          "dtype": "f8"
         },
         "yaxis": "y"
        },
        {
         "customdata": [
          [
           "southeast",
           1
          ],
          [
           "southeast",
           3
          ],
          [
           "northwest",
           0
          ],
          [
           "northwest",
           0
          ],
          [
           "southeast",
           0
          ],
          [
           "southeast",
           1
          ],
          [
           "northwest",
           3
          ],
          [
           "northeast",
           2
          ],
          [
           "northwest",
           0
          ],
          [
           "northeast",
           0
          ],
          [
           "southwest",
           0
          ],
          [
           "southeast",
           0
          ],
          [
           "southwest",
           1
          ],
          [
           "northeast",
           1
          ],
          [
           "northeast",
           0
          ],
          [
           "southwest",
           0
          ],
          [
           "northeast",
           0
          ],
          [
           "southwest",
           1
          ],
          [
           "southeast",
           0
          ],
          [
           "northwest",
           2
          ],
          [
           "southeast",
           3
          ],
          [
           "northeast",
           0
          ],
          [
           "northwest",
           2
          ],
          [
           "northwest",
           1
          ],
          [
           "northeast",
           0
          ],
          [
           "southwest",
           5
          ],
          [
           "northwest",
           0
          ],
          [
           "northwest",
           0
          ],
          [
           "northwest",
           3
          ],
          [
           "southwest",
           0
          ],
          [
           "northeast",
           0
          ],
          [
           "southeast",
           2
          ],
          [
           "southeast",
           1
          ],
          [
           "southeast",
           2
          ],
          [
           "northeast",
           1
          ],
          [
           "southwest",
           0
          ],
          [
           "northeast",
           2
          ],
          [
           "northwest",
           0
          ],
          [
           "southeast",
           0
          ],
          [
           "northeast",
           0
          ],
          [
           "northwest",
           2
          ],
          [
           "northwest",
           3
          ],
          [
           "northeast",
           2
          ],
          [
           "northwest",
           2
          ],
          [
           "northeast",
           3
          ],
          [
           "southeast",
           4
          ],
          [
           "northwest",
           1
          ],
          [
           "northwest",
           1
          ],
          [
           "southwest",
           0
          ],
          [
           "southwest",
           2
          ],
          [
           "northwest",
           1
          ],
          [
           "southeast",
           0
          ],
          [
           "northeast",
           5
          ],
          [
           "southwest",
           3
          ],
          [
           "southeast",
           1
          ],
          [
           "southwest",
           2
          ],
          [
           "northwest",
           0
          ],
          [
           "southeast",
           1
          ],
          [
           "southeast",
           0
          ],
          [
           "northeast",
           0
          ],
          [
           "northwest",
           0
          ],
          [
           "northeast",
           1
          ],
          [
           "northeast",
           0
          ],
          [
           "northwest",
           4
          ],
          [
           "southwest",
           0
          ],
          [
           "northwest",
           0
          ],
          [
           "northwest",
           0
          ],
          [
           "southeast",
           0
          ],
          [
           "northwest",
           1
          ],
          [
           "northwest",
           2
          ],
          [
           "southeast",
           1
          ],
          [
           "southwest",
           3
          ],
          [
           "southeast",
           0
          ],
          [
           "southwest",
           0
          ],
          [
           "northeast",
           0
          ],
          [
           "northeast",
           0
          ],
          [
           "southwest",
           1
          ],
          [
           "southwest",
           1
          ],
          [
           "northwest",
           2
          ],
          [
           "southeast",
           0
          ],
          [
           "northwest",
           1
          ],
          [
           "southwest",
           2
          ],
          [
           "southwest",
           0
          ],
          [
           "northwest",
           0
          ],
          [
           "northeast",
           3
          ],
          [
           "northeast",
           0
          ],
          [
           "southeast",
           0
          ],
          [
           "southeast",
           0
          ],
          [
           "northwest",
           2
          ],
          [
           "southwest",
           2
          ],
          [
           "northeast",
           0
          ],
          [
           "northwest",
           0
          ],
          [
           "northwest",
           3
          ],
          [
           "northeast",
           0
          ],
          [
           "southwest",
           0
          ],
          [
           "southwest",
           2
          ],
          [
           "northeast",
           0
          ],
          [
           "northeast",
           0
          ],
          [
           "southwest",
           2
          ],
          [
           "northwest",
           0
          ],
          [
           "northeast",
           0
          ],
          [
           "southeast",
           0
          ],
          [
           "southwest",
           0
          ],
          [
           "northwest",
           0
          ],
          [
           "southeast",
           3
          ],
          [
           "southwest",
           0
          ],
          [
           "northeast",
           2
          ],
          [
           "northeast",
           1
          ],
          [
           "northwest",
           2
          ],
          [
           "southeast",
           3
          ],
          [
           "southeast",
           1
          ],
          [
           "northwest",
           1
          ],
          [
           "southwest",
           1
          ],
          [
           "northwest",
           1
          ],
          [
           "southeast",
           0
          ],
          [
           "northeast",
           3
          ],
          [
           "northeast",
           1
          ],
          [
           "northwest",
           0
          ],
          [
           "southeast",
           3
          ],
          [
           "southwest",
           1
          ],
          [
           "southwest",
           2
          ],
          [
           "northwest",
           0
          ],
          [
           "northeast",
           4
          ],
          [
           "southwest",
           5
          ],
          [
           "northwest",
           3
          ],
          [
           "northwest",
           1
          ],
          [
           "northeast",
           3
          ],
          [
           "southeast",
           0
          ],
          [
           "southwest",
           0
          ],
          [
           "northeast",
           0
          ],
          [
           "southwest",
           1
          ],
          [
           "northwest",
           0
          ],
          [
           "northwest",
           2
          ],
          [
           "southwest",
           1
          ],
          [
           "southwest",
           2
          ],
          [
           "northeast",
           3
          ],
          [
           "northwest",
           0
          ],
          [
           "southeast",
           0
          ],
          [
           "northeast",
           3
          ],
          [
           "northwest",
           0
          ],
          [
           "southeast",
           2
          ],
          [
           "southeast",
           2
          ],
          [
           "southwest",
           3
          ],
          [
           "southwest",
           1
          ],
          [
           "northwest",
           2
          ],
          [
           "southeast",
           0
          ],
          [
           "southwest",
           0
          ],
          [
           "southeast",
           0
          ],
          [
           "northwest",
           1
          ],
          [
           "southeast",
           0
          ],
          [
           "northwest",
           0
          ],
          [
           "southwest",
           0
          ],
          [
           "southeast",
           2
          ],
          [
           "northwest",
           0
          ],
          [
           "northeast",
           0
          ],
          [
           "northwest",
           0
          ],
          [
           "southeast",
           1
          ],
          [
           "northwest",
           0
          ],
          [
           "southwest",
           0
          ],
          [
           "northeast",
           1
          ],
          [
           "southeast",
           0
          ],
          [
           "southwest",
           0
          ],
          [
           "northeast",
           1
          ],
          [
           "southwest",
           1
          ],
          [
           "northwest",
           4
          ],
          [
           "northwest",
           2
          ],
          [
           "southeast",
           1
          ],
          [
           "southwest",
           2
          ],
          [
           "southwest",
           2
          ],
          [
           "northwest",
           0
          ],
          [
           "southeast",
           0
          ],
          [
           "southeast",
           1
          ],
          [
           "southeast",
           0
          ],
          [
           "southwest",
           1
          ],
          [
           "northeast",
           0
          ],
          [
           "southwest",
           3
          ],
          [
           "southeast",
           3
          ],
          [
           "southeast",
           0
          ],
          [
           "southeast",
           0
          ],
          [
           "northeast",
           1
          ],
          [
           "northeast",
           2
          ],
          [
           "northwest",
           1
          ],
          [
           "southeast",
           3
          ],
          [
           "southwest",
           0
          ],
          [
           "southwest",
           1
          ],
          [
           "northwest",
           2
          ],
          [
           "southeast",
           0
          ],
          [
           "southeast",
           2
          ],
          [
           "southeast",
           1
          ],
          [
           "northeast",
           1
          ],
          [
           "southwest",
           1
          ],
          [
           "southwest",
           3
          ],
          [
           "northwest",
           0
          ],
          [
           "southeast",
           0
          ],
          [
           "southeast",
           0
          ],
          [
           "southwest",
           1
          ],
          [
           "northeast",
           1
          ],
          [
           "southwest",
           3
          ],
          [
           "northeast",
           3
          ],
          [
           "southeast",
           0
          ],
          [
           "northwest",
           4
          ],
          [
           "southwest",
           0
          ],
          [
           "southeast",
           3
          ],
          [
           "northeast",
           3
          ],
          [
           "southwest",
           1
          ],
          [
           "northeast",
           1
          ],
          [
           "southeast",
           1
          ],
          [
           "northwest",
           2
          ],
          [
           "northeast",
           1
          ],
          [
           "northwest",
           0
          ],
          [
           "northeast",
           2
          ],
          [
           "northwest",
           2
          ],
          [
           "southwest",
           0
          ],
          [
           "southeast",
           2
          ],
          [
           "southeast",
           1
          ],
          [
           "northeast",
           1
          ],
          [
           "northeast",
           1
          ],
          [
           "southwest",
           0
          ],
          [
           "southeast",
           1
          ],
          [
           "northeast",
           2
          ],
          [
           "northwest",
           0
          ],
          [
           "southeast",
           3
          ],
          [
           "southwest",
           0
          ],
          [
           "northeast",
           1
          ],
          [
           "southeast",
           0
          ],
          [
           "southwest",
           3
          ],
          [
           "northeast",
           0
          ],
          [
           "northwest",
           1
          ],
          [
           "northeast",
           3
          ],
          [
           "southeast",
           2
          ],
          [
           "southeast",
           2
          ],
          [
           "southwest",
           2
          ],
          [
           "northwest",
           2
          ],
          [
           "southwest",
           2
          ],
          [
           "southeast",
           1
          ],
          [
           "northeast",
           0
          ],
          [
           "northwest",
           2
          ],
          [
           "southwest",
           0
          ],
          [
           "southwest",
           0
          ],
          [
           "southeast",
           0
          ],
          [
           "northeast",
           0
          ],
          [
           "northwest",
           0
          ],
          [
           "northeast",
           0
          ],
          [
           "northwest",
           0
          ],
          [
           "northeast",
           1
          ],
          [
           "northwest",
           1
          ],
          [
           "northeast",
           4
          ],
          [
           "northeast",
           0
          ],
          [
           "southwest",
           0
          ],
          [
           "northeast",
           1
          ],
          [
           "southeast",
           1
          ],
          [
           "southwest",
           0
          ],
          [
           "northwest",
           0
          ],
          [
           "northeast",
           0
          ],
          [
           "northeast",
           2
          ],
          [
           "southwest",
           0
          ],
          [
           "southeast",
           0
          ],
          [
           "northwest",
           1
          ],
          [
           "southeast",
           1
          ],
          [
           "southwest",
           0
          ],
          [
           "northwest",
           0
          ],
          [
           "northeast",
           0
          ],
          [
           "northeast",
           0
          ],
          [
           "southeast",
           4
          ],
          [
           "southeast",
           3
          ],
          [
           "southeast",
           2
          ],
          [
           "northeast",
           1
          ],
          [
           "southeast",
           1
          ],
          [
           "northwest",
           0
          ],
          [
           "northwest",
           0
          ],
          [
           "southwest",
           0
          ],
          [
           "southwest",
           0
          ],
          [
           "northeast",
           0
          ],
          [
           "southeast",
           0
          ],
          [
           "southwest",
           0
          ],
          [
           "southeast",
           3
          ],
          [
           "northwest",
           3
          ],
          [
           "southeast",
           0
          ],
          [
           "southeast",
           0
          ],
          [
           "northeast",
           2
          ],
          [
           "southwest",
           1
          ],
          [
           "southwest",
           1
          ],
          [
           "southeast",
           2
          ],
          [
           "northeast",
           1
          ],
          [
           "northeast",
           3
          ],
          [
           "northwest",
           2
          ],
          [
           "northwest",
           2
          ],
          [
           "northeast",
           3
          ],
          [
           "northwest",
           0
          ],
          [
           "northeast",
           0
          ],
          [
           "northeast",
           1
          ],
          [
           "southeast",
           0
          ],
          [
           "northwest",
           3
          ],
          [
           "southeast",
           1
          ],
          [
           "southeast",
           0
          ],
          [
           "southeast",
           2
          ],
          [
           "northeast",
           2
          ],
          [
           "southwest",
           0
          ],
          [
           "southeast",
           0
          ],
          [
           "northwest",
           2
          ],
          [
           "northwest",
           0
          ],
          [
           "northwest",
           3
          ],
          [
           "northeast",
           4
          ],
          [
           "northwest",
           0
          ],
          [
           "northeast",
           1
          ],
          [
           "northeast",
           1
          ],
          [
           "northeast",
           2
          ],
          [
           "northwest",
           0
          ],
          [
           "southwest",
           3
          ],
          [
           "southeast",
           0
          ],
          [
           "southwest",
           2
          ],
          [
           "southeast",
           0
          ],
          [
           "southwest",
           0
          ],
          [
           "southeast",
           1
          ],
          [
           "northwest",
           0
          ],
          [
           "northwest",
           3
          ],
          [
           "southwest",
           0
          ],
          [
           "northeast",
           2
          ],
          [
           "southeast",
           0
          ],
          [
           "southwest",
           1
          ],
          [
           "southeast",
           3
          ],
          [
           "southeast",
           1
          ],
          [
           "northwest",
           0
          ],
          [
           "southwest",
           5
          ],
          [
           "northwest",
           0
          ],
          [
           "southeast",
           1
          ],
          [
           "southeast",
           0
          ],
          [
           "southeast",
           1
          ],
          [
           "northeast",
           0
          ],
          [
           "southwest",
           2
          ],
          [
           "southeast",
           5
          ],
          [
           "northeast",
           1
          ],
          [
           "northeast",
           0
          ],
          [
           "northeast",
           1
          ],
          [
           "northwest",
           3
          ],
          [
           "southwest",
           0
          ],
          [
           "northwest",
           2
          ],
          [
           "southwest",
           0
          ],
          [
           "southwest",
           0
          ],
          [
           "northwest",
           1
          ],
          [
           "southeast",
           3
          ],
          [
           "northeast",
           0
          ],
          [
           "southwest",
           3
          ],
          [
           "southeast",
           5
          ],
          [
           "northeast",
           0
          ],
          [
           "northwest",
           1
          ],
          [
           "southeast",
           0
          ],
          [
           "southeast",
           1
          ],
          [
           "southwest",
           0
          ],
          [
           "northeast",
           0
          ],
          [
           "northwest",
           0
          ],
          [
           "southwest",
           0
          ],
          [
           "southwest",
           1
          ],
          [
           "southwest",
           4
          ],
          [
           "northwest",
           1
          ],
          [
           "southwest",
           0
          ],
          [
           "northwest",
           0
          ],
          [
           "southeast",
           2
          ],
          [
           "southwest",
           0
          ],
          [
           "southeast",
           2
          ],
          [
           "northwest",
           0
          ],
          [
           "southwest",
           0
          ],
          [
           "southeast",
           3
          ],
          [
           "southeast",
           3
          ],
          [
           "northeast",
           2
          ],
          [
           "northeast",
           0
          ],
          [
           "northwest",
           0
          ],
          [
           "southwest",
           1
          ],
          [
           "northwest",
           2
          ],
          [
           "northeast",
           1
          ],
          [
           "southeast",
           1
          ],
          [
           "southeast",
           0
          ],
          [
           "northeast",
           0
          ],
          [
           "southwest",
           0
          ],
          [
           "northeast",
           0
          ],
          [
           "northwest",
           0
          ],
          [
           "southeast",
           0
          ],
          [
           "southeast",
           0
          ],
          [
           "northwest",
           3
          ],
          [
           "southeast",
           2
          ],
          [
           "southeast",
           0
          ],
          [
           "southwest",
           1
          ],
          [
           "southwest",
           3
          ],
          [
           "northeast",
           0
          ],
          [
           "northwest",
           3
          ],
          [
           "southwest",
           0
          ],
          [
           "northwest",
           1
          ],
          [
           "southwest",
           0
          ],
          [
           "southeast",
           0
          ],
          [
           "northeast",
           0
          ],
          [
           "southwest",
           0
          ],
          [
           "northeast",
           0
          ],
          [
           "southwest",
           2
          ],
          [
           "southwest",
           2
          ],
          [
           "southeast",
           2
          ],
          [
           "southwest",
           0
          ],
          [
           "northeast",
           0
          ],
          [
           "southeast",
           1
          ],
          [
           "northwest",
           3
          ],
          [
           "northwest",
           1
          ],
          [
           "northwest",
           2
          ],
          [
           "northeast",
           0
          ],
          [
           "southwest",
           0
          ],
          [
           "northeast",
           1
          ],
          [
           "southeast",
           0
          ],
          [
           "northeast",
           0
          ],
          [
           "southwest",
           0
          ],
          [
           "southwest",
           0
          ],
          [
           "southeast",
           1
          ],
          [
           "northwest",
           2
          ],
          [
           "southwest",
           1
          ],
          [
           "northeast",
           0
          ],
          [
           "northeast",
           0
          ],
          [
           "southeast",
           0
          ],
          [
           "northeast",
           0
          ],
          [
           "southeast",
           0
          ],
          [
           "southeast",
           0
          ],
          [
           "northwest",
           2
          ],
          [
           "southwest",
           1
          ],
          [
           "northeast",
           1
          ],
          [
           "northeast",
           0
          ],
          [
           "northeast",
           0
          ],
          [
           "southeast",
           2
          ],
          [
           "southeast",
           0
          ],
          [
           "southeast",
           0
          ],
          [
           "northeast",
           1
          ],
          [
           "southwest",
           3
          ],
          [
           "southwest",
           2
          ],
          [
           "southeast",
           1
          ],
          [
           "southeast",
           0
          ],
          [
           "southwest",
           3
          ],
          [
           "southeast",
           2
          ],
          [
           "southeast",
           0
          ],
          [
           "northwest",
           0
          ],
          [
           "northeast",
           0
          ],
          [
           "southwest",
           2
          ],
          [
           "northeast",
           0
          ],
          [
           "southwest",
           0
          ],
          [
           "southeast",
           0
          ],
          [
           "southwest",
           0
          ],
          [
           "northwest",
           2
          ],
          [
           "northeast",
           0
          ],
          [
           "southwest",
           2
          ],
          [
           "northeast",
           1
          ],
          [
           "southeast",
           0
          ],
          [
           "northwest",
           0
          ],
          [
           "northwest",
           2
          ],
          [
           "northeast",
           0
          ],
          [
           "southwest",
           0
          ],
          [
           "southeast",
           1
          ],
          [
           "southeast",
           2
          ],
          [
           "northwest",
           0
          ],
          [
           "northwest",
           1
          ],
          [
           "northwest",
           2
          ],
          [
           "southwest",
           5
          ],
          [
           "southwest",
           0
          ],
          [
           "southeast",
           1
          ],
          [
           "southeast",
           2
          ],
          [
           "northeast",
           1
          ],
          [
           "northeast",
           2
          ],
          [
           "northwest",
           0
          ],
          [
           "southeast",
           0
          ],
          [
           "southwest",
           1
          ],
          [
           "northeast",
           0
          ],
          [
           "northeast",
           1
          ],
          [
           "northwest",
           0
          ],
          [
           "southeast",
           2
          ],
          [
           "southeast",
           1
          ],
          [
           "southwest",
           0
          ],
          [
           "southeast",
           1
          ],
          [
           "northeast",
           3
          ],
          [
           "northeast",
           0
          ],
          [
           "southeast",
           1
          ],
          [
           "southwest",
           0
          ],
          [
           "northwest",
           1
          ],
          [
           "southeast",
           2
          ],
          [
           "southeast",
           0
          ],
          [
           "northeast",
           1
          ],
          [
           "southeast",
           2
          ],
          [
           "northeast",
           1
          ],
          [
           "southwest",
           2
          ],
          [
           "northwest",
           2
          ],
          [
           "southeast",
           0
          ],
          [
           "northwest",
           0
          ],
          [
           "southwest",
           0
          ],
          [
           "southeast",
           3
          ],
          [
           "southeast",
           0
          ],
          [
           "northeast",
           0
          ],
          [
           "northeast",
           2
          ],
          [
           "southeast",
           1
          ],
          [
           "southwest",
           2
          ],
          [
           "northeast",
           0
          ],
          [
           "northeast",
           3
          ],
          [
           "southeast",
           0
          ],
          [
           "northeast",
           0
          ],
          [
           "southwest",
           0
          ],
          [
           "southwest",
           1
          ],
          [
           "southwest",
           1
          ],
          [
           "northwest",
           0
          ],
          [
           "northwest",
           0
          ],
          [
           "northeast",
           3
          ],
          [
           "southeast",
           1
          ],
          [
           "southwest",
           0
          ],
          [
           "southwest",
           1
          ],
          [
           "southwest",
           0
          ],
          [
           "southeast",
           0
          ],
          [
           "northeast",
           2
          ],
          [
           "southwest",
           1
          ],
          [
           "northeast",
           0
          ],
          [
           "northwest",
           1
          ],
          [
           "northeast",
           2
          ],
          [
           "southeast",
           4
          ],
          [
           "southwest",
           5
          ],
          [
           "northeast",
           0
          ],
          [
           "northwest",
           3
          ],
          [
           "southeast",
           2
          ],
          [
           "northeast",
           3
          ],
          [
           "northwest",
           1
          ],
          [
           "northeast",
           3
          ],
          [
           "northeast",
           0
          ],
          [
           "northeast",
           0
          ],
          [
           "southeast",
           2
          ],
          [
           "southeast",
           1
          ],
          [
           "southeast",
           0
          ],
          [
           "southeast",
           2
          ],
          [
           "southeast",
           0
          ],
          [
           "southwest",
           1
          ],
          [
           "northwest",
           2
          ],
          [
           "northeast",
           1
          ],
          [
           "northeast",
           4
          ],
          [
           "southeast",
           3
          ],
          [
           "southeast",
           1
          ],
          [
           "northeast",
           1
          ],
          [
           "southeast",
           0
          ],
          [
           "southwest",
           1
          ],
          [
           "southeast",
           1
          ],
          [
           "southeast",
           3
          ],
          [
           "northeast",
           0
          ],
          [
           "southeast",
           0
          ],
          [
           "southeast",
           0
          ],
          [
           "northwest",
           0
          ],
          [
           "southeast",
           3
          ],
          [
           "southwest",
           3
          ],
          [
           "northwest",
           2
          ],
          [
           "southwest",
           1
          ],
          [
           "southwest",
           0
          ],
          [
           "northwest",
           0
          ],
          [
           "southwest",
           1
          ],
          [
           "northeast",
           2
          ],
          [
           "northeast",
           2
          ],
          [
           "southeast",
           0
          ],
          [
           "southwest",
           1
          ],
          [
           "northeast",
           0
          ],
          [
           "southwest",
           1
          ],
          [
           "northwest",
           1
          ],
          [
           "northwest",
           0
          ],
          [
           "southwest",
           1
          ],
          [
           "northwest",
           0
          ],
          [
           "northeast",
           2
          ],
          [
           "northwest",
           0
          ],
          [
           "southeast",
           2
          ],
          [
           "southeast",
           0
          ],
          [
           "northeast",
           0
          ],
          [
           "southeast",
           0
          ],
          [
           "northwest",
           1
          ],
          [
           "northwest",
           1
          ],
          [
           "southwest",
           2
          ],
          [
           "northwest",
           3
          ],
          [
           "northeast",
           3
          ],
          [
           "northeast",
           0
          ],
          [
           "southeast",
           1
          ],
          [
           "southeast",
           2
          ],
          [
           "northwest",
           2
          ],
          [
           "northeast",
           0
          ],
          [
           "southwest",
           0
          ],
          [
           "southwest",
           0
          ],
          [
           "northwest",
           1
          ],
          [
           "northwest",
           1
          ],
          [
           "northwest",
           2
          ],
          [
           "northwest",
           0
          ],
          [
           "northeast",
           0
          ],
          [
           "southwest",
           3
          ],
          [
           "southwest",
           0
          ],
          [
           "southwest",
           0
          ],
          [
           "northeast",
           1
          ],
          [
           "northwest",
           1
          ],
          [
           "northeast",
           0
          ],
          [
           "southeast",
           1
          ],
          [
           "southwest",
           1
          ],
          [
           "southwest",
           3
          ],
          [
           "northeast",
           1
          ],
          [
           "southwest",
           3
          ],
          [
           "northwest",
           1
          ],
          [
           "southwest",
           2
          ],
          [
           "northeast",
           2
          ],
          [
           "southeast",
           0
          ],
          [
           "northwest",
           0
          ],
          [
           "northwest",
           1
          ],
          [
           "southwest",
           2
          ],
          [
           "northwest",
           0
          ],
          [
           "southwest",
           1
          ],
          [
           "northwest",
           0
          ],
          [
           "northwest",
           0
          ],
          [
           "northwest",
           0
          ],
          [
           "southeast",
           0
          ],
          [
           "northeast",
           4
          ],
          [
           "northeast",
           2
          ],
          [
           "northeast",
           3
          ],
          [
           "northeast",
           3
          ],
          [
           "northeast",
           2
          ],
          [
           "southwest",
           1
          ],
          [
           "northeast",
           0
          ],
          [
           "northeast",
           2
          ],
          [
           "northwest",
           0
          ],
          [
           "southwest",
           1
          ],
          [
           "southwest",
           1
          ],
          [
           "southwest",
           0
          ],
          [
           "northwest",
           2
          ],
          [
           "southwest",
           3
          ],
          [
           "southwest",
           2
          ],
          [
           "northeast",
           0
          ],
          [
           "northwest",
           2
          ],
          [
           "southeast",
           3
          ],
          [
           "northwest",
           2
          ],
          [
           "northeast",
           0
          ],
          [
           "southeast",
           3
          ],
          [
           "northwest",
           0
          ],
          [
           "southeast",
           0
          ],
          [
           "southeast",
           1
          ],
          [
           "southeast",
           1
          ],
          [
           "southwest",
           3
          ],
          [
           "northeast",
           0
          ],
          [
           "northwest",
           0
          ],
          [
           "northeast",
           3
          ],
          [
           "southeast",
           0
          ],
          [
           "southeast",
           0
          ],
          [
           "southwest",
           0
          ],
          [
           "northeast",
           0
          ],
          [
           "northwest",
           2
          ],
          [
           "southeast",
           2
          ],
          [
           "northeast",
           1
          ],
          [
           "southwest",
           0
          ],
          [
           "southeast",
           1
          ],
          [
           "southeast",
           0
          ],
          [
           "southwest",
           1
          ],
          [
           "southeast",
           0
          ],
          [
           "northwest",
           0
          ],
          [
           "northwest",
           1
          ],
          [
           "northwest",
           0
          ],
          [
           "southeast",
           0
          ],
          [
           "northeast",
           1
          ],
          [
           "southwest",
           3
          ],
          [
           "northwest",
           3
          ],
          [
           "southeast",
           2
          ],
          [
           "northeast",
           2
          ],
          [
           "southeast",
           2
          ],
          [
           "southeast",
           0
          ],
          [
           "northwest",
           0
          ],
          [
           "southwest",
           3
          ],
          [
           "southwest",
           1
          ],
          [
           "northwest",
           0
          ],
          [
           "southeast",
           0
          ],
          [
           "southeast",
           2
          ],
          [
           "northwest",
           0
          ],
          [
           "northeast",
           2
          ],
          [
           "northwest",
           1
          ],
          [
           "southwest",
           0
          ],
          [
           "northwest",
           0
          ],
          [
           "northwest",
           2
          ],
          [
           "northwest",
           0
          ],
          [
           "northwest",
           1
          ],
          [
           "southeast",
           2
          ],
          [
           "southwest",
           0
          ],
          [
           "northeast",
           0
          ],
          [
           "northeast",
           2
          ],
          [
           "northwest",
           0
          ],
          [
           "southwest",
           0
          ],
          [
           "northeast",
           0
          ],
          [
           "northeast",
           0
          ],
          [
           "southwest",
           1
          ],
          [
           "southeast",
           1
          ],
          [
           "southwest",
           0
          ],
          [
           "northwest",
           0
          ],
          [
           "northwest",
           2
          ],
          [
           "northeast",
           2
          ],
          [
           "southwest",
           0
          ],
          [
           "southeast",
           1
          ],
          [
           "southwest",
           0
          ],
          [
           "southwest",
           3
          ],
          [
           "northwest",
           2
          ],
          [
           "northeast",
           0
          ],
          [
           "southwest",
           0
          ],
          [
           "southwest",
           2
          ],
          [
           "southeast",
           0
          ],
          [
           "southwest",
           1
          ],
          [
           "northeast",
           0
          ],
          [
           "southwest",
           3
          ],
          [
           "southwest",
           0
          ],
          [
           "southeast",
           1
          ],
          [
           "southeast",
           0
          ],
          [
           "southwest",
           1
          ],
          [
           "northeast",
           3
          ],
          [
           "northwest",
           0
          ],
          [
           "southwest",
           1
          ],
          [
           "southeast",
           5
          ],
          [
           "southwest",
           1
          ],
          [
           "southwest",
           2
          ],
          [
           "southwest",
           3
          ],
          [
           "northwest",
           1
          ],
          [
           "northeast",
           0
          ],
          [
           "northwest",
           4
          ],
          [
           "northwest",
           0
          ],
          [
           "southwest",
           0
          ],
          [
           "northwest",
           1
          ],
          [
           "southeast",
           4
          ],
          [
           "northeast",
           0
          ],
          [
           "northeast",
           0
          ],
          [
           "southwest",
           0
          ],
          [
           "northwest",
           1
          ],
          [
           "southeast",
           0
          ],
          [
           "northwest",
           0
          ],
          [
           "northeast",
           0
          ],
          [
           "northeast",
           3
          ],
          [
           "southeast",
           0
          ],
          [
           "southwest",
           0
          ],
          [
           "northeast",
           2
          ],
          [
           "northeast",
           3
          ],
          [
           "southeast",
           1
          ],
          [
           "southwest",
           3
          ],
          [
           "northwest",
           1
          ],
          [
           "northwest",
           3
          ],
          [
           "southwest",
           1
          ],
          [
           "northwest",
           2
          ],
          [
           "southeast",
           0
          ],
          [
           "southwest",
           0
          ],
          [
           "southeast",
           1
          ],
          [
           "southwest",
           0
          ],
          [
           "southwest",
           0
          ],
          [
           "southwest",
           1
          ],
          [
           "northwest",
           0
          ],
          [
           "southwest",
           0
          ],
          [
           "northeast",
           2
          ],
          [
           "southwest",
           2
          ],
          [
           "southwest",
           1
          ],
          [
           "southeast",
           0
          ],
          [
           "southeast",
           1
          ],
          [
           "southeast",
           1
          ],
          [
           "southwest",
           1
          ],
          [
           "southwest",
           5
          ],
          [
           "southwest",
           0
          ],
          [
           "southeast",
           2
          ],
          [
           "southwest",
           0
          ],
          [
           "northeast",
           2
          ],
          [
           "northwest",
           5
          ],
          [
           "southeast",
           2
          ],
          [
           "southeast",
           0
          ],
          [
           "southeast",
           0
          ],
          [
           "southeast",
           1
          ],
          [
           "northeast",
           0
          ],
          [
           "northwest",
           0
          ],
          [
           "southeast",
           0
          ],
          [
           "southwest",
           1
          ],
          [
           "southwest",
           2
          ],
          [
           "northwest",
           0
          ],
          [
           "northeast",
           0
          ],
          [
           "northwest",
           1
          ],
          [
           "southeast",
           1
          ],
          [
           "northwest",
           1
          ],
          [
           "northwest",
           1
          ],
          [
           "northwest",
           1
          ],
          [
           "southwest",
           0
          ],
          [
           "southeast",
           1
          ],
          [
           "northeast",
           3
          ],
          [
           "northwest",
           2
          ],
          [
           "southwest",
           1
          ],
          [
           "northwest",
           1
          ],
          [
           "northeast",
           2
          ],
          [
           "southeast",
           5
          ],
          [
           "southeast",
           3
          ],
          [
           "northeast",
           0
          ],
          [
           "northwest",
           0
          ],
          [
           "southwest",
           0
          ],
          [
           "southeast",
           0
          ],
          [
           "southeast",
           0
          ],
          [
           "southeast",
           1
          ],
          [
           "northeast",
           3
          ],
          [
           "southeast",
           0
          ],
          [
           "northeast",
           1
          ],
          [
           "northeast",
           0
          ],
          [
           "northeast",
           1
          ],
          [
           "northeast",
           5
          ],
          [
           "southwest",
           1
          ],
          [
           "northwest",
           3
          ],
          [
           "northwest",
           1
          ],
          [
           "northeast",
           0
          ],
          [
           "southwest",
           1
          ],
          [
           "northeast",
           2
          ],
          [
           "southwest",
           2
          ],
          [
           "southeast",
           1
          ],
          [
           "northeast",
           3
          ],
          [
           "southwest",
           3
          ],
          [
           "southeast",
           0
          ],
          [
           "northeast",
           3
          ],
          [
           "northwest",
           0
          ],
          [
           "southwest",
           0
          ],
          [
           "southwest",
           0
          ],
          [
           "northeast",
           1
          ],
          [
           "northwest",
           2
          ],
          [
           "northeast",
           2
          ],
          [
           "northeast",
           2
          ],
          [
           "northeast",
           1
          ],
          [
           "southwest",
           0
          ],
          [
           "southeast",
           4
          ],
          [
           "northwest",
           1
          ],
          [
           "southwest",
           0
          ],
          [
           "northwest",
           0
          ],
          [
           "northwest",
           1
          ],
          [
           "southwest",
           2
          ],
          [
           "northwest",
           3
          ],
          [
           "northwest",
           2
          ],
          [
           "southwest",
           0
          ],
          [
           "southeast",
           1
          ],
          [
           "southeast",
           1
          ],
          [
           "southwest",
           0
          ],
          [
           "northwest",
           0
          ],
          [
           "southwest",
           0
          ],
          [
           "northeast",
           2
          ],
          [
           "northeast",
           0
          ],
          [
           "northwest",
           0
          ],
          [
           "southwest",
           3
          ],
          [
           "northeast",
           0
          ],
          [
           "northwest",
           2
          ],
          [
           "northeast",
           0
          ],
          [
           "southwest",
           0
          ],
          [
           "northeast",
           1
          ],
          [
           "northeast",
           0
          ],
          [
           "northwest",
           1
          ],
          [
           "northwest",
           1
          ],
          [
           "northeast",
           0
          ],
          [
           "northeast",
           1
          ],
          [
           "northwest",
           0
          ],
          [
           "northwest",
           0
          ],
          [
           "southwest",
           0
          ],
          [
           "southeast",
           0
          ],
          [
           "southeast",
           0
          ],
          [
           "northwest",
           1
          ],
          [
           "southeast",
           0
          ],
          [
           "southeast",
           1
          ],
          [
           "northwest",
           3
          ],
          [
           "southwest",
           4
          ],
          [
           "southwest",
           1
          ],
          [
           "southeast",
           2
          ],
          [
           "northeast",
           0
          ],
          [
           "northwest",
           1
          ],
          [
           "southeast",
           1
          ],
          [
           "northeast",
           0
          ],
          [
           "northwest",
           0
          ],
          [
           "northeast",
           2
          ],
          [
           "northeast",
           0
          ],
          [
           "southeast",
           1
          ],
          [
           "southwest",
           1
          ],
          [
           "northeast",
           0
          ],
          [
           "southeast",
           3
          ],
          [
           "southeast",
           2
          ],
          [
           "northwest",
           1
          ],
          [
           "northwest",
           1
          ],
          [
           "southwest",
           1
          ],
          [
           "northwest",
           2
          ],
          [
           "northeast",
           0
          ],
          [
           "northwest",
           0
          ],
          [
           "southeast",
           1
          ],
          [
           "southwest",
           0
          ],
          [
           "northeast",
           0
          ],
          [
           "southwest",
           3
          ],
          [
           "southwest",
           4
          ],
          [
           "northeast",
           4
          ],
          [
           "southeast",
           0
          ],
          [
           "northeast",
           0
          ],
          [
           "southeast",
           1
          ],
          [
           "southwest",
           3
          ],
          [
           "southeast",
           1
          ],
          [
           "southeast",
           0
          ],
          [
           "southwest",
           0
          ],
          [
           "southeast",
           0
          ],
          [
           "northwest",
           0
          ],
          [
           "northwest",
           2
          ],
          [
           "southwest",
           1
          ],
          [
           "southeast",
           3
          ],
          [
           "northeast",
           1
          ],
          [
           "northwest",
           3
          ],
          [
           "northeast",
           0
          ],
          [
           "southeast",
           1
          ],
          [
           "northeast",
           5
          ],
          [
           "northwest",
           3
          ],
          [
           "southeast",
           2
          ],
          [
           "northeast",
           1
          ],
          [
           "northwest",
           0
          ],
          [
           "southwest",
           0
          ],
          [
           "southeast",
           2
          ],
          [
           "southwest",
           1
          ],
          [
           "southwest",
           0
          ],
          [
           "southeast",
           5
          ],
          [
           "southwest",
           2
          ],
          [
           "northeast",
           0
          ],
          [
           "northwest",
           0
          ],
          [
           "northwest",
           0
          ],
          [
           "northwest",
           3
          ],
          [
           "southwest",
           1
          ],
          [
           "northwest",
           0
          ],
          [
           "southeast",
           0
          ],
          [
           "southeast",
           1
          ],
          [
           "southwest",
           3
          ],
          [
           "southeast",
           0
          ],
          [
           "southeast",
           2
          ],
          [
           "southwest",
           2
          ],
          [
           "northwest",
           3
          ],
          [
           "northwest",
           0
          ],
          [
           "southwest",
           1
          ],
          [
           "southwest",
           0
          ],
          [
           "northeast",
           0
          ],
          [
           "northwest",
           0
          ],
          [
           "northwest",
           1
          ],
          [
           "northwest",
           4
          ],
          [
           "northeast",
           3
          ],
          [
           "northwest",
           2
          ],
          [
           "northeast",
           0
          ],
          [
           "southwest",
           0
          ],
          [
           "northwest",
           1
          ],
          [
           "southeast",
           2
          ],
          [
           "southeast",
           1
          ],
          [
           "northeast",
           0
          ],
          [
           "northwest",
           1
          ],
          [
           "northeast",
           0
          ],
          [
           "southeast",
           0
          ],
          [
           "southwest",
           2
          ],
          [
           "southwest",
           2
          ],
          [
           "northwest",
           1
          ],
          [
           "southeast",
           0
          ],
          [
           "northwest",
           2
          ],
          [
           "northwest",
           2
          ],
          [
           "southwest",
           0
          ],
          [
           "southwest",
           1
          ],
          [
           "northeast",
           0
          ],
          [
           "northeast",
           1
          ],
          [
           "northwest",
           0
          ],
          [
           "southwest",
           0
          ],
          [
           "northeast",
           1
          ],
          [
           "northeast",
           2
          ],
          [
           "northwest",
           0
          ],
          [
           "southwest",
           0
          ],
          [
           "northwest",
           2
          ],
          [
           "northeast",
           1
          ],
          [
           "northeast",
           1
          ],
          [
           "northwest",
           0
          ],
          [
           "northwest",
           0
          ],
          [
           "northwest",
           3
          ],
          [
           "southeast",
           0
          ],
          [
           "northwest",
           1
          ],
          [
           "southwest",
           2
          ],
          [
           "northwest",
           2
          ],
          [
           "northwest",
           2
          ],
          [
           "northwest",
           0
          ],
          [
           "northeast",
           1
          ],
          [
           "northwest",
           1
          ],
          [
           "southwest",
           2
          ],
          [
           "southwest",
           1
          ],
          [
           "northwest",
           1
          ],
          [
           "southeast",
           2
          ],
          [
           "northeast",
           0
          ],
          [
           "southwest",
           2
          ],
          [
           "northwest",
           1
          ],
          [
           "northeast",
           0
          ],
          [
           "southeast",
           0
          ],
          [
           "southeast",
           2
          ],
          [
           "northwest",
           3
          ],
          [
           "northeast",
           1
          ],
          [
           "southeast",
           2
          ],
          [
           "southeast",
           0
          ],
          [
           "northeast",
           1
          ],
          [
           "southeast",
           1
          ],
          [
           "northeast",
           2
          ],
          [
           "southeast",
           2
          ],
          [
           "southeast",
           0
          ],
          [
           "northeast",
           0
          ],
          [
           "northwest",
           3
          ],
          [
           "southwest",
           0
          ],
          [
           "southeast",
           2
          ],
          [
           "northwest",
           0
          ],
          [
           "northeast",
           0
          ],
          [
           "northwest",
           0
          ],
          [
           "northeast",
           3
          ],
          [
           "southeast",
           1
          ],
          [
           "northwest",
           3
          ],
          [
           "southeast",
           0
          ],
          [
           "southeast",
           0
          ],
          [
           "southwest",
           5
          ],
          [
           "southwest",
           3
          ],
          [
           "southwest",
           4
          ],
          [
           "southeast",
           0
          ],
          [
           "southwest",
           0
          ],
          [
           "southwest",
           4
          ],
          [
           "southeast",
           0
          ],
          [
           "southwest",
           0
          ],
          [
           "northwest",
           3
          ],
          [
           "northwest",
           1
          ],
          [
           "northwest",
           3
          ],
          [
           "northeast",
           0
          ],
          [
           "northeast",
           0
          ],
          [
           "southwest",
           1
          ],
          [
           "southeast",
           1
          ],
          [
           "southwest",
           1
          ],
          [
           "northeast",
           2
          ],
          [
           "southwest",
           0
          ],
          [
           "southwest",
           0
          ],
          [
           "southwest",
           3
          ],
          [
           "northwest",
           1
          ],
          [
           "northwest",
           0
          ],
          [
           "southeast",
           5
          ],
          [
           "southeast",
           1
          ],
          [
           "southwest",
           0
          ],
          [
           "northeast",
           0
          ],
          [
           "northwest",
           0
          ],
          [
           "northwest",
           2
          ],
          [
           "southeast",
           0
          ],
          [
           "southeast",
           1
          ],
          [
           "northeast",
           0
          ],
          [
           "northeast",
           0
          ],
          [
           "southwest",
           1
          ],
          [
           "southeast",
           1
          ],
          [
           "northeast",
           2
          ],
          [
           "southeast",
           0
          ],
          [
           "northwest",
           3
          ],
          [
           "northeast",
           0
          ],
          [
           "southwest",
           1
          ],
          [
           "northeast",
           0
          ],
          [
           "southeast",
           2
          ],
          [
           "northwest",
           2
          ],
          [
           "northwest",
           1
          ],
          [
           "southwest",
           1
          ],
          [
           "southeast",
           0
          ],
          [
           "southwest",
           2
          ],
          [
           "northwest",
           1
          ],
          [
           "northwest",
           0
          ],
          [
           "southwest",
           1
          ],
          [
           "northeast",
           1
          ],
          [
           "southwest",
           0
          ],
          [
           "southeast",
           0
          ],
          [
           "northeast",
           4
          ],
          [
           "northwest",
           2
          ],
          [
           "northwest",
           3
          ],
          [
           "southeast",
           0
          ],
          [
           "northwest",
           1
          ],
          [
           "northeast",
           0
          ],
          [
           "northeast",
           0
          ],
          [
           "southeast",
           1
          ],
          [
           "northeast",
           2
          ],
          [
           "southwest",
           2
          ],
          [
           "southeast",
           2
          ],
          [
           "southwest",
           0
          ],
          [
           "southwest",
           3
          ],
          [
           "northwest",
           3
          ],
          [
           "northeast",
           0
          ],
          [
           "southeast",
           0
          ],
          [
           "southwest",
           0
          ]
         ],
         "hovertemplate": "smoker=no<br>bmi=%{x}<br>charges=%{y}<br>age=%{marker.size}<br>region=%{customdata[0]}<br>children=%{customdata[1]}<extra></extra>",
         "legendgroup": "no",
         "marker": {
          "color": "#EF553B",
          "size": {
           "bdata": "EhwhIB8uJSU8GRc4EzQXODweEiU7PzcXEhM/Ez4aGB8pJSY3Ehw8EhUoOiIrGUAcEz0oKB81Oiw5HRUWKR8tMDguNxU1Ixw2NykeEiITGh02NyUVNDw6MSUsEhQvGjQmOz01ExQWExY2FiIaHR0zNRMjMCAoLDI2ICUvFCATGz8xEiMYJjYuKToSFiwsGh4pHT0kGTgSEyctM0ATMDwuHDs/KBQoGCItKTUbGhgiNSA3HDopLyo7EzsnEh8sITcoNjwYEx0bNyYzOjU7LTESKTIZLxMWOzMeNzQuLj80HB0WGRIwJDgcOR0cHjopMhMxNDI2LCAiGjkdKBs0PTgrQDw+Lhg+PD8xIiEuJBM5Mh4hEi4uLxcSMCMVFTE4KiwSPTkqFEA+NyMsEzoyGhgwEzAxLi4rFUASMy9AMR80IS8mIBMZEys0QBkwLSYSFRsTHSo8HzwWIzQaHxI7LTw4KCMnHhgUIDs3OTgoMT44Ezw4HBIbEhMvGRUXPzESMzAfNhM1Ez0SPRQfLSw+KyYlFhUYOTgbMxM6FC0jHzIgMyYSEzMuEj47JUAmIS4uNSIUPzYcNhk/ID40GRwuIhMuNhsyEhMmKTEfEh4+OToWNBk7EycgEyEVPSY6LxQpLioiKzQSMzhAMxscLyYSIhQ4Nx4xOx0kITo1GB0oM0ATIzghPRcrMCcoEjoxNTAtOxobMDklOSASMSgeHSQpLTc4MRUTNSE1KigvFS8UGBsaNTgXFTI1Ii8hMR8kEjIrFBg8MTwzOjM1PhMyKRIpNRgwOzEaLR8yMiITLxwVQDoYHyceFhcbLTkvKkAmPTUsKTMoLSM1EjMfIzwVHT4nExYnHh46KkAVFy0oExIZLiE2HCQUGBctGhIsPEAnPyQcOiQqJDgjOxU7NTMXGzc9NRQZOSY3JDMoEjk9GTIaKissFzEhKSUWFxUZJBY5JDY+PRMSEzEaMTwaGyw/FjssIRg9Iz4+JiIrMhM5PikaJy4tIDssJxI1EjISEz44Kio5Hh8YMBMdPy40IywVJzIiFhMaMBotJDYiGxQsKy0iGiYyJicnPyEkGDAvHRwZMzA9MCY7Exo2FTMSLxUXNiUePTYWExIcNysZLEAxGzcwLRggGDkkHSowJz82PxU2PCAvFT8SICYgPjc5NDg3FzISFjQZNR06JTYxMhotNhwXNykeLhs/NyMiEycbOTQcMiwaITIpNCcyNBQ3KhI6IzAkFxQgKyIeEikjOR0gJTgmHRYoFyoYGTAtPhcfKTowHxMpKB8lLhYzIzs7JCcSNBsSKB0mHigyKSEmKjg6NjotGj86JRkWHBIcLSESEygiKjM2NzQgHCkrMTcULRoZKyM5FiAZMBIvHCQsJhUuOhQSHCETGRgpKiEiEhMSIycfPh89KjMXNDkXNDISEhU=",
           "dtype": "i1"
          },
          "sizemode": "area",
          "sizeref": 0.16,
          "symbol": "circle"
         },
         "mode": "markers",
         "name": "no",
         "showlegend": true,
         "type": "scattergl",
         "x": {
          "bdata": "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",
          "dtype": "f8"
         },
         "xaxis": "x",
         "y": {
          "bdata": "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",
          "dtype": "f8"
         },
         "yaxis": "y"
        }
       ],
       "layout": {
        "legend": {
         "itemsizing": "constant",
         "title": {
          "text": "smoker"
         },
         "tracegroupgap": 0
        },
        "template": {
         "data": {
          "bar": [
           {
            "error_x": {
             "color": "#2a3f5f"
            },
            "error_y": {
             "color": "#2a3f5f"
            },
            "marker": {
             "line": {
              "color": "#E5ECF6",
              "width": 0.5
             },
             "pattern": {
              "fillmode": "overlay",
              "size": 10,
              "solidity": 0.2
             }
            },
            "type": "bar"
           }
          ],
          "barpolar": [
           {
            "marker": {
             "line": {
              "color": "#E5ECF6",
              "width": 0.5
             },
             "pattern": {
              "fillmode": "overlay",
              "size": 10,
              "solidity": 0.2
             }
            },
            "type": "barpolar"
           }
          ],
          "carpet": [
           {
            "aaxis": {
             "endlinecolor": "#2a3f5f",
             "gridcolor": "white",
             "linecolor": "white",
             "minorgridcolor": "white",
             "startlinecolor": "#2a3f5f"
            },
            "baxis": {
             "endlinecolor": "#2a3f5f",
             "gridcolor": "white",
             "linecolor": "white",
             "minorgridcolor": "white",
             "startlinecolor": "#2a3f5f"
            },
            "type": "carpet"
           }
          ],
          "choropleth": [
           {
            "colorbar": {
             "outlinewidth": 0,
             "ticks": ""
            },
            "type": "choropleth"
           }
          ],
          "contour": [
           {
            "colorbar": {
             "outlinewidth": 0,
             "ticks": ""
            },
            "colorscale": [
             [
              0,
              "#0d0887"
             ],
             [
              0.1111111111111111,
              "#46039f"
             ],
             [
              0.2222222222222222,
              "#7201a8"
             ],
             [
              0.3333333333333333,
              "#9c179e"
             ],
             [
              0.4444444444444444,
              "#bd3786"
             ],
             [
              0.5555555555555556,
              "#d8576b"
             ],
             [
              0.6666666666666666,
              "#ed7953"
             ],
             [
              0.7777777777777778,
              "#fb9f3a"
             ],
             [
              0.8888888888888888,
              "#fdca26"
             ],
             [
              1,
              "#f0f921"
             ]
            ],
            "type": "contour"
           }
          ],
          "contourcarpet": [
           {
            "colorbar": {
             "outlinewidth": 0,
             "ticks": ""
            },
            "type": "contourcarpet"
           }
          ],
          "heatmap": [
           {
            "colorbar": {
             "outlinewidth": 0,
             "ticks": ""
            },
            "colorscale": [
             [
              0,
              "#0d0887"
             ],
             [
              0.1111111111111111,
              "#46039f"
             ],
             [
              0.2222222222222222,
              "#7201a8"
             ],
             [
              0.3333333333333333,
              "#9c179e"
             ],
             [
              0.4444444444444444,
              "#bd3786"
             ],
             [
              0.5555555555555556,
              "#d8576b"
             ],
             [
              0.6666666666666666,
              "#ed7953"
             ],
             [
              0.7777777777777778,
              "#fb9f3a"
             ],
             [
              0.8888888888888888,
              "#fdca26"
             ],
             [
              1,
              "#f0f921"
             ]
            ],
            "type": "heatmap"
           }
          ],
          "histogram": [
           {
            "marker": {
             "pattern": {
              "fillmode": "overlay",
              "size": 10,
              "solidity": 0.2
             }
            },
            "type": "histogram"
           }
          ],
          "histogram2d": [
           {
            "colorbar": {
             "outlinewidth": 0,
             "ticks": ""
            },
            "colorscale": [
             [
              0,
              "#0d0887"
             ],
             [
              0.1111111111111111,
              "#46039f"
             ],
             [
              0.2222222222222222,
              "#7201a8"
             ],
             [
              0.3333333333333333,
              "#9c179e"
             ],
             [
              0.4444444444444444,
              "#bd3786"
             ],
             [
              0.5555555555555556,
              "#d8576b"
             ],
             [
              0.6666666666666666,
              "#ed7953"
             ],
             [
              0.7777777777777778,
              "#fb9f3a"
             ],
             [
              0.8888888888888888,
              "#fdca26"
             ],
             [
              1,
              "#f0f921"
             ]
            ],
            "type": "histogram2d"
           }
          ],
          "histogram2dcontour": [
           {
            "colorbar": {
             "outlinewidth": 0,
             "ticks": ""
            },
            "colorscale": [
             [
              0,
              "#0d0887"
             ],
             [
              0.1111111111111111,
              "#46039f"
             ],
             [
              0.2222222222222222,
              "#7201a8"
             ],
             [
              0.3333333333333333,
              "#9c179e"
             ],
             [
              0.4444444444444444,
              "#bd3786"
             ],
             [
              0.5555555555555556,
              "#d8576b"
             ],
             [
              0.6666666666666666,
              "#ed7953"
             ],
             [
              0.7777777777777778,
              "#fb9f3a"
             ],
             [
              0.8888888888888888,
              "#fdca26"
             ],
             [
              1,
              "#f0f921"
             ]
            ],
            "type": "histogram2dcontour"
           }
          ],
          "mesh3d": [
           {
            "colorbar": {
             "outlinewidth": 0,
             "ticks": ""
            },
            "type": "mesh3d"
           }
          ],
          "parcoords": [
           {
            "line": {
             "colorbar": {
              "outlinewidth": 0,
              "ticks": ""
             }
            },
            "type": "parcoords"
           }
          ],
          "pie": [
           {
            "automargin": true,
            "type": "pie"
           }
          ],
          "scatter": [
           {
            "fillpattern": {
             "fillmode": "overlay",
             "size": 10,
             "solidity": 0.2
            },
            "type": "scatter"
           }
          ],
          "scatter3d": [
           {
            "line": {
             "colorbar": {
              "outlinewidth": 0,
              "ticks": ""
             }
            },
            "marker": {
             "colorbar": {
              "outlinewidth": 0,
              "ticks": ""
             }
            },
            "type": "scatter3d"
           }
          ],
          "scattercarpet": [
           {
            "marker": {
             "colorbar": {
              "outlinewidth": 0,
              "ticks": ""
             }
            },
            "type": "scattercarpet"
           }
          ],
          "scattergeo": [
           {
            "marker": {
             "colorbar": {
              "outlinewidth": 0,
              "ticks": ""
             }
            },
            "type": "scattergeo"
           }
          ],
          "scattergl": [
           {
            "marker": {
             "colorbar": {
              "outlinewidth": 0,
              "ticks": ""
             }
            },
            "type": "scattergl"
           }
          ],
          "scattermap": [
           {
            "marker": {
             "colorbar": {
              "outlinewidth": 0,
              "ticks": ""
             }
            },
            "type": "scattermap"
           }
          ],
          "scattermapbox": [
           {
            "marker": {
             "colorbar": {
              "outlinewidth": 0,
              "ticks": ""
             }
            },
            "type": "scattermapbox"
           }
          ],
          "scatterpolar": [
           {
            "marker": {
             "colorbar": {
              "outlinewidth": 0,
              "ticks": ""
             }
            },
            "type": "scatterpolar"
           }
          ],
          "scatterpolargl": [
           {
            "marker": {
             "colorbar": {
              "outlinewidth": 0,
              "ticks": ""
             }
            },
            "type": "scatterpolargl"
           }
          ],
          "scatterternary": [
           {
            "marker": {
             "colorbar": {
              "outlinewidth": 0,
              "ticks": ""
             }
            },
            "type": "scatterternary"
           }
          ],
          "surface": [
           {
            "colorbar": {
             "outlinewidth": 0,
             "ticks": ""
            },
            "colorscale": [
             [
              0,
              "#0d0887"
             ],
             [
              0.1111111111111111,
              "#46039f"
             ],
             [
              0.2222222222222222,
              "#7201a8"
             ],
             [
              0.3333333333333333,
              "#9c179e"
             ],
             [
              0.4444444444444444,
              "#bd3786"
             ],
             [
              0.5555555555555556,
              "#d8576b"
             ],
             [
              0.6666666666666666,
              "#ed7953"
             ],
             [
              0.7777777777777778,
              "#fb9f3a"
             ],
             [
              0.8888888888888888,
              "#fdca26"
             ],
             [
              1,
              "#f0f921"
             ]
            ],
            "type": "surface"
           }
          ],
          "table": [
           {
            "cells": {
             "fill": {
              "color": "#EBF0F8"
             },
             "line": {
              "color": "white"
             }
            },
            "header": {
             "fill": {
              "color": "#C8D4E3"
             },
             "line": {
              "color": "white"
             }
            },
            "type": "table"
           }
          ]
         },
         "layout": {
          "annotationdefaults": {
           "arrowcolor": "#2a3f5f",
           "arrowhead": 0,
           "arrowwidth": 1
          },
          "autotypenumbers": "strict",
          "coloraxis": {
           "colorbar": {
            "outlinewidth": 0,
            "ticks": ""
           }
          },
          "colorscale": {
           "diverging": [
            [
             0,
             "#8e0152"
            ],
            [
             0.1,
             "#c51b7d"
            ],
            [
             0.2,
             "#de77ae"
            ],
            [
             0.3,
             "#f1b6da"
            ],
            [
             0.4,
             "#fde0ef"
            ],
            [
             0.5,
             "#f7f7f7"
            ],
            [
             0.6,
             "#e6f5d0"
            ],
            [
             0.7,
             "#b8e186"
            ],
            [
             0.8,
             "#7fbc41"
            ],
            [
             0.9,
             "#4d9221"
            ],
            [
             1,
             "#276419"
            ]
           ],
           "sequential": [
            [
             0,
             "#0d0887"
            ],
            [
             0.1111111111111111,
             "#46039f"
            ],
            [
             0.2222222222222222,
             "#7201a8"
            ],
            [
             0.3333333333333333,
             "#9c179e"
            ],
            [
             0.4444444444444444,
             "#bd3786"
            ],
            [
             0.5555555555555556,
             "#d8576b"
            ],
            [
             0.6666666666666666,
             "#ed7953"
            ],
            [
             0.7777777777777778,
             "#fb9f3a"
            ],
            [
             0.8888888888888888,
             "#fdca26"
            ],
            [
             1,
             "#f0f921"
            ]
           ],
           "sequentialminus": [
            [
             0,
             "#0d0887"
            ],
            [
             0.1111111111111111,
             "#46039f"
            ],
            [
             0.2222222222222222,
             "#7201a8"
            ],
            [
             0.3333333333333333,
             "#9c179e"
            ],
            [
             0.4444444444444444,
             "#bd3786"
            ],
            [
             0.5555555555555556,
             "#d8576b"
            ],
            [
             0.6666666666666666,
             "#ed7953"
            ],
            [
             0.7777777777777778,
             "#fb9f3a"
            ],
            [
             0.8888888888888888,
             "#fdca26"
            ],
            [
             1,
             "#f0f921"
            ]
           ]
          },
          "colorway": [
           "#636efa",
           "#EF553B",
           "#00cc96",
           "#ab63fa",
           "#FFA15A",
           "#19d3f3",
           "#FF6692",
           "#B6E880",
           "#FF97FF",
           "#FECB52"
          ],
          "font": {
           "color": "#2a3f5f"
          },
          "geo": {
           "bgcolor": "white",
           "lakecolor": "white",
           "landcolor": "#E5ECF6",
           "showlakes": true,
           "showland": true,
           "subunitcolor": "white"
          },
          "hoverlabel": {
           "align": "left"
          },
          "hovermode": "closest",
          "mapbox": {
           "style": "light"
          },
          "paper_bgcolor": "white",
          "plot_bgcolor": "#E5ECF6",
          "polar": {
           "angularaxis": {
            "gridcolor": "white",
            "linecolor": "white",
            "ticks": ""
           },
           "bgcolor": "#E5ECF6",
           "radialaxis": {
            "gridcolor": "white",
            "linecolor": "white",
            "ticks": ""
           }
          },
          "scene": {
           "xaxis": {
            "backgroundcolor": "#E5ECF6",
            "gridcolor": "white",
            "gridwidth": 2,
            "linecolor": "white",
            "showbackground": true,
            "ticks": "",
            "zerolinecolor": "white"
           },
           "yaxis": {
            "backgroundcolor": "#E5ECF6",
            "gridcolor": "white",
            "gridwidth": 2,
            "linecolor": "white",
            "showbackground": true,
            "ticks": "",
            "zerolinecolor": "white"
           },
           "zaxis": {
            "backgroundcolor": "#E5ECF6",
            "gridcolor": "white",
            "gridwidth": 2,
            "linecolor": "white",
            "showbackground": true,
            "ticks": "",
            "zerolinecolor": "white"
           }
          },
          "shapedefaults": {
           "line": {
            "color": "#2a3f5f"
           }
          },
          "ternary": {
           "aaxis": {
            "gridcolor": "white",
            "linecolor": "white",
            "ticks": ""
           },
           "baxis": {
            "gridcolor": "white",
            "linecolor": "white",
            "ticks": ""
           },
           "bgcolor": "#E5ECF6",
           "caxis": {
            "gridcolor": "white",
            "linecolor": "white",
            "ticks": ""
           }
          },
          "title": {
           "x": 0.05
          },
          "xaxis": {
           "automargin": true,
           "gridcolor": "white",
           "linecolor": "white",
           "ticks": "",
           "title": {
            "standoff": 15
           },
           "zerolinecolor": "white",
           "zerolinewidth": 2
          },
          "yaxis": {
           "automargin": true,
           "gridcolor": "white",
           "linecolor": "white",
           "ticks": "",
           "title": {
            "standoff": 15
           },
           "zerolinecolor": "white",
           "zerolinewidth": 2
          }
         }
        },
        "title": {
         "text": "Insurance Charges by BMI and Age(Smoker vs. Non-smoker)"
        },
        "xaxis": {
         "anchor": "y",
         "domain": [
          0,
          1
         ],
         "title": {
          "text": "bmi"
         }
        },
        "yaxis": {
         "anchor": "x",
         "domain": [
          0,
          1
         ],
         "title": {
          "text": "charges"
         }
        }
       }
      }
     },
     "metadata": {},
     "output_type": "display_data"
    }
   ],
   "source": [
    "fig = px.scatter(df, \n",
    "x=\"bmi\",\n",
    "y=\"charges\",\n",
    "color=\"smoker\",\n",
    "size=\"age\",\n",
    "hover_data=[\"region\", \"children\"],\n",
    "title=\"Insurance Charges by BMI and Age(Smoker vs. Non-smoker)\")\n",
    "fig.show()"
   ]
  },
  {
   "cell_type": "code",
   "execution_count": 9,
   "id": "65b828f7",
   "metadata": {},
   "outputs": [
    {
     "data": {
      "application/vnd.plotly.v1+json": {
       "config": {
        "plotlyServerURL": "https://plot.ly"
       },
       "data": [
        {
         "hovertemplate": "region=%{x}<br>charges=%{y}<extra></extra>",
         "legendgroup": "northeast",
         "marker": {
          "color": "#636efa",
          "pattern": {
           "shape": ""
          }
         },
         "name": "northeast",
         "orientation": "v",
         "showlegend": true,
         "textposition": "auto",
         "texttemplate": "%{y:.2s}",
         "type": "bar",
         "x": [
          "northeast"
         ],
         "xaxis": "x",
         "y": {
          "bdata": "5zrVNzEvykA=",
          "dtype": "f8"
         },
         "yaxis": "y"
        },
        {
         "hovertemplate": "region=%{x}<br>charges=%{y}<extra></extra>",
         "legendgroup": "northwest",
         "marker": {
          "color": "#EF553B",
          "pattern": {
           "shape": ""
          }
         },
         "name": "northwest",
         "orientation": "v",
         "showlegend": true,
         "textposition": "auto",
         "texttemplate": "%{y:.2s}",
         "type": "bar",
         "x": [
          "northwest"
         ],
         "xaxis": "x",
         "y": {
          "bdata": "aa7apclAyEA=",
          "dtype": "f8"
         },
         "yaxis": "y"
        },
        {
         "hovertemplate": "region=%{x}<br>charges=%{y}<extra></extra>",
         "legendgroup": "southeast",
         "marker": {
          "color": "#00cc96",
          "pattern": {
           "shape": ""
          }
         },
         "name": "southeast",
         "orientation": "v",
         "showlegend": true,
         "textposition": "auto",
         "texttemplate": "%{y:.2s}",
         "type": "bar",
         "x": [
          "southeast"
         ],
         "xaxis": "x",
         "y": {
          "bdata": "adP8qbTHzEA=",
          "dtype": "f8"
         },
         "yaxis": "y"
        },
        {
         "hovertemplate": "region=%{x}<br>charges=%{y}<extra></extra>",
         "legendgroup": "southwest",
         "marker": {
          "color": "#ab63fa",
          "pattern": {
           "shape": ""
          }
         },
         "name": "southwest",
         "orientation": "v",
         "showlegend": true,
         "textposition": "auto",
         "texttemplate": "%{y:.2s}",
         "type": "bar",
         "x": [
          "southwest"
         ],
         "xaxis": "x",
         "y": {
          "bdata": "Paf6+3cdyEA=",
          "dtype": "f8"
         },
         "yaxis": "y"
        }
       ],
       "layout": {
        "barmode": "relative",
        "legend": {
         "title": {
          "text": "region"
         },
         "tracegroupgap": 0
        },
        "showlegend": false,
        "template": {
         "data": {
          "bar": [
           {
            "error_x": {
             "color": "#2a3f5f"
            },
            "error_y": {
             "color": "#2a3f5f"
            },
            "marker": {
             "line": {
              "color": "#E5ECF6",
              "width": 0.5
             },
             "pattern": {
              "fillmode": "overlay",
              "size": 10,
              "solidity": 0.2
             }
            },
            "type": "bar"
           }
          ],
          "barpolar": [
           {
            "marker": {
             "line": {
              "color": "#E5ECF6",
              "width": 0.5
             },
             "pattern": {
              "fillmode": "overlay",
              "size": 10,
              "solidity": 0.2
             }
            },
            "type": "barpolar"
           }
          ],
          "carpet": [
           {
            "aaxis": {
             "endlinecolor": "#2a3f5f",
             "gridcolor": "white",
             "linecolor": "white",
             "minorgridcolor": "white",
             "startlinecolor": "#2a3f5f"
            },
            "baxis": {
             "endlinecolor": "#2a3f5f",
             "gridcolor": "white",
             "linecolor": "white",
             "minorgridcolor": "white",
             "startlinecolor": "#2a3f5f"
            },
            "type": "carpet"
           }
          ],
          "choropleth": [
           {
            "colorbar": {
             "outlinewidth": 0,
             "ticks": ""
            },
            "type": "choropleth"
           }
          ],
          "contour": [
           {
            "colorbar": {
             "outlinewidth": 0,
             "ticks": ""
            },
            "colorscale": [
             [
              0,
              "#0d0887"
             ],
             [
              0.1111111111111111,
              "#46039f"
             ],
             [
              0.2222222222222222,
              "#7201a8"
             ],
             [
              0.3333333333333333,
              "#9c179e"
             ],
             [
              0.4444444444444444,
              "#bd3786"
             ],
             [
              0.5555555555555556,
              "#d8576b"
             ],
             [
              0.6666666666666666,
              "#ed7953"
             ],
             [
              0.7777777777777778,
              "#fb9f3a"
             ],
             [
              0.8888888888888888,
              "#fdca26"
             ],
             [
              1,
              "#f0f921"
             ]
            ],
            "type": "contour"
           }
          ],
          "contourcarpet": [
           {
            "colorbar": {
             "outlinewidth": 0,
             "ticks": ""
            },
            "type": "contourcarpet"
           }
          ],
          "heatmap": [
           {
            "colorbar": {
             "outlinewidth": 0,
             "ticks": ""
            },
            "colorscale": [
             [
              0,
              "#0d0887"
             ],
             [
              0.1111111111111111,
              "#46039f"
             ],
             [
              0.2222222222222222,
              "#7201a8"
             ],
             [
              0.3333333333333333,
              "#9c179e"
             ],
             [
              0.4444444444444444,
              "#bd3786"
             ],
             [
              0.5555555555555556,
              "#d8576b"
             ],
             [
              0.6666666666666666,
              "#ed7953"
             ],
             [
              0.7777777777777778,
              "#fb9f3a"
             ],
             [
              0.8888888888888888,
              "#fdca26"
             ],
             [
              1,
              "#f0f921"
             ]
            ],
            "type": "heatmap"
           }
          ],
          "histogram": [
           {
            "marker": {
             "pattern": {
              "fillmode": "overlay",
              "size": 10,
              "solidity": 0.2
             }
            },
            "type": "histogram"
           }
          ],
          "histogram2d": [
           {
            "colorbar": {
             "outlinewidth": 0,
             "ticks": ""
            },
            "colorscale": [
             [
              0,
              "#0d0887"
             ],
             [
              0.1111111111111111,
              "#46039f"
             ],
             [
              0.2222222222222222,
              "#7201a8"
             ],
             [
              0.3333333333333333,
              "#9c179e"
             ],
             [
              0.4444444444444444,
              "#bd3786"
             ],
             [
              0.5555555555555556,
              "#d8576b"
             ],
             [
              0.6666666666666666,
              "#ed7953"
             ],
             [
              0.7777777777777778,
              "#fb9f3a"
             ],
             [
              0.8888888888888888,
              "#fdca26"
             ],
             [
              1,
              "#f0f921"
             ]
            ],
            "type": "histogram2d"
           }
          ],
          "histogram2dcontour": [
           {
            "colorbar": {
             "outlinewidth": 0,
             "ticks": ""
            },
            "colorscale": [
             [
              0,
              "#0d0887"
             ],
             [
              0.1111111111111111,
              "#46039f"
             ],
             [
              0.2222222222222222,
              "#7201a8"
             ],
             [
              0.3333333333333333,
              "#9c179e"
             ],
             [
              0.4444444444444444,
              "#bd3786"
             ],
             [
              0.5555555555555556,
              "#d8576b"
             ],
             [
              0.6666666666666666,
              "#ed7953"
             ],
             [
              0.7777777777777778,
              "#fb9f3a"
             ],
             [
              0.8888888888888888,
              "#fdca26"
             ],
             [
              1,
              "#f0f921"
             ]
            ],
            "type": "histogram2dcontour"
           }
          ],
          "mesh3d": [
           {
            "colorbar": {
             "outlinewidth": 0,
             "ticks": ""
            },
            "type": "mesh3d"
           }
          ],
          "parcoords": [
           {
            "line": {
             "colorbar": {
              "outlinewidth": 0,
              "ticks": ""
             }
            },
            "type": "parcoords"
           }
          ],
          "pie": [
           {
            "automargin": true,
            "type": "pie"
           }
          ],
          "scatter": [
           {
            "fillpattern": {
             "fillmode": "overlay",
             "size": 10,
             "solidity": 0.2
            },
            "type": "scatter"
           }
          ],
          "scatter3d": [
           {
            "line": {
             "colorbar": {
              "outlinewidth": 0,
              "ticks": ""
             }
            },
            "marker": {
             "colorbar": {
              "outlinewidth": 0,
              "ticks": ""
             }
            },
            "type": "scatter3d"
           }
          ],
          "scattercarpet": [
           {
            "marker": {
             "colorbar": {
              "outlinewidth": 0,
              "ticks": ""
             }
            },
            "type": "scattercarpet"
           }
          ],
          "scattergeo": [
           {
            "marker": {
             "colorbar": {
              "outlinewidth": 0,
              "ticks": ""
             }
            },
            "type": "scattergeo"
           }
          ],
          "scattergl": [
           {
            "marker": {
             "colorbar": {
              "outlinewidth": 0,
              "ticks": ""
             }
            },
            "type": "scattergl"
           }
          ],
          "scattermap": [
           {
            "marker": {
             "colorbar": {
              "outlinewidth": 0,
              "ticks": ""
             }
            },
            "type": "scattermap"
           }
          ],
          "scattermapbox": [
           {
            "marker": {
             "colorbar": {
              "outlinewidth": 0,
              "ticks": ""
             }
            },
            "type": "scattermapbox"
           }
          ],
          "scatterpolar": [
           {
            "marker": {
             "colorbar": {
              "outlinewidth": 0,
              "ticks": ""
             }
            },
            "type": "scatterpolar"
           }
          ],
          "scatterpolargl": [
           {
            "marker": {
             "colorbar": {
              "outlinewidth": 0,
              "ticks": ""
             }
            },
            "type": "scatterpolargl"
           }
          ],
          "scatterternary": [
           {
            "marker": {
             "colorbar": {
              "outlinewidth": 0,
              "ticks": ""
             }
            },
            "type": "scatterternary"
           }
          ],
          "surface": [
           {
            "colorbar": {
             "outlinewidth": 0,
             "ticks": ""
            },
            "colorscale": [
             [
              0,
              "#0d0887"
             ],
             [
              0.1111111111111111,
              "#46039f"
             ],
             [
              0.2222222222222222,
              "#7201a8"
             ],
             [
              0.3333333333333333,
              "#9c179e"
             ],
             [
              0.4444444444444444,
              "#bd3786"
             ],
             [
              0.5555555555555556,
              "#d8576b"
             ],
             [
              0.6666666666666666,
              "#ed7953"
             ],
             [
              0.7777777777777778,
              "#fb9f3a"
             ],
             [
              0.8888888888888888,
              "#fdca26"
             ],
             [
              1,
              "#f0f921"
             ]
            ],
            "type": "surface"
           }
          ],
          "table": [
           {
            "cells": {
             "fill": {
              "color": "#EBF0F8"
             },
             "line": {
              "color": "white"
             }
            },
            "header": {
             "fill": {
              "color": "#C8D4E3"
             },
             "line": {
              "color": "white"
             }
            },
            "type": "table"
           }
          ]
         },
         "layout": {
          "annotationdefaults": {
           "arrowcolor": "#2a3f5f",
           "arrowhead": 0,
           "arrowwidth": 1
          },
          "autotypenumbers": "strict",
          "coloraxis": {
           "colorbar": {
            "outlinewidth": 0,
            "ticks": ""
           }
          },
          "colorscale": {
           "diverging": [
            [
             0,
             "#8e0152"
            ],
            [
             0.1,
             "#c51b7d"
            ],
            [
             0.2,
             "#de77ae"
            ],
            [
             0.3,
             "#f1b6da"
            ],
            [
             0.4,
             "#fde0ef"
            ],
            [
             0.5,
             "#f7f7f7"
            ],
            [
             0.6,
             "#e6f5d0"
            ],
            [
             0.7,
             "#b8e186"
            ],
            [
             0.8,
             "#7fbc41"
            ],
            [
             0.9,
             "#4d9221"
            ],
            [
             1,
             "#276419"
            ]
           ],
           "sequential": [
            [
             0,
             "#0d0887"
            ],
            [
             0.1111111111111111,
             "#46039f"
            ],
            [
             0.2222222222222222,
             "#7201a8"
            ],
            [
             0.3333333333333333,
             "#9c179e"
            ],
            [
             0.4444444444444444,
             "#bd3786"
            ],
            [
             0.5555555555555556,
             "#d8576b"
            ],
            [
             0.6666666666666666,
             "#ed7953"
            ],
            [
             0.7777777777777778,
             "#fb9f3a"
            ],
            [
             0.8888888888888888,
             "#fdca26"
            ],
            [
             1,
             "#f0f921"
            ]
           ],
           "sequentialminus": [
            [
             0,
             "#0d0887"
            ],
            [
             0.1111111111111111,
             "#46039f"
            ],
            [
             0.2222222222222222,
             "#7201a8"
            ],
            [
             0.3333333333333333,
             "#9c179e"
            ],
            [
             0.4444444444444444,
             "#bd3786"
            ],
            [
             0.5555555555555556,
             "#d8576b"
            ],
            [
             0.6666666666666666,
             "#ed7953"
            ],
            [
             0.7777777777777778,
             "#fb9f3a"
            ],
            [
             0.8888888888888888,
             "#fdca26"
            ],
            [
             1,
             "#f0f921"
            ]
           ]
          },
          "colorway": [
           "#636efa",
           "#EF553B",
           "#00cc96",
           "#ab63fa",
           "#FFA15A",
           "#19d3f3",
           "#FF6692",
           "#B6E880",
           "#FF97FF",
           "#FECB52"
          ],
          "font": {
           "color": "#2a3f5f"
          },
          "geo": {
           "bgcolor": "white",
           "lakecolor": "white",
           "landcolor": "#E5ECF6",
           "showlakes": true,
           "showland": true,
           "subunitcolor": "white"
          },
          "hoverlabel": {
           "align": "left"
          },
          "hovermode": "closest",
          "mapbox": {
           "style": "light"
          },
          "paper_bgcolor": "white",
          "plot_bgcolor": "#E5ECF6",
          "polar": {
           "angularaxis": {
            "gridcolor": "white",
            "linecolor": "white",
            "ticks": ""
           },
           "bgcolor": "#E5ECF6",
           "radialaxis": {
            "gridcolor": "white",
            "linecolor": "white",
            "ticks": ""
           }
          },
          "scene": {
           "xaxis": {
            "backgroundcolor": "#E5ECF6",
            "gridcolor": "white",
            "gridwidth": 2,
            "linecolor": "white",
            "showbackground": true,
            "ticks": "",
            "zerolinecolor": "white"
           },
           "yaxis": {
            "backgroundcolor": "#E5ECF6",
            "gridcolor": "white",
            "gridwidth": 2,
            "linecolor": "white",
            "showbackground": true,
            "ticks": "",
            "zerolinecolor": "white"
           },
           "zaxis": {
            "backgroundcolor": "#E5ECF6",
            "gridcolor": "white",
            "gridwidth": 2,
            "linecolor": "white",
            "showbackground": true,
            "ticks": "",
            "zerolinecolor": "white"
           }
          },
          "shapedefaults": {
           "line": {
            "color": "#2a3f5f"
           }
          },
          "ternary": {
           "aaxis": {
            "gridcolor": "white",
            "linecolor": "white",
            "ticks": ""
           },
           "baxis": {
            "gridcolor": "white",
            "linecolor": "white",
            "ticks": ""
           },
           "bgcolor": "#E5ECF6",
           "caxis": {
            "gridcolor": "white",
            "linecolor": "white",
            "ticks": ""
           }
          },
          "title": {
           "x": 0.05
          },
          "xaxis": {
           "automargin": true,
           "gridcolor": "white",
           "linecolor": "white",
           "ticks": "",
           "title": {
            "standoff": 15
           },
           "zerolinecolor": "white",
           "zerolinewidth": 2
          },
          "yaxis": {
           "automargin": true,
           "gridcolor": "white",
           "linecolor": "white",
           "ticks": "",
           "title": {
            "standoff": 15
           },
           "zerolinecolor": "white",
           "zerolinewidth": 2
          }
         }
        },
        "title": {
         "text": "Average Insurance Charges by Region"
        },
        "xaxis": {
         "anchor": "y",
         "categoryarray": [
          "northeast",
          "northwest",
          "southeast",
          "southwest"
         ],
         "categoryorder": "array",
         "domain": [
          0,
          1
         ],
         "title": {
          "text": "region"
         }
        },
        "yaxis": {
         "anchor": "x",
         "domain": [
          0,
          1
         ],
         "title": {
          "text": "charges"
         }
        }
       }
      }
     },
     "metadata": {},
     "output_type": "display_data"
    }
   ],
   "source": [
    "df_grouped = df.groupby(by=\"region\", as_index=False)[\"charges\"].mean()\n",
    "\n",
    "fig1 = px.bar(df_grouped, x=\"region\", y=\"charges\", color=\"region\", text_auto = \".2s\",\n",
    "title=\"Average Insurance Charges by Region\")\n",
    "\n",
    "fig1.update_layout(showlegend=False)\n",
    "fig1.show()"
   ]
  },
  {
   "cell_type": "code",
   "execution_count": 11,
   "id": "6965c4f6",
   "metadata": {},
   "outputs": [
    {
     "data": {
      "application/vnd.plotly.v1+json": {
       "config": {
        "plotlyServerURL": "https://plot.ly"
       },
       "data": [
        {
         "alignmentgroup": "True",
         "hovertemplate": "smoker=%{x}<br>charges=%{y}<extra></extra>",
         "legendgroup": "yes",
         "marker": {
          "color": "#636efa"
         },
         "name": "yes",
         "notched": false,
         "offsetgroup": "yes",
         "orientation": "v",
         "showlegend": true,
         "type": "box",
         "x": [
          "yes",
          "yes",
          "yes",
          "yes",
          "yes",
          "yes",
          "yes",
          "yes",
          "yes",
          "yes",
          "yes",
          "yes",
          "yes",
          "yes",
          "yes",
          "yes",
          "yes",
          "yes",
          "yes",
          "yes",
          "yes",
          "yes",
          "yes",
          "yes",
          "yes",
          "yes",
          "yes",
          "yes",
          "yes",
          "yes",
          "yes",
          "yes",
          "yes",
          "yes",
          "yes",
          "yes",
          "yes",
          "yes",
          "yes",
          "yes",
          "yes",
          "yes",
          "yes",
          "yes",
          "yes",
          "yes",
          "yes",
          "yes",
          "yes",
          "yes",
          "yes",
          "yes",
          "yes",
          "yes",
          "yes",
          "yes",
          "yes",
          "yes",
          "yes",
          "yes",
          "yes",
          "yes",
          "yes",
          "yes",
          "yes",
          "yes",
          "yes",
          "yes",
          "yes",
          "yes",
          "yes",
          "yes",
          "yes",
          "yes",
          "yes",
          "yes",
          "yes",
          "yes",
          "yes",
          "yes",
          "yes",
          "yes",
          "yes",
          "yes",
          "yes",
          "yes",
          "yes",
          "yes",
          "yes",
          "yes",
          "yes",
          "yes",
          "yes",
          "yes",
          "yes",
          "yes",
          "yes",
          "yes",
          "yes",
          "yes",
          "yes",
          "yes",
          "yes",
          "yes",
          "yes",
          "yes",
          "yes",
          "yes",
          "yes",
          "yes",
          "yes",
          "yes",
          "yes",
          "yes",
          "yes",
          "yes",
          "yes",
          "yes",
          "yes",
          "yes",
          "yes",
          "yes",
          "yes",
          "yes",
          "yes",
          "yes",
          "yes",
          "yes",
          "yes",
          "yes",
          "yes",
          "yes",
          "yes",
          "yes",
          "yes",
          "yes",
          "yes",
          "yes",
          "yes",
          "yes",
          "yes",
          "yes",
          "yes",
          "yes",
          "yes",
          "yes",
          "yes",
          "yes",
          "yes",
          "yes",
          "yes",
          "yes",
          "yes",
          "yes",
          "yes",
          "yes",
          "yes",
          "yes",
          "yes",
          "yes",
          "yes",
          "yes",
          "yes",
          "yes",
          "yes",
          "yes",
          "yes",
          "yes",
          "yes",
          "yes",
          "yes",
          "yes",
          "yes",
          "yes",
          "yes",
          "yes",
          "yes",
          "yes",
          "yes",
          "yes",
          "yes",
          "yes",
          "yes",
          "yes",
          "yes",
          "yes",
          "yes",
          "yes",
          "yes",
          "yes",
          "yes",
          "yes",
          "yes",
          "yes",
          "yes",
          "yes",
          "yes",
          "yes",
          "yes",
          "yes",
          "yes",
          "yes",
          "yes",
          "yes",
          "yes",
          "yes",
          "yes",
          "yes",
          "yes",
          "yes",
          "yes",
          "yes",
          "yes",
          "yes",
          "yes",
          "yes",
          "yes",
          "yes",
          "yes",
          "yes",
          "yes",
          "yes",
          "yes",
          "yes",
          "yes",
          "yes",
          "yes",
          "yes",
          "yes",
          "yes",
          "yes",
          "yes",
          "yes",
          "yes",
          "yes",
          "yes",
          "yes",
          "yes",
          "yes",
          "yes",
          "yes",
          "yes",
          "yes",
          "yes",
          "yes",
          "yes",
          "yes",
          "yes",
          "yes",
          "yes",
          "yes",
          "yes",
          "yes",
          "yes",
          "yes",
          "yes",
          "yes",
          "yes",
          "yes",
          "yes",
          "yes",
          "yes",
          "yes",
          "yes",
          "yes",
          "yes",
          "yes",
          "yes",
          "yes",
          "yes",
          "yes",
          "yes",
          "yes",
          "yes"
         ],
         "x0": " ",
         "xaxis": "x",
         "y": {
          "bdata": "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",
          "dtype": "f8"
         },
         "y0": " ",
         "yaxis": "y"
        },
        {
         "alignmentgroup": "True",
         "hovertemplate": "smoker=%{x}<br>charges=%{y}<extra></extra>",
         "legendgroup": "no",
         "marker": {
          "color": "#EF553B"
         },
         "name": "no",
         "notched": false,
         "offsetgroup": "no",
         "orientation": "v",
         "showlegend": true,
         "type": "box",
         "x": [
          "no",
          "no",
          "no",
          "no",
          "no",
          "no",
          "no",
          "no",
          "no",
          "no",
          "no",
          "no",
          "no",
          "no",
          "no",
          "no",
          "no",
          "no",
          "no",
          "no",
          "no",
          "no",
          "no",
          "no",
          "no",
          "no",
          "no",
          "no",
          "no",
          "no",
          "no",
          "no",
          "no",
          "no",
          "no",
          "no",
          "no",
          "no",
          "no",
          "no",
          "no",
          "no",
          "no",
          "no",
          "no",
          "no",
          "no",
          "no",
          "no",
          "no",
          "no",
          "no",
          "no",
          "no",
          "no",
          "no",
          "no",
          "no",
          "no",
          "no",
          "no",
          "no",
          "no",
          "no",
          "no",
          "no",
          "no",
          "no",
          "no",
          "no",
          "no",
          "no",
          "no",
          "no",
          "no",
          "no",
          "no",
          "no",
          "no",
          "no",
          "no",
          "no",
          "no",
          "no",
          "no",
          "no",
          "no",
          "no",
          "no",
          "no",
          "no",
          "no",
          "no",
          "no",
          "no",
          "no",
          "no",
          "no",
          "no",
          "no",
          "no",
          "no",
          "no",
          "no",
          "no",
          "no",
          "no",
          "no",
          "no",
          "no",
          "no",
          "no",
          "no",
          "no",
          "no",
          "no",
          "no",
          "no",
          "no",
          "no",
          "no",
          "no",
          "no",
          "no",
          "no",
          "no",
          "no",
          "no",
          "no",
          "no",
          "no",
          "no",
          "no",
          "no",
          "no",
          "no",
          "no",
          "no",
          "no",
          "no",
          "no",
          "no",
          "no",
          "no",
          "no",
          "no",
          "no",
          "no",
          "no",
          "no",
          "no",
          "no",
          "no",
          "no",
          "no",
          "no",
          "no",
          "no",
          "no",
          "no",
          "no",
          "no",
          "no",
          "no",
          "no",
          "no",
          "no",
          "no",
          "no",
          "no",
          "no",
          "no",
          "no",
          "no",
          "no",
          "no",
          "no",
          "no",
          "no",
          "no",
          "no",
          "no",
          "no",
          "no",
          "no",
          "no",
          "no",
          "no",
          "no",
          "no",
          "no",
          "no",
          "no",
          "no",
          "no",
          "no",
          "no",
          "no",
          "no",
          "no",
          "no",
          "no",
          "no",
          "no",
          "no",
          "no",
          "no",
          "no",
          "no",
          "no",
          "no",
          "no",
          "no",
          "no",
          "no",
          "no",
          "no",
          "no",
          "no",
          "no",
          "no",
          "no",
          "no",
          "no",
          "no",
          "no",
          "no",
          "no",
          "no",
          "no",
          "no",
          "no",
          "no",
          "no",
          "no",
          "no",
          "no",
          "no",
          "no",
          "no",
          "no",
          "no",
          "no",
          "no",
          "no",
          "no",
          "no",
          "no",
          "no",
          "no",
          "no",
          "no",
          "no",
          "no",
          "no",
          "no",
          "no",
          "no",
          "no",
          "no",
          "no",
          "no",
          "no",
          "no",
          "no",
          "no",
          "no",
          "no",
          "no",
          "no",
          "no",
          "no",
          "no",
          "no",
          "no",
          "no",
          "no",
          "no",
          "no",
          "no",
          "no",
          "no",
          "no",
          "no",
          "no",
          "no",
          "no",
          "no",
          "no",
          "no",
          "no",
          "no",
          "no",
          "no",
          "no",
          "no",
          "no",
          "no",
          "no",
          "no",
          "no",
          "no",
          "no",
          "no",
          "no",
          "no",
          "no",
          "no",
          "no",
          "no",
          "no",
          "no",
          "no",
          "no",
          "no",
          "no",
          "no",
          "no",
          "no",
          "no",
          "no",
          "no",
          "no",
          "no",
          "no",
          "no",
          "no",
          "no",
          "no",
          "no",
          "no",
          "no",
          "no",
          "no",
          "no",
          "no",
          "no",
          "no",
          "no",
          "no",
          "no",
          "no",
          "no",
          "no",
          "no",
          "no",
          "no",
          "no",
          "no",
          "no",
          "no",
          "no",
          "no",
          "no",
          "no",
          "no",
          "no",
          "no",
          "no",
          "no",
          "no",
          "no",
          "no",
          "no",
          "no",
          "no",
          "no",
          "no",
          "no",
          "no",
          "no",
          "no",
          "no",
          "no",
          "no",
          "no",
          "no",
          "no",
          "no",
          "no",
          "no",
          "no",
          "no",
          "no",
          "no",
          "no",
          "no",
          "no",
          "no",
          "no",
          "no",
          "no",
          "no",
          "no",
          "no",
          "no",
          "no",
          "no",
          "no",
          "no",
          "no",
          "no",
          "no",
          "no",
          "no",
          "no",
          "no",
          "no",
          "no",
          "no",
          "no",
          "no",
          "no",
          "no",
          "no",
          "no",
          "no",
          "no",
          "no",
          "no",
          "no",
          "no",
          "no",
          "no",
          "no",
          "no",
          "no",
          "no",
          "no",
          "no",
          "no",
          "no",
          "no",
          "no",
          "no",
          "no",
          "no",
          "no",
          "no",
          "no",
          "no",
          "no",
          "no",
          "no",
          "no",
          "no",
          "no",
          "no",
          "no",
          "no",
          "no",
          "no",
          "no",
          "no",
          "no",
          "no",
          "no",
          "no",
          "no",
          "no",
          "no",
          "no",
          "no",
          "no",
          "no",
          "no",
          "no",
          "no",
          "no",
          "no",
          "no",
          "no",
          "no",
          "no",
          "no",
          "no",
          "no",
          "no",
          "no",
          "no",
          "no",
          "no",
          "no",
          "no",
          "no",
          "no",
          "no",
          "no",
          "no",
          "no",
          "no",
          "no",
          "no",
          "no",
          "no",
          "no",
          "no",
          "no",
          "no",
          "no",
          "no",
          "no",
          "no",
          "no",
          "no",
          "no",
          "no",
          "no",
          "no",
          "no",
          "no",
          "no",
          "no",
          "no",
          "no",
          "no",
          "no",
          "no",
          "no",
          "no",
          "no",
          "no",
          "no",
          "no",
          "no",
          "no",
          "no",
          "no",
          "no",
          "no",
          "no",
          "no",
          "no",
          "no",
          "no",
          "no",
          "no",
          "no",
          "no",
          "no",
          "no",
          "no",
          "no",
          "no",
          "no",
          "no",
          "no",
          "no",
          "no",
          "no",
          "no",
          "no",
          "no",
          "no",
          "no",
          "no",
          "no",
          "no",
          "no",
          "no",
          "no",
          "no",
          "no",
          "no",
          "no",
          "no",
          "no",
          "no",
          "no",
          "no",
          "no",
          "no",
          "no",
          "no",
          "no",
          "no",
          "no",
          "no",
          "no",
          "no",
          "no",
          "no",
          "no",
          "no",
          "no",
          "no",
          "no",
          "no",
          "no",
          "no",
          "no",
          "no",
          "no",
          "no",
          "no",
          "no",
          "no",
          "no",
          "no",
          "no",
          "no",
          "no",
          "no",
          "no",
          "no",
          "no",
          "no",
          "no",
          "no",
          "no",
          "no",
          "no",
          "no",
          "no",
          "no",
          "no",
          "no",
          "no",
          "no",
          "no",
          "no",
          "no",
          "no",
          "no",
          "no",
          "no",
          "no",
          "no",
          "no",
          "no",
          "no",
          "no",
          "no",
          "no",
          "no",
          "no",
          "no",
          "no",
          "no",
          "no",
          "no",
          "no",
          "no",
          "no",
          "no",
          "no",
          "no",
          "no",
          "no",
          "no",
          "no",
          "no",
          "no",
          "no",
          "no",
          "no",
          "no",
          "no",
          "no",
          "no",
          "no",
          "no",
          "no",
          "no",
          "no",
          "no",
          "no",
          "no",
          "no",
          "no",
          "no",
          "no",
          "no",
          "no",
          "no",
          "no",
          "no",
          "no",
          "no",
          "no",
          "no",
          "no",
          "no",
          "no",
          "no",
          "no",
          "no",
          "no",
          "no",
          "no",
          "no",
          "no",
          "no",
          "no",
          "no",
          "no",
          "no",
          "no",
          "no",
          "no",
          "no",
          "no",
          "no",
          "no",
          "no",
          "no",
          "no",
          "no",
          "no",
          "no",
          "no",
          "no",
          "no",
          "no",
          "no",
          "no",
          "no",
          "no",
          "no",
          "no",
          "no",
          "no",
          "no",
          "no",
          "no",
          "no",
          "no",
          "no",
          "no",
          "no",
          "no",
          "no",
          "no",
          "no",
          "no",
          "no",
          "no",
          "no",
          "no",
          "no",
          "no",
          "no",
          "no",
          "no",
          "no",
          "no",
          "no",
          "no",
          "no",
          "no",
          "no",
          "no",
          "no",
          "no",
          "no",
          "no",
          "no",
          "no",
          "no",
          "no",
          "no",
          "no",
          "no",
          "no",
          "no",
          "no",
          "no",
          "no",
          "no",
          "no",
          "no",
          "no",
          "no",
          "no",
          "no",
          "no",
          "no",
          "no",
          "no",
          "no",
          "no",
          "no",
          "no",
          "no",
          "no",
          "no",
          "no",
          "no",
          "no",
          "no",
          "no",
          "no",
          "no",
          "no",
          "no",
          "no",
          "no",
          "no",
          "no",
          "no",
          "no",
          "no",
          "no",
          "no",
          "no",
          "no",
          "no",
          "no",
          "no",
          "no",
          "no",
          "no",
          "no",
          "no",
          "no",
          "no",
          "no",
          "no",
          "no",
          "no",
          "no",
          "no",
          "no",
          "no",
          "no",
          "no",
          "no",
          "no",
          "no",
          "no",
          "no",
          "no",
          "no",
          "no",
          "no",
          "no",
          "no",
          "no",
          "no",
          "no",
          "no",
          "no",
          "no",
          "no",
          "no",
          "no",
          "no",
          "no",
          "no",
          "no",
          "no",
          "no",
          "no",
          "no",
          "no",
          "no",
          "no",
          "no",
          "no",
          "no",
          "no",
          "no",
          "no",
          "no",
          "no",
          "no",
          "no",
          "no",
          "no",
          "no",
          "no",
          "no",
          "no",
          "no",
          "no",
          "no",
          "no",
          "no",
          "no",
          "no",
          "no",
          "no",
          "no",
          "no",
          "no",
          "no",
          "no",
          "no",
          "no",
          "no",
          "no",
          "no",
          "no",
          "no",
          "no",
          "no",
          "no",
          "no",
          "no",
          "no",
          "no",
          "no",
          "no",
          "no",
          "no",
          "no",
          "no",
          "no",
          "no",
          "no",
          "no",
          "no",
          "no",
          "no",
          "no",
          "no",
          "no",
          "no",
          "no",
          "no",
          "no",
          "no",
          "no",
          "no",
          "no",
          "no",
          "no",
          "no",
          "no",
          "no",
          "no",
          "no",
          "no",
          "no",
          "no",
          "no",
          "no",
          "no",
          "no",
          "no",
          "no",
          "no",
          "no",
          "no",
          "no",
          "no",
          "no",
          "no",
          "no",
          "no",
          "no",
          "no",
          "no",
          "no",
          "no",
          "no",
          "no",
          "no",
          "no",
          "no",
          "no",
          "no",
          "no",
          "no",
          "no",
          "no",
          "no",
          "no",
          "no",
          "no",
          "no",
          "no",
          "no",
          "no",
          "no",
          "no",
          "no",
          "no",
          "no",
          "no",
          "no",
          "no",
          "no",
          "no",
          "no",
          "no",
          "no",
          "no",
          "no",
          "no",
          "no",
          "no",
          "no",
          "no",
          "no",
          "no",
          "no",
          "no",
          "no",
          "no",
          "no",
          "no",
          "no",
          "no",
          "no",
          "no",
          "no",
          "no",
          "no",
          "no",
          "no",
          "no",
          "no",
          "no",
          "no",
          "no",
          "no",
          "no",
          "no",
          "no",
          "no",
          "no",
          "no",
          "no",
          "no",
          "no",
          "no",
          "no",
          "no",
          "no",
          "no",
          "no",
          "no",
          "no",
          "no",
          "no",
          "no",
          "no",
          "no",
          "no",
          "no",
          "no",
          "no",
          "no",
          "no",
          "no",
          "no",
          "no",
          "no",
          "no",
          "no",
          "no",
          "no",
          "no",
          "no",
          "no",
          "no",
          "no",
          "no",
          "no",
          "no",
          "no",
          "no",
          "no"
         ],
         "x0": " ",
         "xaxis": "x",
         "y": {
          "bdata": "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",
          "dtype": "f8"
         },
         "y0": " ",
         "yaxis": "y"
        }
       ],
       "layout": {
        "boxmode": "overlay",
        "legend": {
         "title": {
          "text": "smoker"
         },
         "tracegroupgap": 0
        },
        "template": {
         "data": {
          "bar": [
           {
            "error_x": {
             "color": "#2a3f5f"
            },
            "error_y": {
             "color": "#2a3f5f"
            },
            "marker": {
             "line": {
              "color": "#E5ECF6",
              "width": 0.5
             },
             "pattern": {
              "fillmode": "overlay",
              "size": 10,
              "solidity": 0.2
             }
            },
            "type": "bar"
           }
          ],
          "barpolar": [
           {
            "marker": {
             "line": {
              "color": "#E5ECF6",
              "width": 0.5
             },
             "pattern": {
              "fillmode": "overlay",
              "size": 10,
              "solidity": 0.2
             }
            },
            "type": "barpolar"
           }
          ],
          "carpet": [
           {
            "aaxis": {
             "endlinecolor": "#2a3f5f",
             "gridcolor": "white",
             "linecolor": "white",
             "minorgridcolor": "white",
             "startlinecolor": "#2a3f5f"
            },
            "baxis": {
             "endlinecolor": "#2a3f5f",
             "gridcolor": "white",
             "linecolor": "white",
             "minorgridcolor": "white",
             "startlinecolor": "#2a3f5f"
            },
            "type": "carpet"
           }
          ],
          "choropleth": [
           {
            "colorbar": {
             "outlinewidth": 0,
             "ticks": ""
            },
            "type": "choropleth"
           }
          ],
          "contour": [
           {
            "colorbar": {
             "outlinewidth": 0,
             "ticks": ""
            },
            "colorscale": [
             [
              0,
              "#0d0887"
             ],
             [
              0.1111111111111111,
              "#46039f"
             ],
             [
              0.2222222222222222,
              "#7201a8"
             ],
             [
              0.3333333333333333,
              "#9c179e"
             ],
             [
              0.4444444444444444,
              "#bd3786"
             ],
             [
              0.5555555555555556,
              "#d8576b"
             ],
             [
              0.6666666666666666,
              "#ed7953"
             ],
             [
              0.7777777777777778,
              "#fb9f3a"
             ],
             [
              0.8888888888888888,
              "#fdca26"
             ],
             [
              1,
              "#f0f921"
             ]
            ],
            "type": "contour"
           }
          ],
          "contourcarpet": [
           {
            "colorbar": {
             "outlinewidth": 0,
             "ticks": ""
            },
            "type": "contourcarpet"
           }
          ],
          "heatmap": [
           {
            "colorbar": {
             "outlinewidth": 0,
             "ticks": ""
            },
            "colorscale": [
             [
              0,
              "#0d0887"
             ],
             [
              0.1111111111111111,
              "#46039f"
             ],
             [
              0.2222222222222222,
              "#7201a8"
             ],
             [
              0.3333333333333333,
              "#9c179e"
             ],
             [
              0.4444444444444444,
              "#bd3786"
             ],
             [
              0.5555555555555556,
              "#d8576b"
             ],
             [
              0.6666666666666666,
              "#ed7953"
             ],
             [
              0.7777777777777778,
              "#fb9f3a"
             ],
             [
              0.8888888888888888,
              "#fdca26"
             ],
             [
              1,
              "#f0f921"
             ]
            ],
            "type": "heatmap"
           }
          ],
          "histogram": [
           {
            "marker": {
             "pattern": {
              "fillmode": "overlay",
              "size": 10,
              "solidity": 0.2
             }
            },
            "type": "histogram"
           }
          ],
          "histogram2d": [
           {
            "colorbar": {
             "outlinewidth": 0,
             "ticks": ""
            },
            "colorscale": [
             [
              0,
              "#0d0887"
             ],
             [
              0.1111111111111111,
              "#46039f"
             ],
             [
              0.2222222222222222,
              "#7201a8"
             ],
             [
              0.3333333333333333,
              "#9c179e"
             ],
             [
              0.4444444444444444,
              "#bd3786"
             ],
             [
              0.5555555555555556,
              "#d8576b"
             ],
             [
              0.6666666666666666,
              "#ed7953"
             ],
             [
              0.7777777777777778,
              "#fb9f3a"
             ],
             [
              0.8888888888888888,
              "#fdca26"
             ],
             [
              1,
              "#f0f921"
             ]
            ],
            "type": "histogram2d"
           }
          ],
          "histogram2dcontour": [
           {
            "colorbar": {
             "outlinewidth": 0,
             "ticks": ""
            },
            "colorscale": [
             [
              0,
              "#0d0887"
             ],
             [
              0.1111111111111111,
              "#46039f"
             ],
             [
              0.2222222222222222,
              "#7201a8"
             ],
             [
              0.3333333333333333,
              "#9c179e"
             ],
             [
              0.4444444444444444,
              "#bd3786"
             ],
             [
              0.5555555555555556,
              "#d8576b"
             ],
             [
              0.6666666666666666,
              "#ed7953"
             ],
             [
              0.7777777777777778,
              "#fb9f3a"
             ],
             [
              0.8888888888888888,
              "#fdca26"
             ],
             [
              1,
              "#f0f921"
             ]
            ],
            "type": "histogram2dcontour"
           }
          ],
          "mesh3d": [
           {
            "colorbar": {
             "outlinewidth": 0,
             "ticks": ""
            },
            "type": "mesh3d"
           }
          ],
          "parcoords": [
           {
            "line": {
             "colorbar": {
              "outlinewidth": 0,
              "ticks": ""
             }
            },
            "type": "parcoords"
           }
          ],
          "pie": [
           {
            "automargin": true,
            "type": "pie"
           }
          ],
          "scatter": [
           {
            "fillpattern": {
             "fillmode": "overlay",
             "size": 10,
             "solidity": 0.2
            },
            "type": "scatter"
           }
          ],
          "scatter3d": [
           {
            "line": {
             "colorbar": {
              "outlinewidth": 0,
              "ticks": ""
             }
            },
            "marker": {
             "colorbar": {
              "outlinewidth": 0,
              "ticks": ""
             }
            },
            "type": "scatter3d"
           }
          ],
          "scattercarpet": [
           {
            "marker": {
             "colorbar": {
              "outlinewidth": 0,
              "ticks": ""
             }
            },
            "type": "scattercarpet"
           }
          ],
          "scattergeo": [
           {
            "marker": {
             "colorbar": {
              "outlinewidth": 0,
              "ticks": ""
             }
            },
            "type": "scattergeo"
           }
          ],
          "scattergl": [
           {
            "marker": {
             "colorbar": {
              "outlinewidth": 0,
              "ticks": ""
             }
            },
            "type": "scattergl"
           }
          ],
          "scattermap": [
           {
            "marker": {
             "colorbar": {
              "outlinewidth": 0,
              "ticks": ""
             }
            },
            "type": "scattermap"
           }
          ],
          "scattermapbox": [
           {
            "marker": {
             "colorbar": {
              "outlinewidth": 0,
              "ticks": ""
             }
            },
            "type": "scattermapbox"
           }
          ],
          "scatterpolar": [
           {
            "marker": {
             "colorbar": {
              "outlinewidth": 0,
              "ticks": ""
             }
            },
            "type": "scatterpolar"
           }
          ],
          "scatterpolargl": [
           {
            "marker": {
             "colorbar": {
              "outlinewidth": 0,
              "ticks": ""
             }
            },
            "type": "scatterpolargl"
           }
          ],
          "scatterternary": [
           {
            "marker": {
             "colorbar": {
              "outlinewidth": 0,
              "ticks": ""
             }
            },
            "type": "scatterternary"
           }
          ],
          "surface": [
           {
            "colorbar": {
             "outlinewidth": 0,
             "ticks": ""
            },
            "colorscale": [
             [
              0,
              "#0d0887"
             ],
             [
              0.1111111111111111,
              "#46039f"
             ],
             [
              0.2222222222222222,
              "#7201a8"
             ],
             [
              0.3333333333333333,
              "#9c179e"
             ],
             [
              0.4444444444444444,
              "#bd3786"
             ],
             [
              0.5555555555555556,
              "#d8576b"
             ],
             [
              0.6666666666666666,
              "#ed7953"
             ],
             [
              0.7777777777777778,
              "#fb9f3a"
             ],
             [
              0.8888888888888888,
              "#fdca26"
             ],
             [
              1,
              "#f0f921"
             ]
            ],
            "type": "surface"
           }
          ],
          "table": [
           {
            "cells": {
             "fill": {
              "color": "#EBF0F8"
             },
             "line": {
              "color": "white"
             }
            },
            "header": {
             "fill": {
              "color": "#C8D4E3"
             },
             "line": {
              "color": "white"
             }
            },
            "type": "table"
           }
          ]
         },
         "layout": {
          "annotationdefaults": {
           "arrowcolor": "#2a3f5f",
           "arrowhead": 0,
           "arrowwidth": 1
          },
          "autotypenumbers": "strict",
          "coloraxis": {
           "colorbar": {
            "outlinewidth": 0,
            "ticks": ""
           }
          },
          "colorscale": {
           "diverging": [
            [
             0,
             "#8e0152"
            ],
            [
             0.1,
             "#c51b7d"
            ],
            [
             0.2,
             "#de77ae"
            ],
            [
             0.3,
             "#f1b6da"
            ],
            [
             0.4,
             "#fde0ef"
            ],
            [
             0.5,
             "#f7f7f7"
            ],
            [
             0.6,
             "#e6f5d0"
            ],
            [
             0.7,
             "#b8e186"
            ],
            [
             0.8,
             "#7fbc41"
            ],
            [
             0.9,
             "#4d9221"
            ],
            [
             1,
             "#276419"
            ]
           ],
           "sequential": [
            [
             0,
             "#0d0887"
            ],
            [
             0.1111111111111111,
             "#46039f"
            ],
            [
             0.2222222222222222,
             "#7201a8"
            ],
            [
             0.3333333333333333,
             "#9c179e"
            ],
            [
             0.4444444444444444,
             "#bd3786"
            ],
            [
             0.5555555555555556,
             "#d8576b"
            ],
            [
             0.6666666666666666,
             "#ed7953"
            ],
            [
             0.7777777777777778,
             "#fb9f3a"
            ],
            [
             0.8888888888888888,
             "#fdca26"
            ],
            [
             1,
             "#f0f921"
            ]
           ],
           "sequentialminus": [
            [
             0,
             "#0d0887"
            ],
            [
             0.1111111111111111,
             "#46039f"
            ],
            [
             0.2222222222222222,
             "#7201a8"
            ],
            [
             0.3333333333333333,
             "#9c179e"
            ],
            [
             0.4444444444444444,
             "#bd3786"
            ],
            [
             0.5555555555555556,
             "#d8576b"
            ],
            [
             0.6666666666666666,
             "#ed7953"
            ],
            [
             0.7777777777777778,
             "#fb9f3a"
            ],
            [
             0.8888888888888888,
             "#fdca26"
            ],
            [
             1,
             "#f0f921"
            ]
           ]
          },
          "colorway": [
           "#636efa",
           "#EF553B",
           "#00cc96",
           "#ab63fa",
           "#FFA15A",
           "#19d3f3",
           "#FF6692",
           "#B6E880",
           "#FF97FF",
           "#FECB52"
          ],
          "font": {
           "color": "#2a3f5f"
          },
          "geo": {
           "bgcolor": "white",
           "lakecolor": "white",
           "landcolor": "#E5ECF6",
           "showlakes": true,
           "showland": true,
           "subunitcolor": "white"
          },
          "hoverlabel": {
           "align": "left"
          },
          "hovermode": "closest",
          "mapbox": {
           "style": "light"
          },
          "paper_bgcolor": "white",
          "plot_bgcolor": "#E5ECF6",
          "polar": {
           "angularaxis": {
            "gridcolor": "white",
            "linecolor": "white",
            "ticks": ""
           },
           "bgcolor": "#E5ECF6",
           "radialaxis": {
            "gridcolor": "white",
            "linecolor": "white",
            "ticks": ""
           }
          },
          "scene": {
           "xaxis": {
            "backgroundcolor": "#E5ECF6",
            "gridcolor": "white",
            "gridwidth": 2,
            "linecolor": "white",
            "showbackground": true,
            "ticks": "",
            "zerolinecolor": "white"
           },
           "yaxis": {
            "backgroundcolor": "#E5ECF6",
            "gridcolor": "white",
            "gridwidth": 2,
            "linecolor": "white",
            "showbackground": true,
            "ticks": "",
            "zerolinecolor": "white"
           },
           "zaxis": {
            "backgroundcolor": "#E5ECF6",
            "gridcolor": "white",
            "gridwidth": 2,
            "linecolor": "white",
            "showbackground": true,
            "ticks": "",
            "zerolinecolor": "white"
           }
          },
          "shapedefaults": {
           "line": {
            "color": "#2a3f5f"
           }
          },
          "ternary": {
           "aaxis": {
            "gridcolor": "white",
            "linecolor": "white",
            "ticks": ""
           },
           "baxis": {
            "gridcolor": "white",
            "linecolor": "white",
            "ticks": ""
           },
           "bgcolor": "#E5ECF6",
           "caxis": {
            "gridcolor": "white",
            "linecolor": "white",
            "ticks": ""
           }
          },
          "title": {
           "x": 0.05
          },
          "xaxis": {
           "automargin": true,
           "gridcolor": "white",
           "linecolor": "white",
           "ticks": "",
           "title": {
            "standoff": 15
           },
           "zerolinecolor": "white",
           "zerolinewidth": 2
          },
          "yaxis": {
           "automargin": true,
           "gridcolor": "white",
           "linecolor": "white",
           "ticks": "",
           "title": {
            "standoff": 15
           },
           "zerolinecolor": "white",
           "zerolinewidth": 2
          }
         }
        },
        "title": {
         "text": "Distribution of charges by smoking habits"
        },
        "xaxis": {
         "anchor": "y",
         "categoryarray": [
          "yes",
          "no"
         ],
         "categoryorder": "array",
         "domain": [
          0,
          1
         ],
         "title": {
          "text": "smoker"
         }
        },
        "yaxis": {
         "anchor": "x",
         "domain": [
          0,
          1
         ],
         "title": {
          "text": "charges"
         }
        }
       }
      }
     },
     "metadata": {},
     "output_type": "display_data"
    }
   ],
   "source": [
    "fig2 = px.box(\n",
    "    df,\n",
    "    x=\"smoker\",\n",
    "    y=\"charges\",\n",
    "    color=\"smoker\",\n",
    "    title=\"Distribution of charges by smoking habits\"\n",
    ")\n",
    "fig2.show()"
   ]
  },
  {
   "cell_type": "markdown",
   "id": "7f00d4c5",
   "metadata": {},
   "source": [
    "1. Create a scatter plot of BMI vs Charges from the insurance.csv dataset.\n",
    "2. Improve the plot by showing smoker status as color, age by size\n"
   ]
  },
  {
   "cell_type": "markdown",
   "id": "7a96bb56",
   "metadata": {},
   "source": [
    "### When you have a dataset and don't have an idea of what each variable is doing, then run a correlation exercise to understand the role each variable plays.\n"
   ]
  },
  {
   "cell_type": "markdown",
   "id": "04e8a469",
   "metadata": {},
   "source": [
    "### How to explore data: Retail:\n",
    " - How do sales vary by store, department, date, and holiday?\n",
    " - What impact does markdown have on sales?\n",
    " - How do external features(temp, fuel price, unemployment, CPI) correlate with each other?\n",
    " - Which department/store are most influenced by holidays and markdowns?\n",
    "\n",
    " ### Big Question:\n",
    " - How will sales look next year?\n",
    "\n",
    " Recommended Plotly visuals:\n",
    " - Weekly sales over time - lineplot\n",
    " - Sales by StoreType and Size - Boxplot\n",
    " - Markdowns vs Sales (Scatter/Bubble plot)\n",
    " - Heatmap for average sales per week and store\n",
    " \n",
    " ### Feature Correlation Matrix:\n",
    " - To explore correlations between numeric features and sales\n",
    "\n",
    "\n",
    " **REMEMBER** You should be able to explain why you chose a visual. Also, reflect on data cleaning decisions.\n",
    "\n",
    " ### Flag underperforming variables: Suggest alternatives"
   ]
  }
 ],
 "metadata": {
  "kernelspec": {
   "display_name": ".venv",
   "language": "python",
   "name": "python3"
  },
  "language_info": {
   "codemirror_mode": {
    "name": "ipython",
    "version": 3
   },
   "file_extension": ".py",
   "mimetype": "text/x-python",
   "name": "python",
   "nbconvert_exporter": "python",
   "pygments_lexer": "ipython3",
   "version": "3.12.8"
  }
 },
 "nbformat": 4,
 "nbformat_minor": 5
}
