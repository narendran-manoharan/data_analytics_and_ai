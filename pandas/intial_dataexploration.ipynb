{
 "cells": [
  {
   "cell_type": "code",
   "execution_count": 2,
   "id": "4b65056d",
   "metadata": {},
   "outputs": [],
   "source": [
    "import numpy as np\n",
    "import pandas as pd"
   ]
  },
  {
   "cell_type": "code",
   "execution_count": 3,
   "id": "0849217d",
   "metadata": {},
   "outputs": [
    {
     "data": {
      "text/html": [
       "<div>\n",
       "<style scoped>\n",
       "    .dataframe tbody tr th:only-of-type {\n",
       "        vertical-align: middle;\n",
       "    }\n",
       "\n",
       "    .dataframe tbody tr th {\n",
       "        vertical-align: top;\n",
       "    }\n",
       "\n",
       "    .dataframe thead th {\n",
       "        text-align: right;\n",
       "    }\n",
       "</style>\n",
       "<table border=\"1\" class=\"dataframe\">\n",
       "  <thead>\n",
       "    <tr style=\"text-align: right;\">\n",
       "      <th></th>\n",
       "      <th>Col1</th>\n",
       "      <th>Col2</th>\n",
       "      <th>Col3</th>\n",
       "      <th>Col4</th>\n",
       "      <th>Col5</th>\n",
       "    </tr>\n",
       "  </thead>\n",
       "  <tbody>\n",
       "    <tr>\n",
       "      <th>2024-01-31</th>\n",
       "      <td>884</td>\n",
       "      <td>1.450048</td>\n",
       "      <td>B</td>\n",
       "      <td>False</td>\n",
       "      <td>89</td>\n",
       "    </tr>\n",
       "    <tr>\n",
       "      <th>2024-02-29</th>\n",
       "      <td>834</td>\n",
       "      <td>0.009451</td>\n",
       "      <td>A</td>\n",
       "      <td>False</td>\n",
       "      <td>59</td>\n",
       "    </tr>\n",
       "    <tr>\n",
       "      <th>2024-03-31</th>\n",
       "      <td>712</td>\n",
       "      <td>-1.089515</td>\n",
       "      <td>C</td>\n",
       "      <td>True</td>\n",
       "      <td>62</td>\n",
       "    </tr>\n",
       "    <tr>\n",
       "      <th>2024-04-30</th>\n",
       "      <td>800</td>\n",
       "      <td>-0.113944</td>\n",
       "      <td>C</td>\n",
       "      <td>False</td>\n",
       "      <td>94</td>\n",
       "    </tr>\n",
       "    <tr>\n",
       "      <th>2024-05-31</th>\n",
       "      <td>731</td>\n",
       "      <td>0.835361</td>\n",
       "      <td>A</td>\n",
       "      <td>True</td>\n",
       "      <td>50</td>\n",
       "    </tr>\n",
       "    <tr>\n",
       "      <th>2024-06-30</th>\n",
       "      <td>723</td>\n",
       "      <td>1.001138</td>\n",
       "      <td>C</td>\n",
       "      <td>True</td>\n",
       "      <td>50</td>\n",
       "    </tr>\n",
       "    <tr>\n",
       "      <th>2024-07-31</th>\n",
       "      <td>637</td>\n",
       "      <td>0.783640</td>\n",
       "      <td>A</td>\n",
       "      <td>False</td>\n",
       "      <td>90</td>\n",
       "    </tr>\n",
       "    <tr>\n",
       "      <th>2024-08-31</th>\n",
       "      <td>720</td>\n",
       "      <td>-0.584472</td>\n",
       "      <td>C</td>\n",
       "      <td>False</td>\n",
       "      <td>69</td>\n",
       "    </tr>\n",
       "    <tr>\n",
       "      <th>2024-09-30</th>\n",
       "      <td>813</td>\n",
       "      <td>2.562680</td>\n",
       "      <td>A</td>\n",
       "      <td>True</td>\n",
       "      <td>96</td>\n",
       "    </tr>\n",
       "    <tr>\n",
       "      <th>2024-10-31</th>\n",
       "      <td>572</td>\n",
       "      <td>-0.831801</td>\n",
       "      <td>C</td>\n",
       "      <td>False</td>\n",
       "      <td>85</td>\n",
       "    </tr>\n",
       "  </tbody>\n",
       "</table>\n",
       "</div>"
      ],
      "text/plain": [
       "            Col1      Col2 Col3   Col4  Col5\n",
       "2024-01-31   884  1.450048    B  False    89\n",
       "2024-02-29   834  0.009451    A  False    59\n",
       "2024-03-31   712 -1.089515    C   True    62\n",
       "2024-04-30   800 -0.113944    C  False    94\n",
       "2024-05-31   731  0.835361    A   True    50\n",
       "2024-06-30   723  1.001138    C   True    50\n",
       "2024-07-31   637  0.783640    A  False    90\n",
       "2024-08-31   720 -0.584472    C  False    69\n",
       "2024-09-30   813  2.562680    A   True    96\n",
       "2024-10-31   572 -0.831801    C  False    85"
      ]
     },
     "execution_count": 3,
     "metadata": {},
     "output_type": "execute_result"
    }
   ],
   "source": [
    "df = pd.DataFrame(data={\"Col1\": np.random.randint(560, 999,10),\n",
    "                        \"Col2\": np.random.randn(10),\n",
    "                        \"Col3\": np.random.choice([\"A\", \"B\", \"C\"], size= 10), \n",
    "                        \"Col4\": np.random.choice([True, False], size= 10), \n",
    "                        \"Col5\": np.random.randint(50, 100, 10)},\n",
    "                    index=pd.date_range(start=\"01/01/2024\", periods=10, freq=\"ME\"))\n",
    "df"
   ]
  },
  {
   "cell_type": "code",
   "execution_count": 4,
   "id": "0236bbf5",
   "metadata": {},
   "outputs": [
    {
     "name": "stdout",
     "output_type": "stream",
     "text": [
      "<class 'pandas.core.frame.DataFrame'>\n",
      "DatetimeIndex: 10 entries, 2024-01-31 to 2024-10-31\n",
      "Freq: ME\n",
      "Data columns (total 5 columns):\n",
      " #   Column  Non-Null Count  Dtype  \n",
      "---  ------  --------------  -----  \n",
      " 0   Col1    10 non-null     int32  \n",
      " 1   Col2    10 non-null     float64\n",
      " 2   Col3    10 non-null     object \n",
      " 3   Col4    10 non-null     bool   \n",
      " 4   Col5    10 non-null     int32  \n",
      "dtypes: bool(1), float64(1), int32(2), object(1)\n",
      "memory usage: 330.0+ bytes\n"
     ]
    }
   ],
   "source": [
    "df.info()"
   ]
  },
  {
   "cell_type": "code",
   "execution_count": 5,
   "id": "54d39432",
   "metadata": {},
   "outputs": [
    {
     "data": {
      "text/html": [
       "<div>\n",
       "<style scoped>\n",
       "    .dataframe tbody tr th:only-of-type {\n",
       "        vertical-align: middle;\n",
       "    }\n",
       "\n",
       "    .dataframe tbody tr th {\n",
       "        vertical-align: top;\n",
       "    }\n",
       "\n",
       "    .dataframe thead th {\n",
       "        text-align: right;\n",
       "    }\n",
       "</style>\n",
       "<table border=\"1\" class=\"dataframe\">\n",
       "  <thead>\n",
       "    <tr style=\"text-align: right;\">\n",
       "      <th></th>\n",
       "      <th>Col1</th>\n",
       "      <th>Col2</th>\n",
       "      <th>Col3</th>\n",
       "      <th>Col4</th>\n",
       "      <th>Col5</th>\n",
       "    </tr>\n",
       "  </thead>\n",
       "  <tbody>\n",
       "    <tr>\n",
       "      <th>2024-01-31</th>\n",
       "      <td>884</td>\n",
       "      <td>1.450048</td>\n",
       "      <td>B</td>\n",
       "      <td>False</td>\n",
       "      <td>89</td>\n",
       "    </tr>\n",
       "    <tr>\n",
       "      <th>2024-02-29</th>\n",
       "      <td>834</td>\n",
       "      <td>0.009451</td>\n",
       "      <td>A</td>\n",
       "      <td>False</td>\n",
       "      <td>59</td>\n",
       "    </tr>\n",
       "    <tr>\n",
       "      <th>2024-03-31</th>\n",
       "      <td>712</td>\n",
       "      <td>-1.089515</td>\n",
       "      <td>C</td>\n",
       "      <td>True</td>\n",
       "      <td>62</td>\n",
       "    </tr>\n",
       "    <tr>\n",
       "      <th>2024-04-30</th>\n",
       "      <td>800</td>\n",
       "      <td>-0.113944</td>\n",
       "      <td>C</td>\n",
       "      <td>False</td>\n",
       "      <td>94</td>\n",
       "    </tr>\n",
       "    <tr>\n",
       "      <th>2024-05-31</th>\n",
       "      <td>731</td>\n",
       "      <td>0.835361</td>\n",
       "      <td>A</td>\n",
       "      <td>True</td>\n",
       "      <td>50</td>\n",
       "    </tr>\n",
       "  </tbody>\n",
       "</table>\n",
       "</div>"
      ],
      "text/plain": [
       "            Col1      Col2 Col3   Col4  Col5\n",
       "2024-01-31   884  1.450048    B  False    89\n",
       "2024-02-29   834  0.009451    A  False    59\n",
       "2024-03-31   712 -1.089515    C   True    62\n",
       "2024-04-30   800 -0.113944    C  False    94\n",
       "2024-05-31   731  0.835361    A   True    50"
      ]
     },
     "execution_count": 5,
     "metadata": {},
     "output_type": "execute_result"
    }
   ],
   "source": [
    "df.head()"
   ]
  },
  {
   "cell_type": "code",
   "execution_count": 6,
   "id": "3912010e",
   "metadata": {},
   "outputs": [
    {
     "data": {
      "text/html": [
       "<div>\n",
       "<style scoped>\n",
       "    .dataframe tbody tr th:only-of-type {\n",
       "        vertical-align: middle;\n",
       "    }\n",
       "\n",
       "    .dataframe tbody tr th {\n",
       "        vertical-align: top;\n",
       "    }\n",
       "\n",
       "    .dataframe thead th {\n",
       "        text-align: right;\n",
       "    }\n",
       "</style>\n",
       "<table border=\"1\" class=\"dataframe\">\n",
       "  <thead>\n",
       "    <tr style=\"text-align: right;\">\n",
       "      <th></th>\n",
       "      <th>Col1</th>\n",
       "      <th>Col2</th>\n",
       "      <th>Col3</th>\n",
       "      <th>Col4</th>\n",
       "      <th>Col5</th>\n",
       "    </tr>\n",
       "  </thead>\n",
       "  <tbody>\n",
       "    <tr>\n",
       "      <th>2024-01-31</th>\n",
       "      <td>884</td>\n",
       "      <td>1.450048</td>\n",
       "      <td>B</td>\n",
       "      <td>False</td>\n",
       "      <td>89</td>\n",
       "    </tr>\n",
       "    <tr>\n",
       "      <th>2024-02-29</th>\n",
       "      <td>834</td>\n",
       "      <td>0.009451</td>\n",
       "      <td>A</td>\n",
       "      <td>False</td>\n",
       "      <td>59</td>\n",
       "    </tr>\n",
       "    <tr>\n",
       "      <th>2024-03-31</th>\n",
       "      <td>712</td>\n",
       "      <td>-1.089515</td>\n",
       "      <td>C</td>\n",
       "      <td>True</td>\n",
       "      <td>62</td>\n",
       "    </tr>\n",
       "    <tr>\n",
       "      <th>2024-04-30</th>\n",
       "      <td>800</td>\n",
       "      <td>-0.113944</td>\n",
       "      <td>C</td>\n",
       "      <td>False</td>\n",
       "      <td>94</td>\n",
       "    </tr>\n",
       "    <tr>\n",
       "      <th>2024-05-31</th>\n",
       "      <td>731</td>\n",
       "      <td>0.835361</td>\n",
       "      <td>A</td>\n",
       "      <td>True</td>\n",
       "      <td>50</td>\n",
       "    </tr>\n",
       "  </tbody>\n",
       "</table>\n",
       "</div>"
      ],
      "text/plain": [
       "            Col1      Col2 Col3   Col4  Col5\n",
       "2024-01-31   884  1.450048    B  False    89\n",
       "2024-02-29   834  0.009451    A  False    59\n",
       "2024-03-31   712 -1.089515    C   True    62\n",
       "2024-04-30   800 -0.113944    C  False    94\n",
       "2024-05-31   731  0.835361    A   True    50"
      ]
     },
     "execution_count": 6,
     "metadata": {},
     "output_type": "execute_result"
    }
   ],
   "source": [
    "df.head(n=5)"
   ]
  },
  {
   "cell_type": "code",
   "execution_count": 7,
   "id": "acf98085",
   "metadata": {},
   "outputs": [
    {
     "data": {
      "text/html": [
       "<div>\n",
       "<style scoped>\n",
       "    .dataframe tbody tr th:only-of-type {\n",
       "        vertical-align: middle;\n",
       "    }\n",
       "\n",
       "    .dataframe tbody tr th {\n",
       "        vertical-align: top;\n",
       "    }\n",
       "\n",
       "    .dataframe thead th {\n",
       "        text-align: right;\n",
       "    }\n",
       "</style>\n",
       "<table border=\"1\" class=\"dataframe\">\n",
       "  <thead>\n",
       "    <tr style=\"text-align: right;\">\n",
       "      <th></th>\n",
       "      <th>Col1</th>\n",
       "      <th>Col2</th>\n",
       "      <th>Col3</th>\n",
       "      <th>Col4</th>\n",
       "      <th>Col5</th>\n",
       "    </tr>\n",
       "  </thead>\n",
       "  <tbody>\n",
       "    <tr>\n",
       "      <th>2024-06-30</th>\n",
       "      <td>723</td>\n",
       "      <td>1.001138</td>\n",
       "      <td>C</td>\n",
       "      <td>True</td>\n",
       "      <td>50</td>\n",
       "    </tr>\n",
       "    <tr>\n",
       "      <th>2024-07-31</th>\n",
       "      <td>637</td>\n",
       "      <td>0.783640</td>\n",
       "      <td>A</td>\n",
       "      <td>False</td>\n",
       "      <td>90</td>\n",
       "    </tr>\n",
       "    <tr>\n",
       "      <th>2024-08-31</th>\n",
       "      <td>720</td>\n",
       "      <td>-0.584472</td>\n",
       "      <td>C</td>\n",
       "      <td>False</td>\n",
       "      <td>69</td>\n",
       "    </tr>\n",
       "    <tr>\n",
       "      <th>2024-09-30</th>\n",
       "      <td>813</td>\n",
       "      <td>2.562680</td>\n",
       "      <td>A</td>\n",
       "      <td>True</td>\n",
       "      <td>96</td>\n",
       "    </tr>\n",
       "    <tr>\n",
       "      <th>2024-10-31</th>\n",
       "      <td>572</td>\n",
       "      <td>-0.831801</td>\n",
       "      <td>C</td>\n",
       "      <td>False</td>\n",
       "      <td>85</td>\n",
       "    </tr>\n",
       "  </tbody>\n",
       "</table>\n",
       "</div>"
      ],
      "text/plain": [
       "            Col1      Col2 Col3   Col4  Col5\n",
       "2024-06-30   723  1.001138    C   True    50\n",
       "2024-07-31   637  0.783640    A  False    90\n",
       "2024-08-31   720 -0.584472    C  False    69\n",
       "2024-09-30   813  2.562680    A   True    96\n",
       "2024-10-31   572 -0.831801    C  False    85"
      ]
     },
     "execution_count": 7,
     "metadata": {},
     "output_type": "execute_result"
    }
   ],
   "source": [
    "df.tail()"
   ]
  },
  {
   "cell_type": "code",
   "execution_count": 10,
   "id": "9d6104cf",
   "metadata": {},
   "outputs": [
    {
     "data": {
      "text/plain": [
       "Index(['Col1', 'Col2', 'Col3', 'Col4', 'Col5'], dtype='object')"
      ]
     },
     "execution_count": 10,
     "metadata": {},
     "output_type": "execute_result"
    }
   ],
   "source": [
    "df.columns"
   ]
  },
  {
   "cell_type": "code",
   "execution_count": null,
   "id": "8bdf15cc",
   "metadata": {},
   "outputs": [
    {
     "data": {
      "text/plain": [
       "(10, 5)"
      ]
     },
     "execution_count": 16,
     "metadata": {},
     "output_type": "execute_result"
    }
   ],
   "source": [
    "df.shape"
   ]
  },
  {
   "cell_type": "code",
   "execution_count": null,
   "id": "9ce027eb",
   "metadata": {},
   "outputs": [
    {
     "data": {
      "text/plain": [
       "Col1      int32\n",
       "Col2    float64\n",
       "Col3     object\n",
       "Col4       bool\n",
       "Col5      int32\n",
       "dtype: object"
      ]
     },
     "execution_count": 17,
     "metadata": {},
     "output_type": "execute_result"
    }
   ],
   "source": [
    "df.dtypes"
   ]
  },
  {
   "cell_type": "code",
   "execution_count": 23,
   "id": "2b1279f3",
   "metadata": {},
   "outputs": [
    {
     "data": {
      "text/plain": [
       "Index(['Col1', 'Col2', 'Col3', 'Col4', 'Col5'], dtype='object')"
      ]
     },
     "execution_count": 23,
     "metadata": {},
     "output_type": "execute_result"
    }
   ],
   "source": [
    "df.columns"
   ]
  },
  {
   "cell_type": "code",
   "execution_count": null,
   "id": "2352e9e1",
   "metadata": {},
   "outputs": [
    {
     "data": {
      "text/plain": [
       "pandas.core.indexes.base.Index"
      ]
     },
     "execution_count": 18,
     "metadata": {},
     "output_type": "execute_result"
    }
   ],
   "source": [
    "type(df.columns)"
   ]
  },
  {
   "cell_type": "code",
   "execution_count": null,
   "id": "bd3386ef",
   "metadata": {},
   "outputs": [
    {
     "data": {
      "text/plain": [
       "['Col1', 'Col2', 'Col3', 'Col4', 'Col5']"
      ]
     },
     "execution_count": 21,
     "metadata": {},
     "output_type": "execute_result"
    }
   ],
   "source": [
    "df.columns.to_list()"
   ]
  },
  {
   "cell_type": "code",
   "execution_count": null,
   "id": "a2bedc83",
   "metadata": {},
   "outputs": [
    {
     "data": {
      "text/plain": [
       "['Col1', 'Col2', 'Col3', 'Col4', 'Col5']"
      ]
     },
     "execution_count": 22,
     "metadata": {},
     "output_type": "execute_result"
    }
   ],
   "source": [
    "list(df.columns)"
   ]
  },
  {
   "cell_type": "code",
   "execution_count": 12,
   "id": "b292ef07",
   "metadata": {},
   "outputs": [
    {
     "data": {
      "text/plain": [
       "array([884, 834, 712, 800, 731, 723, 637, 720, 813, 572], dtype=int32)"
      ]
     },
     "execution_count": 12,
     "metadata": {},
     "output_type": "execute_result"
    }
   ],
   "source": [
    "df[\"Col1\"].unique()"
   ]
  },
  {
   "cell_type": "code",
   "execution_count": null,
   "id": "8f0b8fe7",
   "metadata": {},
   "outputs": [
    {
     "data": {
      "text/plain": [
       "array(['C', 'B', 'A'], dtype=object)"
      ]
     },
     "execution_count": 23,
     "metadata": {},
     "output_type": "execute_result"
    }
   ],
   "source": [
    "df[\"Col3\"].unique()"
   ]
  },
  {
   "cell_type": "code",
   "execution_count": null,
   "id": "2a10765b",
   "metadata": {},
   "outputs": [
    {
     "data": {
      "text/html": [
       "<div>\n",
       "<style scoped>\n",
       "    .dataframe tbody tr th:only-of-type {\n",
       "        vertical-align: middle;\n",
       "    }\n",
       "\n",
       "    .dataframe tbody tr th {\n",
       "        vertical-align: top;\n",
       "    }\n",
       "\n",
       "    .dataframe thead th {\n",
       "        text-align: right;\n",
       "    }\n",
       "</style>\n",
       "<table border=\"1\" class=\"dataframe\">\n",
       "  <thead>\n",
       "    <tr style=\"text-align: right;\">\n",
       "      <th></th>\n",
       "      <th>Col1</th>\n",
       "      <th>Col2</th>\n",
       "      <th>Col3</th>\n",
       "      <th>Col4</th>\n",
       "      <th>Col5</th>\n",
       "    </tr>\n",
       "  </thead>\n",
       "  <tbody>\n",
       "    <tr>\n",
       "      <th>2024-01-31</th>\n",
       "      <td>947</td>\n",
       "      <td>-0.373196</td>\n",
       "      <td>C</td>\n",
       "      <td>False</td>\n",
       "      <td>63</td>\n",
       "    </tr>\n",
       "    <tr>\n",
       "      <th>2024-02-29</th>\n",
       "      <td>698</td>\n",
       "      <td>1.294737</td>\n",
       "      <td>B</td>\n",
       "      <td>False</td>\n",
       "      <td>91</td>\n",
       "    </tr>\n",
       "    <tr>\n",
       "      <th>2024-03-31</th>\n",
       "      <td>878</td>\n",
       "      <td>-0.494710</td>\n",
       "      <td>A</td>\n",
       "      <td>True</td>\n",
       "      <td>93</td>\n",
       "    </tr>\n",
       "    <tr>\n",
       "      <th>2024-04-30</th>\n",
       "      <td>572</td>\n",
       "      <td>-0.429545</td>\n",
       "      <td>C</td>\n",
       "      <td>True</td>\n",
       "      <td>66</td>\n",
       "    </tr>\n",
       "    <tr>\n",
       "      <th>2024-05-31</th>\n",
       "      <td>956</td>\n",
       "      <td>0.378144</td>\n",
       "      <td>C</td>\n",
       "      <td>True</td>\n",
       "      <td>80</td>\n",
       "    </tr>\n",
       "    <tr>\n",
       "      <th>2024-06-30</th>\n",
       "      <td>775</td>\n",
       "      <td>-0.583026</td>\n",
       "      <td>C</td>\n",
       "      <td>False</td>\n",
       "      <td>56</td>\n",
       "    </tr>\n",
       "    <tr>\n",
       "      <th>2024-07-31</th>\n",
       "      <td>587</td>\n",
       "      <td>0.432975</td>\n",
       "      <td>C</td>\n",
       "      <td>False</td>\n",
       "      <td>68</td>\n",
       "    </tr>\n",
       "    <tr>\n",
       "      <th>2024-08-31</th>\n",
       "      <td>957</td>\n",
       "      <td>0.752827</td>\n",
       "      <td>B</td>\n",
       "      <td>True</td>\n",
       "      <td>55</td>\n",
       "    </tr>\n",
       "    <tr>\n",
       "      <th>2024-09-30</th>\n",
       "      <td>738</td>\n",
       "      <td>-0.311400</td>\n",
       "      <td>C</td>\n",
       "      <td>False</td>\n",
       "      <td>85</td>\n",
       "    </tr>\n",
       "    <tr>\n",
       "      <th>2024-10-31</th>\n",
       "      <td>805</td>\n",
       "      <td>-0.511479</td>\n",
       "      <td>C</td>\n",
       "      <td>True</td>\n",
       "      <td>69</td>\n",
       "    </tr>\n",
       "  </tbody>\n",
       "</table>\n",
       "</div>"
      ],
      "text/plain": [
       "            Col1      Col2 Col3   Col4  Col5\n",
       "2024-01-31   947 -0.373196    C  False    63\n",
       "2024-02-29   698  1.294737    B  False    91\n",
       "2024-03-31   878 -0.494710    A   True    93\n",
       "2024-04-30   572 -0.429545    C   True    66\n",
       "2024-05-31   956  0.378144    C   True    80\n",
       "2024-06-30   775 -0.583026    C  False    56\n",
       "2024-07-31   587  0.432975    C  False    68\n",
       "2024-08-31   957  0.752827    B   True    55\n",
       "2024-09-30   738 -0.311400    C  False    85\n",
       "2024-10-31   805 -0.511479    C   True    69"
      ]
     },
     "execution_count": 26,
     "metadata": {},
     "output_type": "execute_result"
    }
   ],
   "source": [
    "df"
   ]
  },
  {
   "cell_type": "code",
   "execution_count": null,
   "id": "9cc0cb82",
   "metadata": {},
   "outputs": [
    {
     "data": {
      "text/plain": [
       "10"
      ]
     },
     "execution_count": 27,
     "metadata": {},
     "output_type": "execute_result"
    }
   ],
   "source": [
    "df[\"Col5\"].nunique()"
   ]
  },
  {
   "cell_type": "code",
   "execution_count": 22,
   "id": "5badf04b",
   "metadata": {},
   "outputs": [
    {
     "data": {
      "text/plain": [
       "Col2\n",
       "-1.089515    1\n",
       "-0.831801    1\n",
       "-0.584472    1\n",
       "-0.113944    1\n",
       " 0.009451    1\n",
       " 0.783640    1\n",
       " 0.835361    1\n",
       " 1.001138    1\n",
       " 1.450048    1\n",
       " 2.562680    1\n",
       "Name: count, dtype: int64"
      ]
     },
     "execution_count": 22,
     "metadata": {},
     "output_type": "execute_result"
    }
   ],
   "source": [
    "df.value_counts(\"Col2\")"
   ]
  },
  {
   "cell_type": "code",
   "execution_count": null,
   "id": "8dd4b037",
   "metadata": {},
   "outputs": [
    {
     "data": {
      "text/plain": [
       "pandas.core.series.Series"
      ]
     },
     "execution_count": 19,
     "metadata": {},
     "output_type": "execute_result"
    }
   ],
   "source": [
    "df[\"Col3\"].value_counts(normalize=True)"
   ]
  },
  {
   "cell_type": "code",
   "execution_count": null,
   "id": "292de871",
   "metadata": {},
   "outputs": [
    {
     "data": {
      "text/html": [
       "<div>\n",
       "<style scoped>\n",
       "    .dataframe tbody tr th:only-of-type {\n",
       "        vertical-align: middle;\n",
       "    }\n",
       "\n",
       "    .dataframe tbody tr th {\n",
       "        vertical-align: top;\n",
       "    }\n",
       "\n",
       "    .dataframe thead th {\n",
       "        text-align: right;\n",
       "    }\n",
       "</style>\n",
       "<table border=\"1\" class=\"dataframe\">\n",
       "  <thead>\n",
       "    <tr style=\"text-align: right;\">\n",
       "      <th></th>\n",
       "      <th>Col1</th>\n",
       "      <th>Col2</th>\n",
       "      <th>Col3</th>\n",
       "      <th>Col4</th>\n",
       "      <th>Col5</th>\n",
       "    </tr>\n",
       "  </thead>\n",
       "  <tbody>\n",
       "    <tr>\n",
       "      <th>2024-01-31</th>\n",
       "      <td>947</td>\n",
       "      <td>-0.373196</td>\n",
       "      <td>C</td>\n",
       "      <td>False</td>\n",
       "      <td>63</td>\n",
       "    </tr>\n",
       "    <tr>\n",
       "      <th>2024-02-29</th>\n",
       "      <td>698</td>\n",
       "      <td>1.294737</td>\n",
       "      <td>B</td>\n",
       "      <td>False</td>\n",
       "      <td>91</td>\n",
       "    </tr>\n",
       "    <tr>\n",
       "      <th>2024-03-31</th>\n",
       "      <td>878</td>\n",
       "      <td>-0.494710</td>\n",
       "      <td>A</td>\n",
       "      <td>True</td>\n",
       "      <td>93</td>\n",
       "    </tr>\n",
       "    <tr>\n",
       "      <th>2024-04-30</th>\n",
       "      <td>572</td>\n",
       "      <td>-0.429545</td>\n",
       "      <td>C</td>\n",
       "      <td>True</td>\n",
       "      <td>66</td>\n",
       "    </tr>\n",
       "    <tr>\n",
       "      <th>2024-05-31</th>\n",
       "      <td>956</td>\n",
       "      <td>0.378144</td>\n",
       "      <td>C</td>\n",
       "      <td>True</td>\n",
       "      <td>80</td>\n",
       "    </tr>\n",
       "    <tr>\n",
       "      <th>2024-06-30</th>\n",
       "      <td>775</td>\n",
       "      <td>-0.583026</td>\n",
       "      <td>C</td>\n",
       "      <td>False</td>\n",
       "      <td>56</td>\n",
       "    </tr>\n",
       "    <tr>\n",
       "      <th>2024-07-31</th>\n",
       "      <td>587</td>\n",
       "      <td>0.432975</td>\n",
       "      <td>C</td>\n",
       "      <td>False</td>\n",
       "      <td>68</td>\n",
       "    </tr>\n",
       "    <tr>\n",
       "      <th>2024-08-31</th>\n",
       "      <td>957</td>\n",
       "      <td>0.752827</td>\n",
       "      <td>B</td>\n",
       "      <td>True</td>\n",
       "      <td>55</td>\n",
       "    </tr>\n",
       "    <tr>\n",
       "      <th>2024-09-30</th>\n",
       "      <td>738</td>\n",
       "      <td>-0.311400</td>\n",
       "      <td>C</td>\n",
       "      <td>False</td>\n",
       "      <td>85</td>\n",
       "    </tr>\n",
       "    <tr>\n",
       "      <th>2024-10-31</th>\n",
       "      <td>805</td>\n",
       "      <td>-0.511479</td>\n",
       "      <td>C</td>\n",
       "      <td>True</td>\n",
       "      <td>69</td>\n",
       "    </tr>\n",
       "  </tbody>\n",
       "</table>\n",
       "</div>"
      ],
      "text/plain": [
       "            Col1      Col2 Col3   Col4  Col5\n",
       "2024-01-31   947 -0.373196    C  False    63\n",
       "2024-02-29   698  1.294737    B  False    91\n",
       "2024-03-31   878 -0.494710    A   True    93\n",
       "2024-04-30   572 -0.429545    C   True    66\n",
       "2024-05-31   956  0.378144    C   True    80\n",
       "2024-06-30   775 -0.583026    C  False    56\n",
       "2024-07-31   587  0.432975    C  False    68\n",
       "2024-08-31   957  0.752827    B   True    55\n",
       "2024-09-30   738 -0.311400    C  False    85\n",
       "2024-10-31   805 -0.511479    C   True    69"
      ]
     },
     "execution_count": 36,
     "metadata": {},
     "output_type": "execute_result"
    }
   ],
   "source": [
    "df"
   ]
  },
  {
   "cell_type": "code",
   "execution_count": null,
   "id": "21d7a012",
   "metadata": {},
   "outputs": [
    {
     "data": {
      "text/html": [
       "<div>\n",
       "<style scoped>\n",
       "    .dataframe tbody tr th:only-of-type {\n",
       "        vertical-align: middle;\n",
       "    }\n",
       "\n",
       "    .dataframe tbody tr th {\n",
       "        vertical-align: top;\n",
       "    }\n",
       "\n",
       "    .dataframe thead th {\n",
       "        text-align: right;\n",
       "    }\n",
       "</style>\n",
       "<table border=\"1\" class=\"dataframe\">\n",
       "  <thead>\n",
       "    <tr style=\"text-align: right;\">\n",
       "      <th></th>\n",
       "      <th>Col1</th>\n",
       "      <th>Col2</th>\n",
       "      <th>Col5</th>\n",
       "    </tr>\n",
       "  </thead>\n",
       "  <tbody>\n",
       "    <tr>\n",
       "      <th>count</th>\n",
       "      <td>10.000000</td>\n",
       "      <td>10.000000</td>\n",
       "      <td>10.000000</td>\n",
       "    </tr>\n",
       "    <tr>\n",
       "      <th>mean</th>\n",
       "      <td>791.300000</td>\n",
       "      <td>0.015533</td>\n",
       "      <td>72.600000</td>\n",
       "    </tr>\n",
       "    <tr>\n",
       "      <th>std</th>\n",
       "      <td>144.596027</td>\n",
       "      <td>0.653041</td>\n",
       "      <td>13.817863</td>\n",
       "    </tr>\n",
       "    <tr>\n",
       "      <th>min</th>\n",
       "      <td>572.000000</td>\n",
       "      <td>-0.583026</td>\n",
       "      <td>55.000000</td>\n",
       "    </tr>\n",
       "    <tr>\n",
       "      <th>25%</th>\n",
       "      <td>708.000000</td>\n",
       "      <td>-0.478419</td>\n",
       "      <td>63.750000</td>\n",
       "    </tr>\n",
       "    <tr>\n",
       "      <th>50%</th>\n",
       "      <td>790.000000</td>\n",
       "      <td>-0.342298</td>\n",
       "      <td>68.500000</td>\n",
       "    </tr>\n",
       "    <tr>\n",
       "      <th>75%</th>\n",
       "      <td>929.750000</td>\n",
       "      <td>0.419267</td>\n",
       "      <td>83.750000</td>\n",
       "    </tr>\n",
       "    <tr>\n",
       "      <th>max</th>\n",
       "      <td>957.000000</td>\n",
       "      <td>1.294737</td>\n",
       "      <td>93.000000</td>\n",
       "    </tr>\n",
       "  </tbody>\n",
       "</table>\n",
       "</div>"
      ],
      "text/plain": [
       "             Col1       Col2       Col5\n",
       "count   10.000000  10.000000  10.000000\n",
       "mean   791.300000   0.015533  72.600000\n",
       "std    144.596027   0.653041  13.817863\n",
       "min    572.000000  -0.583026  55.000000\n",
       "25%    708.000000  -0.478419  63.750000\n",
       "50%    790.000000  -0.342298  68.500000\n",
       "75%    929.750000   0.419267  83.750000\n",
       "max    957.000000   1.294737  93.000000"
      ]
     },
     "execution_count": 34,
     "metadata": {},
     "output_type": "execute_result"
    }
   ],
   "source": [
    "df.describe()"
   ]
  },
  {
   "cell_type": "code",
   "execution_count": null,
   "id": "bf9e63a1",
   "metadata": {},
   "outputs": [
    {
     "data": {
      "text/html": [
       "<div>\n",
       "<style scoped>\n",
       "    .dataframe tbody tr th:only-of-type {\n",
       "        vertical-align: middle;\n",
       "    }\n",
       "\n",
       "    .dataframe tbody tr th {\n",
       "        vertical-align: top;\n",
       "    }\n",
       "\n",
       "    .dataframe thead th {\n",
       "        text-align: right;\n",
       "    }\n",
       "</style>\n",
       "<table border=\"1\" class=\"dataframe\">\n",
       "  <thead>\n",
       "    <tr style=\"text-align: right;\">\n",
       "      <th></th>\n",
       "      <th>Col1</th>\n",
       "      <th>Col2</th>\n",
       "      <th>Col3</th>\n",
       "      <th>Col4</th>\n",
       "      <th>Col5</th>\n",
       "    </tr>\n",
       "  </thead>\n",
       "  <tbody>\n",
       "    <tr>\n",
       "      <th>2024-01-31</th>\n",
       "      <td>947</td>\n",
       "      <td>-0.373196</td>\n",
       "      <td>C</td>\n",
       "      <td>False</td>\n",
       "      <td>63</td>\n",
       "    </tr>\n",
       "    <tr>\n",
       "      <th>2024-02-29</th>\n",
       "      <td>698</td>\n",
       "      <td>1.294737</td>\n",
       "      <td>B</td>\n",
       "      <td>False</td>\n",
       "      <td>91</td>\n",
       "    </tr>\n",
       "    <tr>\n",
       "      <th>2024-03-31</th>\n",
       "      <td>878</td>\n",
       "      <td>-0.494710</td>\n",
       "      <td>A</td>\n",
       "      <td>True</td>\n",
       "      <td>93</td>\n",
       "    </tr>\n",
       "    <tr>\n",
       "      <th>2024-04-30</th>\n",
       "      <td>572</td>\n",
       "      <td>-0.429545</td>\n",
       "      <td>C</td>\n",
       "      <td>True</td>\n",
       "      <td>66</td>\n",
       "    </tr>\n",
       "    <tr>\n",
       "      <th>2024-05-31</th>\n",
       "      <td>956</td>\n",
       "      <td>0.378144</td>\n",
       "      <td>C</td>\n",
       "      <td>True</td>\n",
       "      <td>80</td>\n",
       "    </tr>\n",
       "    <tr>\n",
       "      <th>2024-06-30</th>\n",
       "      <td>775</td>\n",
       "      <td>-0.583026</td>\n",
       "      <td>C</td>\n",
       "      <td>False</td>\n",
       "      <td>56</td>\n",
       "    </tr>\n",
       "    <tr>\n",
       "      <th>2024-07-31</th>\n",
       "      <td>587</td>\n",
       "      <td>0.432975</td>\n",
       "      <td>C</td>\n",
       "      <td>False</td>\n",
       "      <td>68</td>\n",
       "    </tr>\n",
       "    <tr>\n",
       "      <th>2024-08-31</th>\n",
       "      <td>957</td>\n",
       "      <td>0.752827</td>\n",
       "      <td>B</td>\n",
       "      <td>True</td>\n",
       "      <td>55</td>\n",
       "    </tr>\n",
       "    <tr>\n",
       "      <th>2024-09-30</th>\n",
       "      <td>738</td>\n",
       "      <td>-0.311400</td>\n",
       "      <td>C</td>\n",
       "      <td>False</td>\n",
       "      <td>85</td>\n",
       "    </tr>\n",
       "    <tr>\n",
       "      <th>2024-10-31</th>\n",
       "      <td>805</td>\n",
       "      <td>-0.511479</td>\n",
       "      <td>C</td>\n",
       "      <td>True</td>\n",
       "      <td>69</td>\n",
       "    </tr>\n",
       "  </tbody>\n",
       "</table>\n",
       "</div>"
      ],
      "text/plain": [
       "            Col1      Col2 Col3   Col4  Col5\n",
       "2024-01-31   947 -0.373196    C  False    63\n",
       "2024-02-29   698  1.294737    B  False    91\n",
       "2024-03-31   878 -0.494710    A   True    93\n",
       "2024-04-30   572 -0.429545    C   True    66\n",
       "2024-05-31   956  0.378144    C   True    80\n",
       "2024-06-30   775 -0.583026    C  False    56\n",
       "2024-07-31   587  0.432975    C  False    68\n",
       "2024-08-31   957  0.752827    B   True    55\n",
       "2024-09-30   738 -0.311400    C  False    85\n",
       "2024-10-31   805 -0.511479    C   True    69"
      ]
     },
     "execution_count": 39,
     "metadata": {},
     "output_type": "execute_result"
    }
   ],
   "source": [
    "df"
   ]
  },
  {
   "cell_type": "code",
   "execution_count": null,
   "id": "bf022961",
   "metadata": {},
   "outputs": [
    {
     "data": {
      "text/html": [
       "<div>\n",
       "<style scoped>\n",
       "    .dataframe tbody tr th:only-of-type {\n",
       "        vertical-align: middle;\n",
       "    }\n",
       "\n",
       "    .dataframe tbody tr th {\n",
       "        vertical-align: top;\n",
       "    }\n",
       "\n",
       "    .dataframe thead th {\n",
       "        text-align: right;\n",
       "    }\n",
       "</style>\n",
       "<table border=\"1\" class=\"dataframe\">\n",
       "  <thead>\n",
       "    <tr style=\"text-align: right;\">\n",
       "      <th></th>\n",
       "      <th>Col1</th>\n",
       "      <th>Col2</th>\n",
       "      <th>Col3</th>\n",
       "      <th>Col4</th>\n",
       "      <th>Col5</th>\n",
       "    </tr>\n",
       "  </thead>\n",
       "  <tbody>\n",
       "    <tr>\n",
       "      <th>count</th>\n",
       "      <td>10.000000</td>\n",
       "      <td>10.000000</td>\n",
       "      <td>10</td>\n",
       "      <td>10</td>\n",
       "      <td>10.000000</td>\n",
       "    </tr>\n",
       "    <tr>\n",
       "      <th>unique</th>\n",
       "      <td>NaN</td>\n",
       "      <td>NaN</td>\n",
       "      <td>3</td>\n",
       "      <td>2</td>\n",
       "      <td>NaN</td>\n",
       "    </tr>\n",
       "    <tr>\n",
       "      <th>top</th>\n",
       "      <td>NaN</td>\n",
       "      <td>NaN</td>\n",
       "      <td>C</td>\n",
       "      <td>False</td>\n",
       "      <td>NaN</td>\n",
       "    </tr>\n",
       "    <tr>\n",
       "      <th>freq</th>\n",
       "      <td>NaN</td>\n",
       "      <td>NaN</td>\n",
       "      <td>7</td>\n",
       "      <td>5</td>\n",
       "      <td>NaN</td>\n",
       "    </tr>\n",
       "    <tr>\n",
       "      <th>mean</th>\n",
       "      <td>791.300000</td>\n",
       "      <td>0.015533</td>\n",
       "      <td>NaN</td>\n",
       "      <td>NaN</td>\n",
       "      <td>72.600000</td>\n",
       "    </tr>\n",
       "    <tr>\n",
       "      <th>std</th>\n",
       "      <td>144.596027</td>\n",
       "      <td>0.653041</td>\n",
       "      <td>NaN</td>\n",
       "      <td>NaN</td>\n",
       "      <td>13.817863</td>\n",
       "    </tr>\n",
       "    <tr>\n",
       "      <th>min</th>\n",
       "      <td>572.000000</td>\n",
       "      <td>-0.583026</td>\n",
       "      <td>NaN</td>\n",
       "      <td>NaN</td>\n",
       "      <td>55.000000</td>\n",
       "    </tr>\n",
       "    <tr>\n",
       "      <th>25%</th>\n",
       "      <td>708.000000</td>\n",
       "      <td>-0.478419</td>\n",
       "      <td>NaN</td>\n",
       "      <td>NaN</td>\n",
       "      <td>63.750000</td>\n",
       "    </tr>\n",
       "    <tr>\n",
       "      <th>50%</th>\n",
       "      <td>790.000000</td>\n",
       "      <td>-0.342298</td>\n",
       "      <td>NaN</td>\n",
       "      <td>NaN</td>\n",
       "      <td>68.500000</td>\n",
       "    </tr>\n",
       "    <tr>\n",
       "      <th>75%</th>\n",
       "      <td>929.750000</td>\n",
       "      <td>0.419267</td>\n",
       "      <td>NaN</td>\n",
       "      <td>NaN</td>\n",
       "      <td>83.750000</td>\n",
       "    </tr>\n",
       "    <tr>\n",
       "      <th>max</th>\n",
       "      <td>957.000000</td>\n",
       "      <td>1.294737</td>\n",
       "      <td>NaN</td>\n",
       "      <td>NaN</td>\n",
       "      <td>93.000000</td>\n",
       "    </tr>\n",
       "  </tbody>\n",
       "</table>\n",
       "</div>"
      ],
      "text/plain": [
       "              Col1       Col2 Col3   Col4       Col5\n",
       "count    10.000000  10.000000   10     10  10.000000\n",
       "unique         NaN        NaN    3      2        NaN\n",
       "top            NaN        NaN    C  False        NaN\n",
       "freq           NaN        NaN    7      5        NaN\n",
       "mean    791.300000   0.015533  NaN    NaN  72.600000\n",
       "std     144.596027   0.653041  NaN    NaN  13.817863\n",
       "min     572.000000  -0.583026  NaN    NaN  55.000000\n",
       "25%     708.000000  -0.478419  NaN    NaN  63.750000\n",
       "50%     790.000000  -0.342298  NaN    NaN  68.500000\n",
       "75%     929.750000   0.419267  NaN    NaN  83.750000\n",
       "max     957.000000   1.294737  NaN    NaN  93.000000"
      ]
     },
     "execution_count": 38,
     "metadata": {},
     "output_type": "execute_result"
    }
   ],
   "source": [
    "df.describe(include=\"all\")"
   ]
  },
  {
   "cell_type": "code",
   "execution_count": null,
   "id": "c286cc6f",
   "metadata": {},
   "outputs": [],
   "source": [
    "df.corr()"
   ]
  },
  {
   "cell_type": "code",
   "execution_count": null,
   "id": "c3740e7f",
   "metadata": {},
   "outputs": [
    {
     "data": {
      "text/html": [
       "<div>\n",
       "<style scoped>\n",
       "    .dataframe tbody tr th:only-of-type {\n",
       "        vertical-align: middle;\n",
       "    }\n",
       "\n",
       "    .dataframe tbody tr th {\n",
       "        vertical-align: top;\n",
       "    }\n",
       "\n",
       "    .dataframe thead th {\n",
       "        text-align: right;\n",
       "    }\n",
       "</style>\n",
       "<table border=\"1\" class=\"dataframe\">\n",
       "  <thead>\n",
       "    <tr style=\"text-align: right;\">\n",
       "      <th></th>\n",
       "      <th>A</th>\n",
       "      <th>B</th>\n",
       "      <th>B</th>\n",
       "      <th>A</th>\n",
       "    </tr>\n",
       "  </thead>\n",
       "  <tbody>\n",
       "    <tr>\n",
       "      <th>2025-01-05</th>\n",
       "      <td>92</td>\n",
       "      <td>290</td>\n",
       "      <td>451</td>\n",
       "      <td>127</td>\n",
       "    </tr>\n",
       "    <tr>\n",
       "      <th>2025-01-12</th>\n",
       "      <td>310</td>\n",
       "      <td>448</td>\n",
       "      <td>258</td>\n",
       "      <td>188</td>\n",
       "    </tr>\n",
       "    <tr>\n",
       "      <th>2025-01-19</th>\n",
       "      <td>390</td>\n",
       "      <td>503</td>\n",
       "      <td>199</td>\n",
       "      <td>184</td>\n",
       "    </tr>\n",
       "  </tbody>\n",
       "</table>\n",
       "</div>"
      ],
      "text/plain": [
       "              A    B    B    A\n",
       "2025-01-05   92  290  451  127\n",
       "2025-01-12  310  448  258  188\n",
       "2025-01-19  390  503  199  184"
      ]
     },
     "execution_count": 50,
     "metadata": {},
     "output_type": "execute_result"
    }
   ],
   "source": [
    "np.random.seed(1)\n",
    "new_df = pd.DataFrame(data = np.random.randint(55, 555, (3, 4)),\n",
    "                      columns = np.random.choice([\"A\", \"B\"], size = 4),\n",
    "                    index = pd.date_range(start=\"01/01/2025\", periods= 3, freq= \"W\"))\n",
    "new_df"
   ]
  },
  {
   "cell_type": "code",
   "execution_count": null,
   "id": "3dbf97c6",
   "metadata": {},
   "outputs": [
    {
     "data": {
      "text/html": [
       "<div>\n",
       "<style scoped>\n",
       "    .dataframe tbody tr th:only-of-type {\n",
       "        vertical-align: middle;\n",
       "    }\n",
       "\n",
       "    .dataframe tbody tr th {\n",
       "        vertical-align: top;\n",
       "    }\n",
       "\n",
       "    .dataframe thead th {\n",
       "        text-align: right;\n",
       "    }\n",
       "</style>\n",
       "<table border=\"1\" class=\"dataframe\">\n",
       "  <thead>\n",
       "    <tr style=\"text-align: right;\">\n",
       "      <th></th>\n",
       "      <th>A</th>\n",
       "      <th>B</th>\n",
       "      <th>B</th>\n",
       "      <th>A</th>\n",
       "    </tr>\n",
       "  </thead>\n",
       "  <tbody>\n",
       "    <tr>\n",
       "      <th>A</th>\n",
       "      <td>1.000000</td>\n",
       "      <td>0.999939</td>\n",
       "      <td>-0.999330</td>\n",
       "      <td>0.948923</td>\n",
       "    </tr>\n",
       "    <tr>\n",
       "      <th>B</th>\n",
       "      <td>0.999939</td>\n",
       "      <td>1.000000</td>\n",
       "      <td>-0.999672</td>\n",
       "      <td>0.952337</td>\n",
       "    </tr>\n",
       "    <tr>\n",
       "      <th>B</th>\n",
       "      <td>-0.999330</td>\n",
       "      <td>-0.999672</td>\n",
       "      <td>1.000000</td>\n",
       "      <td>-0.959837</td>\n",
       "    </tr>\n",
       "    <tr>\n",
       "      <th>A</th>\n",
       "      <td>0.948923</td>\n",
       "      <td>0.952337</td>\n",
       "      <td>-0.959837</td>\n",
       "      <td>1.000000</td>\n",
       "    </tr>\n",
       "  </tbody>\n",
       "</table>\n",
       "</div>"
      ],
      "text/plain": [
       "          A         B         B         A\n",
       "A  1.000000  0.999939 -0.999330  0.948923\n",
       "B  0.999939  1.000000 -0.999672  0.952337\n",
       "B -0.999330 -0.999672  1.000000 -0.959837\n",
       "A  0.948923  0.952337 -0.959837  1.000000"
      ]
     },
     "execution_count": 57,
     "metadata": {},
     "output_type": "execute_result"
    }
   ],
   "source": [
    "new_df.corr()"
   ]
  }
 ],
 "metadata": {
  "kernelspec": {
   "display_name": ".venv",
   "language": "python",
   "name": "python3"
  },
  "language_info": {
   "codemirror_mode": {
    "name": "ipython",
    "version": 3
   },
   "file_extension": ".py",
   "mimetype": "text/x-python",
   "name": "python",
   "nbconvert_exporter": "python",
   "pygments_lexer": "ipython3",
   "version": "3.12.8"
  }
 },
 "nbformat": 4,
 "nbformat_minor": 5
}
