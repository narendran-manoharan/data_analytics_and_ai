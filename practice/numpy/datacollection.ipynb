{
 "cells": [
  {
   "cell_type": "code",
   "execution_count": 3,
   "id": "2efa0b00",
   "metadata": {},
   "outputs": [
    {
     "name": "stdout",
     "output_type": "stream",
     "text": [
      "Requirement already satisfied: matplotlib in c:\\users\\mshin\\vs-code-projects\\demo\\.venv\\lib\\site-packages (3.10.3)\n",
      "Requirement already satisfied: contourpy>=1.0.1 in c:\\users\\mshin\\vs-code-projects\\demo\\.venv\\lib\\site-packages (from matplotlib) (1.3.2)\n",
      "Requirement already satisfied: cycler>=0.10 in c:\\users\\mshin\\vs-code-projects\\demo\\.venv\\lib\\site-packages (from matplotlib) (0.12.1)\n",
      "Requirement already satisfied: fonttools>=4.22.0 in c:\\users\\mshin\\vs-code-projects\\demo\\.venv\\lib\\site-packages (from matplotlib) (4.58.0)\n",
      "Requirement already satisfied: kiwisolver>=1.3.1 in c:\\users\\mshin\\vs-code-projects\\demo\\.venv\\lib\\site-packages (from matplotlib) (1.4.8)\n",
      "Requirement already satisfied: numpy>=1.23 in c:\\users\\mshin\\vs-code-projects\\demo\\.venv\\lib\\site-packages (from matplotlib) (2.2.6)\n",
      "Requirement already satisfied: packaging>=20.0 in c:\\users\\mshin\\vs-code-projects\\demo\\.venv\\lib\\site-packages (from matplotlib) (25.0)\n",
      "Requirement already satisfied: pillow>=8 in c:\\users\\mshin\\vs-code-projects\\demo\\.venv\\lib\\site-packages (from matplotlib) (11.2.1)\n",
      "Requirement already satisfied: pyparsing>=2.3.1 in c:\\users\\mshin\\vs-code-projects\\demo\\.venv\\lib\\site-packages (from matplotlib) (3.2.3)\n",
      "Requirement already satisfied: python-dateutil>=2.7 in c:\\users\\mshin\\vs-code-projects\\demo\\.venv\\lib\\site-packages (from matplotlib) (2.9.0.post0)\n",
      "Requirement already satisfied: six>=1.5 in c:\\users\\mshin\\vs-code-projects\\demo\\.venv\\lib\\site-packages (from python-dateutil>=2.7->matplotlib) (1.17.0)\n"
     ]
    },
    {
     "name": "stderr",
     "output_type": "stream",
     "text": [
      "\n",
      "[notice] A new release of pip is available: 24.3.1 -> 25.1.1\n",
      "[notice] To update, run: python.exe -m pip install --upgrade pip\n"
     ]
    }
   ],
   "source": [
    "!pip install matplotlib"
   ]
  },
  {
   "cell_type": "markdown",
   "id": "a0414dda",
   "metadata": {},
   "source": [
    "## Data Collection"
   ]
  },
  {
   "cell_type": "code",
   "execution_count": 4,
   "id": "1f2b8e7f",
   "metadata": {},
   "outputs": [
    {
     "name": "stdout",
     "output_type": "stream",
     "text": [
      "['06 Nov\\n', '22:45 - 23:25: Content creation for portfolio.\\n']\n"
     ]
    }
   ],
   "source": [
    "nf = open(\"6_nov.txt\", \"r\")\n",
    "nf_r = nf.readlines(8)\n",
    "nf.close\n",
    "print(nf_r)"
   ]
  },
  {
   "cell_type": "code",
   "execution_count": 5,
   "id": "a99d3171",
   "metadata": {},
   "outputs": [
    {
     "data": {
      "text/plain": [
       "'06 Nov\\n22:45 - 23:25: Content creation for portfolio.\\n\\n07 Nov\\n10:00 - 10:30: Breakfast and phone\\n10:30 - 11:50: Application form at Home\\n11:50 - 12:26: Travel\\n12:26 - 14:20: Application from Burger King\\n14:20 - 15:20: Travel\\n15:20 - 15:30: Rewe Krapfen\\n15:30 - 16:13: Supporting letter\\n16:13 - 16:19: Break\\n16:19 - 16:27: Time capturing\\n16:28 - : Portfolio\\n16:45 - 16:50: Break\\n16:50 - 18:20 Scripting with tiny breaks here and there (captured in the time.\\n18:25 - 19:53: Evening break\\n19:53 - 22:29: With breaks I sat with the portfolio... Looked at the phone (total 5 mins), spoke with Mo and ate (30 mins) looked for jobs (5 mins)\\n\\n'"
      ]
     },
     "execution_count": 5,
     "metadata": {},
     "output_type": "execute_result"
    }
   ],
   "source": [
    "with open(\"6_nov.txt\", \"r\", encoding=\"utf8\") as new_file:\n",
    "    text = new_file.read()\n",
    "text"
   ]
  },
  {
   "cell_type": "code",
   "execution_count": 6,
   "id": "bf748eb0",
   "metadata": {},
   "outputs": [
    {
     "data": {
      "text/plain": [
       "['6_nov.txt', 'de.txt', 'präsens.txt']"
      ]
     },
     "execution_count": 6,
     "metadata": {},
     "output_type": "execute_result"
    }
   ],
   "source": [
    "import glob\n",
    "glob.glob(pathname=\"*.txt\")"
   ]
  },
  {
   "cell_type": "code",
   "execution_count": 7,
   "id": "1fe74499",
   "metadata": {},
   "outputs": [
    {
     "data": {
      "text/plain": [
       "['06 Nov\\n22:45 - 23:25: Content creation for portfolio.\\n\\n07 Nov\\n10:00 - 10:30: Breakfast and phone\\n10:30 - 11:50: Application form at Home\\n11:50 - 12:26: Travel\\n12:26 - 14:20: Application from Burger King\\n14:20 - 15:20: Travel\\n15:20 - 15:30: Rewe Krapfen\\n15:30 - 16:13: Supporting letter\\n16:13 - 16:19: Break\\n16:19 - 16:27: Time capturing\\n16:28 - : Portfolio\\n16:45 - 16:50: Break\\n16:50 - 18:20 Scripting with tiny breaks here and there (captured in the time.\\n18:25 - 19:53: Evening break\\n19:53 - 22:29: With breaks I sat with the portfolio... Looked at the phone (total 5 mins), spoke with Mo and ate (30 mins) looked for jobs (5 mins)\\n\\n',\n",
       " \"Ben ist nach Hamburg gekommen und hat eine Wohnung gefunden.\\n\\nBen ist nach London geflugen und er dort viele SehenwÃ¼rdigkeiten (monuments/places of importance) gesehen.\\n\\nAnnas Familie, Max' Bruder, \\n\\nIch bin so mÃ¼de, weil ich nicht gut geschalfen habe.\\n\\ner mussten, \\n\\nwir helfen der, Mann wir jennen der Mann.\\n\\nwir helfen dem Mann, wir kenne den Mann.\\n\\nMeine Lieblingsfach in der Schule war Science (Wissenschaft), weil dass antwortet alles frage.\\n\\ngut - besser - am besten\\nteuer - teurer - teuersten\\nviel - mehr - meisten\\n\\nDer Laptop functionert wie ein Computer. Der laptop ist Leichter als ein Computer.\\n\\nIch denke, dass wir manchmal unsere Familie Fotos online geposten konntet.\\n\\nIch bin glÃ¼cklich, wenn ich Sport mache.\\nWenn ich Geburtstag habe, dann mache ich ein Urlaub.\\nIch bin genervt, wenn mein Handy nicht functioniert.\\nWenn das Wetter schÃ¶n ist, dann gehe ich ins ein Park.\\nIch bin Traurig, wenn ich kann nicht drauÃŸe gehen.\\nWenn ich bin sehr glÃ¼cklich, muss ich lachen\\n \",\n",
       " 'Ich habe die Teller gefallen.\\n\\n\\nIch habe die Bierflasche fallen gelassen.\\n\\nHier ist mein Kater, Milo.\\n\\nSiegler sport - Done\\nWissenschaft preis - Done\\nESigeler\\nfur 10 Tage\\nIm Sommer\\nKonzert-Done\\n\\nGut gefallen:\\nKonzert\\nRegatta\\nFeuerwerk\\n\\n\\n\\nNicht gefallen:\\nViele leute\\neng und voll (conjusted)\\nTeuer sachen\\n\\nWo ist Paula:\\nPauls ist in Argentinien und sie kommst aud Deutschland. Sie ist ein Deutsch lehrerin in. Sie gefallt glucklich aber manchmal vermisst deine Familie aber sie hat viele Freunde gefunden. \\n\\nDer Kellner serviert der Gast. Wir konnn das Essen in einen Restaurant bestellen. Die Kellnerin bedient einem Gast. \\n\\nDie stadtwerkamt leeret die mÃ¼ll. \\n\\n\\nHast du ein Gastronomie erfahrung?\\nWarum mochte sie bei uns arbeiten?\\nWie oft kÃ¶nnen sie den bei mit uns arbieten?\\n\\nEs steht eine graue Pullover.\\n\\nDer graue Pullover steht mir.\\n\\n\\nIch gern zu fruh beginning, weil ich viel Tatigkeite fertig machen kann. Ich mochte zusammen arbeitien, weil ich das viel spaÃŸ findet. Ich lerne gern in Arbeit. Ich treffe gern neue mitrarbeiten. Dannach ich feiern gern zussammen am Wochenende. Ich liebe den mittags pause, weil mann viele ihr Lieber sprechen kann. \\n\\nIch nicht gern wenn mann lernt nicht, wenn mann nicht hoeren, wenn work-life balance ist nicht da. x\\n\\nDavid: Theather, sportmache, konzert, Namika, culture male museum, club\\n\\nAndreas: Culture - Ausstellung - Deutsche maleri, Nie Namika, Essen Konzert, Restaurant und Club\\n\\nfurniture: Der tisch, Stuhl, der schrank. thematic clusters... remember whole sentences... \\nwrite whole sentences...']"
      ]
     },
     "execution_count": 7,
     "metadata": {},
     "output_type": "execute_result"
    }
   ],
   "source": [
    "my_list = []\n",
    "for i in glob.glob(pathname=\"*.txt\"):\n",
    "    with open(i, \"r\") as f:\n",
    "        nt = f.read()\n",
    "        my_list.append(nt)\n",
    "my_list"
   ]
  },
  {
   "cell_type": "code",
   "execution_count": 8,
   "id": "73ba5d3b",
   "metadata": {},
   "outputs": [
    {
     "data": {
      "text/plain": [
       "3"
      ]
     },
     "execution_count": 8,
     "metadata": {},
     "output_type": "execute_result"
    }
   ],
   "source": [
    "len(my_list)"
   ]
  },
  {
   "cell_type": "code",
   "execution_count": 9,
   "id": "e23cc51b",
   "metadata": {},
   "outputs": [
    {
     "data": {
      "text/plain": [
       "'Ich habe die Teller gefallen.\\n\\n\\nIch habe die Bierflasche fallen gelassen.\\n\\nHier ist mein Kater, Milo.\\n\\nSiegler sport - Done\\nWissenschaft preis - Done\\nESigeler\\nfur 10 Tage\\nIm Sommer\\nKonzert-Done\\n\\nGut gefallen:\\nKonzert\\nRegatta\\nFeuerwerk\\n\\n\\n\\nNicht gefallen:\\nViele leute\\neng und voll (conjusted)\\nTeuer sachen\\n\\nWo ist Paula:\\nPauls ist in Argentinien und sie kommst aud Deutschland. Sie ist ein Deutsch lehrerin in. Sie gefallt glucklich aber manchmal vermisst deine Familie aber sie hat viele Freunde gefunden. \\n\\nDer Kellner serviert der Gast. Wir konnn das Essen in einen Restaurant bestellen. Die Kellnerin bedient einem Gast. \\n\\nDie stadtwerkamt leeret die mÃ¼ll. \\n\\n\\nHast du ein Gastronomie erfahrung?\\nWarum mochte sie bei uns arbeiten?\\nWie oft kÃ¶nnen sie den bei mit uns arbieten?\\n\\nEs steht eine graue Pullover.\\n\\nDer graue Pullover steht mir.\\n\\n\\nIch gern zu fruh beginning, weil ich viel Tatigkeite fertig machen kann. Ich mochte zusammen arbeitien, weil ich das viel spaÃŸ findet. Ich lerne gern in Arbeit. Ich treffe gern neue mitrarbeiten. Dannach ich feiern gern zussammen am Wochenende. Ich liebe den mittags pause, weil mann viele ihr Lieber sprechen kann. \\n\\nIch nicht gern wenn mann lernt nicht, wenn mann nicht hoeren, wenn work-life balance ist nicht da. x\\n\\nDavid: Theather, sportmache, konzert, Namika, culture male museum, club\\n\\nAndreas: Culture - Ausstellung - Deutsche maleri, Nie Namika, Essen Konzert, Restaurant und Club\\n\\nfurniture: Der tisch, Stuhl, der schrank. thematic clusters... remember whole sentences... \\nwrite whole sentences...'"
      ]
     },
     "execution_count": 9,
     "metadata": {},
     "output_type": "execute_result"
    }
   ],
   "source": [
    "my_list[2]"
   ]
  },
  {
   "cell_type": "markdown",
   "id": "4fabd7bb",
   "metadata": {},
   "source": [
    "# CSV"
   ]
  },
  {
   "cell_type": "code",
   "execution_count": 10,
   "id": "3efab793",
   "metadata": {},
   "outputs": [],
   "source": [
    "import pandas as pd"
   ]
  },
  {
   "cell_type": "code",
   "execution_count": 11,
   "id": "97cc9de9",
   "metadata": {},
   "outputs": [
    {
     "data": {
      "text/html": [
       "<div>\n",
       "<style scoped>\n",
       "    .dataframe tbody tr th:only-of-type {\n",
       "        vertical-align: middle;\n",
       "    }\n",
       "\n",
       "    .dataframe tbody tr th {\n",
       "        vertical-align: top;\n",
       "    }\n",
       "\n",
       "    .dataframe thead th {\n",
       "        text-align: right;\n",
       "    }\n",
       "</style>\n",
       "<table border=\"1\" class=\"dataframe\">\n",
       "  <thead>\n",
       "    <tr style=\"text-align: right;\">\n",
       "      <th></th>\n",
       "      <th></th>\n",
       "      <th></th>\n",
       "      <th></th>\n",
       "      <th></th>\n",
       "      <th></th>\n",
       "      <th></th>\n",
       "      <th></th>\n",
       "      <th></th>\n",
       "      <th></th>\n",
       "      <th></th>\n",
       "      <th>2. Given the following list of numbers:</th>\n",
       "    </tr>\n",
       "  </thead>\n",
       "  <tbody>\n",
       "    <tr>\n",
       "      <th>[1</th>\n",
       "      <th>10</th>\n",
       "      <th>40.0</th>\n",
       "      <th>23.0</th>\n",
       "      <th>19.0</th>\n",
       "      <th>42.0</th>\n",
       "      <th>12.0</th>\n",
       "      <th>18.0</th>\n",
       "      <th>17.0</th>\n",
       "      <th>21.0</th>\n",
       "      <th>8.0</th>\n",
       "      <td>2]</td>\n",
       "    </tr>\n",
       "    <tr>\n",
       "      <th>Write a function which takes a number as a parameter</th>\n",
       "      <th>and checks if the</th>\n",
       "      <th>NaN</th>\n",
       "      <th>NaN</th>\n",
       "      <th>NaN</th>\n",
       "      <th>NaN</th>\n",
       "      <th>NaN</th>\n",
       "      <th>NaN</th>\n",
       "      <th>NaN</th>\n",
       "      <th>NaN</th>\n",
       "      <th>NaN</th>\n",
       "      <td>NaN</td>\n",
       "    </tr>\n",
       "    <tr>\n",
       "      <th>list contains two numbers which add up to that number. If there are</th>\n",
       "      <th>return the two numbers.</th>\n",
       "      <th>NaN</th>\n",
       "      <th>NaN</th>\n",
       "      <th>NaN</th>\n",
       "      <th>NaN</th>\n",
       "      <th>NaN</th>\n",
       "      <th>NaN</th>\n",
       "      <th>NaN</th>\n",
       "      <th>NaN</th>\n",
       "      <th>NaN</th>\n",
       "      <td>NaN</td>\n",
       "    </tr>\n",
       "    <tr>\n",
       "      <th>If not</th>\n",
       "      <th>return None. For example:</th>\n",
       "      <th>NaN</th>\n",
       "      <th>NaN</th>\n",
       "      <th>NaN</th>\n",
       "      <th>NaN</th>\n",
       "      <th>NaN</th>\n",
       "      <th>NaN</th>\n",
       "      <th>NaN</th>\n",
       "      <th>NaN</th>\n",
       "      <th>NaN</th>\n",
       "      <td>NaN</td>\n",
       "    </tr>\n",
       "    <tr>\n",
       "      <th>check_list(54)</th>\n",
       "      <th>NaN</th>\n",
       "      <th>NaN</th>\n",
       "      <th>NaN</th>\n",
       "      <th>NaN</th>\n",
       "      <th>NaN</th>\n",
       "      <th>NaN</th>\n",
       "      <th>NaN</th>\n",
       "      <th>NaN</th>\n",
       "      <th>NaN</th>\n",
       "      <th>NaN</th>\n",
       "      <td>NaN</td>\n",
       "    </tr>\n",
       "    <tr>\n",
       "      <th>-&gt; returns [42</th>\n",
       "      <th>12]</th>\n",
       "      <th>NaN</th>\n",
       "      <th>NaN</th>\n",
       "      <th>NaN</th>\n",
       "      <th>NaN</th>\n",
       "      <th>NaN</th>\n",
       "      <th>NaN</th>\n",
       "      <th>NaN</th>\n",
       "      <th>NaN</th>\n",
       "      <th>NaN</th>\n",
       "      <td>NaN</td>\n",
       "    </tr>\n",
       "    <tr>\n",
       "      <th>check_list(31)</th>\n",
       "      <th>NaN</th>\n",
       "      <th>NaN</th>\n",
       "      <th>NaN</th>\n",
       "      <th>NaN</th>\n",
       "      <th>NaN</th>\n",
       "      <th>NaN</th>\n",
       "      <th>NaN</th>\n",
       "      <th>NaN</th>\n",
       "      <th>NaN</th>\n",
       "      <th>NaN</th>\n",
       "      <td>NaN</td>\n",
       "    </tr>\n",
       "    <tr>\n",
       "      <th>-&gt; returns [10</th>\n",
       "      <th>21]</th>\n",
       "      <th>NaN</th>\n",
       "      <th>NaN</th>\n",
       "      <th>NaN</th>\n",
       "      <th>NaN</th>\n",
       "      <th>NaN</th>\n",
       "      <th>NaN</th>\n",
       "      <th>NaN</th>\n",
       "      <th>NaN</th>\n",
       "      <th>NaN</th>\n",
       "      <td>NaN</td>\n",
       "    </tr>\n",
       "    <tr>\n",
       "      <th>check_list(1000)</th>\n",
       "      <th>NaN</th>\n",
       "      <th>NaN</th>\n",
       "      <th>NaN</th>\n",
       "      <th>NaN</th>\n",
       "      <th>NaN</th>\n",
       "      <th>NaN</th>\n",
       "      <th>NaN</th>\n",
       "      <th>NaN</th>\n",
       "      <th>NaN</th>\n",
       "      <th>NaN</th>\n",
       "      <td>NaN</td>\n",
       "    </tr>\n",
       "    <tr>\n",
       "      <th>-&gt; returns None</th>\n",
       "      <th>NaN</th>\n",
       "      <th>NaN</th>\n",
       "      <th>NaN</th>\n",
       "      <th>NaN</th>\n",
       "      <th>NaN</th>\n",
       "      <th>NaN</th>\n",
       "      <th>NaN</th>\n",
       "      <th>NaN</th>\n",
       "      <th>NaN</th>\n",
       "      <th>NaN</th>\n",
       "      <td>NaN</td>\n",
       "    </tr>\n",
       "  </tbody>\n",
       "</table>\n",
       "</div>"
      ],
      "text/plain": [
       "                                                                                                                         2. Given the following list of numbers:\n",
       "[1                                                 10                        40.0 23.0 19.0 42.0 12.0 18.0 17.0 21.0 8.0                                      2]\n",
       "Write a function which takes a number as a para... and checks if the         NaN  NaN  NaN  NaN  NaN  NaN  NaN  NaN  NaN                                     NaN\n",
       "list contains two numbers which add up to that ... return the two numbers.   NaN  NaN  NaN  NaN  NaN  NaN  NaN  NaN  NaN                                     NaN\n",
       "If not                                             return None. For example: NaN  NaN  NaN  NaN  NaN  NaN  NaN  NaN  NaN                                     NaN\n",
       "check_list(54)                                     NaN                       NaN  NaN  NaN  NaN  NaN  NaN  NaN  NaN  NaN                                     NaN\n",
       "-> returns [42                                     12]                       NaN  NaN  NaN  NaN  NaN  NaN  NaN  NaN  NaN                                     NaN\n",
       "check_list(31)                                     NaN                       NaN  NaN  NaN  NaN  NaN  NaN  NaN  NaN  NaN                                     NaN\n",
       "-> returns [10                                     21]                       NaN  NaN  NaN  NaN  NaN  NaN  NaN  NaN  NaN                                     NaN\n",
       "check_list(1000)                                   NaN                       NaN  NaN  NaN  NaN  NaN  NaN  NaN  NaN  NaN                                     NaN\n",
       "-> returns None                                    NaN                       NaN  NaN  NaN  NaN  NaN  NaN  NaN  NaN  NaN                                     NaN"
      ]
     },
     "execution_count": 11,
     "metadata": {},
     "output_type": "execute_result"
    }
   ],
   "source": [
    "new_task = pd.read_csv(\"my_first.csv\")\n",
    "new_task"
   ]
  },
  {
   "cell_type": "markdown",
   "id": "4059b14f",
   "metadata": {},
   "source": [
    "# XLSX"
   ]
  },
  {
   "cell_type": "code",
   "execution_count": 12,
   "id": "c4265a65",
   "metadata": {},
   "outputs": [
    {
     "data": {
      "text/html": [
       "<div>\n",
       "<style scoped>\n",
       "    .dataframe tbody tr th:only-of-type {\n",
       "        vertical-align: middle;\n",
       "    }\n",
       "\n",
       "    .dataframe tbody tr th {\n",
       "        vertical-align: top;\n",
       "    }\n",
       "\n",
       "    .dataframe thead th {\n",
       "        text-align: right;\n",
       "    }\n",
       "</style>\n",
       "<table border=\"1\" class=\"dataframe\">\n",
       "  <thead>\n",
       "    <tr style=\"text-align: right;\">\n",
       "      <th></th>\n",
       "      <th>Tasks pending</th>\n",
       "      <th>Date</th>\n",
       "      <th>Time</th>\n",
       "      <th>Status</th>\n",
       "      <th>Unnamed: 4</th>\n",
       "    </tr>\n",
       "  </thead>\n",
       "  <tbody>\n",
       "    <tr>\n",
       "      <th>0</th>\n",
       "      <td>Questions for Sarah/Liavvas</td>\n",
       "      <td>2024-11-12 00:00:00</td>\n",
       "      <td>11:00 - 11:45</td>\n",
       "      <td>Done</td>\n",
       "      <td>NaN</td>\n",
       "    </tr>\n",
       "    <tr>\n",
       "      <th>1</th>\n",
       "      <td>Remind Jag</td>\n",
       "      <td>2024-11-12 00:00:00</td>\n",
       "      <td>09:08 - 09:13</td>\n",
       "      <td>Done</td>\n",
       "      <td>NaN</td>\n",
       "    </tr>\n",
       "    <tr>\n",
       "      <th>2</th>\n",
       "      <td>Buy shoes for Thatha</td>\n",
       "      <td>NaN</td>\n",
       "      <td>NaN</td>\n",
       "      <td>NaN</td>\n",
       "      <td>NaN</td>\n",
       "    </tr>\n",
       "    <tr>\n",
       "      <th>3</th>\n",
       "      <td>Finish India expenses</td>\n",
       "      <td>NaN</td>\n",
       "      <td>NaN</td>\n",
       "      <td>NaN</td>\n",
       "      <td>NaN</td>\n",
       "    </tr>\n",
       "    <tr>\n",
       "      <th>4</th>\n",
       "      <td>Decide on shoes</td>\n",
       "      <td>NaN</td>\n",
       "      <td>NaN</td>\n",
       "      <td>NaN</td>\n",
       "      <td>NaN</td>\n",
       "    </tr>\n",
       "    <tr>\n",
       "      <th>...</th>\n",
       "      <td>...</td>\n",
       "      <td>...</td>\n",
       "      <td>...</td>\n",
       "      <td>...</td>\n",
       "      <td>...</td>\n",
       "    </tr>\n",
       "    <tr>\n",
       "      <th>89</th>\n",
       "      <td>German</td>\n",
       "      <td>2024-11-22 00:00:00</td>\n",
       "      <td>NaN</td>\n",
       "      <td>NaN</td>\n",
       "      <td>NaN</td>\n",
       "    </tr>\n",
       "    <tr>\n",
       "      <th>90</th>\n",
       "      <td>2024-12-18 00:00:00</td>\n",
       "      <td>NaN</td>\n",
       "      <td>NaN</td>\n",
       "      <td>NaN</td>\n",
       "      <td>NaN</td>\n",
       "    </tr>\n",
       "    <tr>\n",
       "      <th>91</th>\n",
       "      <td>Job search</td>\n",
       "      <td>2024-12-18 00:00:00</td>\n",
       "      <td>13:35:00</td>\n",
       "      <td>NaN</td>\n",
       "      <td>Sent Denver (DADB) a message.</td>\n",
       "    </tr>\n",
       "    <tr>\n",
       "      <th>92</th>\n",
       "      <td>2024-12-20 00:00:00</td>\n",
       "      <td>NaN</td>\n",
       "      <td>NaN</td>\n",
       "      <td>NaN</td>\n",
       "      <td>NaN</td>\n",
       "    </tr>\n",
       "    <tr>\n",
       "      <th>93</th>\n",
       "      <td>MKSInstri_Preo</td>\n",
       "      <td>2024-12-20 00:00:00</td>\n",
       "      <td>10:22:00</td>\n",
       "      <td>NaN</td>\n",
       "      <td>NaN</td>\n",
       "    </tr>\n",
       "  </tbody>\n",
       "</table>\n",
       "<p>94 rows × 5 columns</p>\n",
       "</div>"
      ],
      "text/plain": [
       "                  Tasks pending                 Date           Time Status  \\\n",
       "0   Questions for Sarah/Liavvas  2024-11-12 00:00:00  11:00 - 11:45   Done   \n",
       "1                    Remind Jag  2024-11-12 00:00:00  09:08 - 09:13   Done   \n",
       "2          Buy shoes for Thatha                  NaN            NaN    NaN   \n",
       "3         Finish India expenses                  NaN            NaN    NaN   \n",
       "4               Decide on shoes                  NaN            NaN    NaN   \n",
       "..                          ...                  ...            ...    ...   \n",
       "89                       German  2024-11-22 00:00:00            NaN    NaN   \n",
       "90          2024-12-18 00:00:00                  NaN            NaN    NaN   \n",
       "91                   Job search  2024-12-18 00:00:00       13:35:00    NaN   \n",
       "92          2024-12-20 00:00:00                  NaN            NaN    NaN   \n",
       "93               MKSInstri_Preo  2024-12-20 00:00:00       10:22:00    NaN   \n",
       "\n",
       "                       Unnamed: 4  \n",
       "0                             NaN  \n",
       "1                             NaN  \n",
       "2                             NaN  \n",
       "3                             NaN  \n",
       "4                             NaN  \n",
       "..                            ...  \n",
       "89                            NaN  \n",
       "90                            NaN  \n",
       "91  Sent Denver (DADB) a message.  \n",
       "92                            NaN  \n",
       "93                            NaN  \n",
       "\n",
       "[94 rows x 5 columns]"
      ]
     },
     "execution_count": 12,
     "metadata": {},
     "output_type": "execute_result"
    }
   ],
   "source": [
    "arr = pd.read_excel(\"daily_tasks.xlsx\", sheet_name=0)\n",
    "arr"
   ]
  },
  {
   "cell_type": "code",
   "execution_count": 13,
   "id": "969d2b19",
   "metadata": {},
   "outputs": [
    {
     "name": "stdout",
     "output_type": "stream",
     "text": [
      "Requirement already satisfied: openpyxl in c:\\users\\mshin\\vs-code-projects\\demo\\.venv\\lib\\site-packages (3.1.5)\n",
      "Requirement already satisfied: et-xmlfile in c:\\users\\mshin\\vs-code-projects\\demo\\.venv\\lib\\site-packages (from openpyxl) (2.0.0)\n",
      "Note: you may need to restart the kernel to use updated packages.\n"
     ]
    },
    {
     "name": "stderr",
     "output_type": "stream",
     "text": [
      "\n",
      "[notice] A new release of pip is available: 24.3.1 -> 25.1.1\n",
      "[notice] To update, run: python.exe -m pip install --upgrade pip\n"
     ]
    }
   ],
   "source": [
    "pip install openpyxl"
   ]
  },
  {
   "cell_type": "code",
   "execution_count": 14,
   "id": "bbdf73aa",
   "metadata": {},
   "outputs": [
    {
     "name": "stdout",
     "output_type": "stream",
     "text": [
      "Requirement already satisfied: PyMySQL in c:\\users\\mshin\\vs-code-projects\\demo\\.venv\\lib\\site-packages (1.1.1)\n"
     ]
    },
    {
     "name": "stderr",
     "output_type": "stream",
     "text": [
      "\n",
      "[notice] A new release of pip is available: 24.3.1 -> 25.1.1\n",
      "[notice] To update, run: python.exe -m pip install --upgrade pip\n"
     ]
    }
   ],
   "source": [
    "! pip install PyMySQL"
   ]
  },
  {
   "cell_type": "code",
   "execution_count": 15,
   "id": "a59f9b9c",
   "metadata": {},
   "outputs": [
    {
     "name": "stdout",
     "output_type": "stream",
     "text": [
      "Requirement already satisfied: pip in c:\\users\\mshin\\vs-code-projects\\demo\\.venv\\lib\\site-packages (24.3.1)\n",
      "Collecting pip\n",
      "  Using cached pip-25.1.1-py3-none-any.whl.metadata (3.6 kB)\n",
      "Using cached pip-25.1.1-py3-none-any.whl (1.8 MB)\n"
     ]
    },
    {
     "name": "stderr",
     "output_type": "stream",
     "text": [
      "\n",
      "[notice] A new release of pip is available: 24.3.1 -> 25.1.1\n",
      "[notice] To update, run: python.exe -m pip install --upgrade pip\n",
      "ERROR: To modify pip, please run the following command:\n",
      "C:\\Users\\mshin\\vs-code-projects\\demo\\.venv\\Scripts\\python.exe -m pip install --upgrade pip\n"
     ]
    }
   ],
   "source": [
    "!pip install --upgrade pip"
   ]
  },
  {
   "cell_type": "markdown",
   "id": "41fa06e2",
   "metadata": {},
   "source": [
    "## SWAPI Practice"
   ]
  },
  {
   "cell_type": "code",
   "execution_count": 16,
   "id": "42bfeeec",
   "metadata": {},
   "outputs": [
    {
     "name": "stdout",
     "output_type": "stream",
     "text": [
      "Requirement already satisfied: requests in c:\\users\\mshin\\vs-code-projects\\demo\\.venv\\lib\\site-packages (2.32.3)\n",
      "Requirement already satisfied: charset-normalizer<4,>=2 in c:\\users\\mshin\\vs-code-projects\\demo\\.venv\\lib\\site-packages (from requests) (3.4.2)\n",
      "Requirement already satisfied: idna<4,>=2.5 in c:\\users\\mshin\\vs-code-projects\\demo\\.venv\\lib\\site-packages (from requests) (3.10)\n",
      "Requirement already satisfied: urllib3<3,>=1.21.1 in c:\\users\\mshin\\vs-code-projects\\demo\\.venv\\lib\\site-packages (from requests) (2.4.0)\n",
      "Requirement already satisfied: certifi>=2017.4.17 in c:\\users\\mshin\\vs-code-projects\\demo\\.venv\\lib\\site-packages (from requests) (2025.4.26)\n",
      "Note: you may need to restart the kernel to use updated packages.\n"
     ]
    },
    {
     "name": "stderr",
     "output_type": "stream",
     "text": [
      "\n",
      "[notice] A new release of pip is available: 24.3.1 -> 25.1.1\n",
      "[notice] To update, run: python.exe -m pip install --upgrade pip\n"
     ]
    }
   ],
   "source": [
    "pip install requests"
   ]
  },
  {
   "cell_type": "code",
   "execution_count": 17,
   "id": "8ef2250e",
   "metadata": {},
   "outputs": [
    {
     "data": {
      "text/plain": [
       "<Response [200]>"
      ]
     },
     "execution_count": 17,
     "metadata": {},
     "output_type": "execute_result"
    }
   ],
   "source": [
    "import requests\n",
    "response = requests.get('https://ci-swapi.herokuapp.com/api')\n",
    "response"
   ]
  },
  {
   "cell_type": "code",
   "execution_count": 18,
   "id": "f122c98f",
   "metadata": {},
   "outputs": [
    {
     "data": {
      "text/plain": [
       "200"
      ]
     },
     "execution_count": 18,
     "metadata": {},
     "output_type": "execute_result"
    }
   ],
   "source": [
    "response.status_code"
   ]
  },
  {
   "cell_type": "code",
   "execution_count": 19,
   "id": "f2bf6706",
   "metadata": {},
   "outputs": [
    {
     "data": {
      "text/plain": [
       "'{\"people\":\"https://ci-swapi.herokuapp.com/api/people/\",\"planets\":\"https://ci-swapi.herokuapp.com/api/planets/\",\"films\":\"https://ci-swapi.herokuapp.com/api/films/\",\"species\":\"https://ci-swapi.herokuapp.com/api/species/\",\"vehicles\":\"https://ci-swapi.herokuapp.com/api/vehicles/\",\"starships\":\"https://ci-swapi.herokuapp.com/api/starships/\"}'"
      ]
     },
     "execution_count": 19,
     "metadata": {},
     "output_type": "execute_result"
    }
   ],
   "source": [
    "response.text"
   ]
  },
  {
   "cell_type": "code",
   "execution_count": 20,
   "id": "7194a6e7",
   "metadata": {},
   "outputs": [
    {
     "data": {
      "text/plain": [
       "str"
      ]
     },
     "execution_count": 20,
     "metadata": {},
     "output_type": "execute_result"
    }
   ],
   "source": [
    "type(response.text)"
   ]
  },
  {
   "cell_type": "code",
   "execution_count": 21,
   "id": "1c7e730b",
   "metadata": {},
   "outputs": [
    {
     "data": {
      "text/plain": [
       "{'count': 37,\n",
       " 'next': 'https://ci-swapi.herokuapp.com/api/species/?page=2',\n",
       " 'previous': None,\n",
       " 'results': [{'name': 'Human',\n",
       "   'classification': 'mammal',\n",
       "   'designation': 'sentient',\n",
       "   'average_height': '180',\n",
       "   'skin_colors': 'caucasian, black, asian, hispanic',\n",
       "   'hair_colors': 'blonde, brown, black, red',\n",
       "   'eye_colors': 'brown, blue, green, hazel, grey, amber',\n",
       "   'average_lifespan': '120',\n",
       "   'homeworld': 'https://ci-swapi.herokuapp.com/api/planets/9/',\n",
       "   'language': 'Galactic Basic',\n",
       "   'people': ['https://ci-swapi.herokuapp.com/api/people/66/',\n",
       "    'https://ci-swapi.herokuapp.com/api/people/67/',\n",
       "    'https://ci-swapi.herokuapp.com/api/people/68/',\n",
       "    'https://ci-swapi.herokuapp.com/api/people/74/'],\n",
       "   'films': ['https://ci-swapi.herokuapp.com/api/films/1/',\n",
       "    'https://ci-swapi.herokuapp.com/api/films/2/',\n",
       "    'https://ci-swapi.herokuapp.com/api/films/3/',\n",
       "    'https://ci-swapi.herokuapp.com/api/films/4/',\n",
       "    'https://ci-swapi.herokuapp.com/api/films/5/',\n",
       "    'https://ci-swapi.herokuapp.com/api/films/6/'],\n",
       "   'created': '2014-12-10T13:52:11.567000Z',\n",
       "   'edited': '2014-12-20T21:36:42.136000Z',\n",
       "   'url': 'https://ci-swapi.herokuapp.com/api/species/1/'},\n",
       "  {'name': 'Droid',\n",
       "   'classification': 'artificial',\n",
       "   'designation': 'sentient',\n",
       "   'average_height': 'n/a',\n",
       "   'skin_colors': 'n/a',\n",
       "   'hair_colors': 'n/a',\n",
       "   'eye_colors': 'n/a',\n",
       "   'average_lifespan': 'indefinite',\n",
       "   'homeworld': 'https://ci-swapi.herokuapp.com/api/planets/10/',\n",
       "   'language': 'n/a',\n",
       "   'people': ['https://ci-swapi.herokuapp.com/api/people/2/',\n",
       "    'https://ci-swapi.herokuapp.com/api/people/3/',\n",
       "    'https://ci-swapi.herokuapp.com/api/people/8/',\n",
       "    'https://ci-swapi.herokuapp.com/api/people/23/'],\n",
       "   'films': ['https://ci-swapi.herokuapp.com/api/films/1/',\n",
       "    'https://ci-swapi.herokuapp.com/api/films/2/',\n",
       "    'https://ci-swapi.herokuapp.com/api/films/3/',\n",
       "    'https://ci-swapi.herokuapp.com/api/films/4/',\n",
       "    'https://ci-swapi.herokuapp.com/api/films/5/',\n",
       "    'https://ci-swapi.herokuapp.com/api/films/6/'],\n",
       "   'created': '2014-12-10T15:16:16.259000Z',\n",
       "   'edited': '2014-12-20T21:36:42.139000Z',\n",
       "   'url': 'https://ci-swapi.herokuapp.com/api/species/2/'},\n",
       "  {'name': 'Wookie',\n",
       "   'classification': 'mammal',\n",
       "   'designation': 'sentient',\n",
       "   'average_height': '210',\n",
       "   'skin_colors': 'gray',\n",
       "   'hair_colors': 'black, brown',\n",
       "   'eye_colors': 'blue, green, yellow, brown, golden, red',\n",
       "   'average_lifespan': '400',\n",
       "   'homeworld': 'https://ci-swapi.herokuapp.com/api/planets/14/',\n",
       "   'language': 'Shyriiwook',\n",
       "   'people': ['https://ci-swapi.herokuapp.com/api/people/13/',\n",
       "    'https://ci-swapi.herokuapp.com/api/people/80/'],\n",
       "   'films': ['https://ci-swapi.herokuapp.com/api/films/1/',\n",
       "    'https://ci-swapi.herokuapp.com/api/films/2/',\n",
       "    'https://ci-swapi.herokuapp.com/api/films/3/',\n",
       "    'https://ci-swapi.herokuapp.com/api/films/6/'],\n",
       "   'created': '2014-12-10T16:44:31.486000Z',\n",
       "   'edited': '2014-12-20T21:36:42.142000Z',\n",
       "   'url': 'https://ci-swapi.herokuapp.com/api/species/3/'},\n",
       "  {'name': 'Rodian',\n",
       "   'classification': 'sentient',\n",
       "   'designation': 'reptilian',\n",
       "   'average_height': '170',\n",
       "   'skin_colors': 'green, blue',\n",
       "   'hair_colors': 'n/a',\n",
       "   'eye_colors': 'black',\n",
       "   'average_lifespan': 'unknown',\n",
       "   'homeworld': 'https://ci-swapi.herokuapp.com/api/planets/23/',\n",
       "   'language': 'Galatic Basic',\n",
       "   'people': ['https://ci-swapi.herokuapp.com/api/people/15/'],\n",
       "   'films': ['https://ci-swapi.herokuapp.com/api/films/1/'],\n",
       "   'created': '2014-12-10T17:05:26.471000Z',\n",
       "   'edited': '2014-12-20T21:36:42.144000Z',\n",
       "   'url': 'https://ci-swapi.herokuapp.com/api/species/4/'},\n",
       "  {'name': 'Hutt',\n",
       "   'classification': 'gastropod',\n",
       "   'designation': 'sentient',\n",
       "   'average_height': '300',\n",
       "   'skin_colors': 'green, brown, tan',\n",
       "   'hair_colors': 'n/a',\n",
       "   'eye_colors': 'yellow, red',\n",
       "   'average_lifespan': '1000',\n",
       "   'homeworld': 'https://ci-swapi.herokuapp.com/api/planets/24/',\n",
       "   'language': 'Huttese',\n",
       "   'people': ['https://ci-swapi.herokuapp.com/api/people/16/'],\n",
       "   'films': ['https://ci-swapi.herokuapp.com/api/films/1/',\n",
       "    'https://ci-swapi.herokuapp.com/api/films/3/'],\n",
       "   'created': '2014-12-10T17:12:50.410000Z',\n",
       "   'edited': '2014-12-20T21:36:42.146000Z',\n",
       "   'url': 'https://ci-swapi.herokuapp.com/api/species/5/'},\n",
       "  {'name': \"Yoda's species\",\n",
       "   'classification': 'mammal',\n",
       "   'designation': 'sentient',\n",
       "   'average_height': '66',\n",
       "   'skin_colors': 'green, yellow',\n",
       "   'hair_colors': 'brown, white',\n",
       "   'eye_colors': 'brown, green, yellow',\n",
       "   'average_lifespan': '900',\n",
       "   'homeworld': 'https://ci-swapi.herokuapp.com/api/planets/28/',\n",
       "   'language': 'Galactic basic',\n",
       "   'people': ['https://ci-swapi.herokuapp.com/api/people/20/'],\n",
       "   'films': ['https://ci-swapi.herokuapp.com/api/films/2/',\n",
       "    'https://ci-swapi.herokuapp.com/api/films/3/',\n",
       "    'https://ci-swapi.herokuapp.com/api/films/4/',\n",
       "    'https://ci-swapi.herokuapp.com/api/films/5/',\n",
       "    'https://ci-swapi.herokuapp.com/api/films/6/'],\n",
       "   'created': '2014-12-15T12:27:22.877000Z',\n",
       "   'edited': '2014-12-20T21:36:42.148000Z',\n",
       "   'url': 'https://ci-swapi.herokuapp.com/api/species/6/'},\n",
       "  {'name': 'Trandoshan',\n",
       "   'classification': 'reptile',\n",
       "   'designation': 'sentient',\n",
       "   'average_height': '200',\n",
       "   'skin_colors': 'brown, green',\n",
       "   'hair_colors': 'none',\n",
       "   'eye_colors': 'yellow, orange',\n",
       "   'average_lifespan': 'unknown',\n",
       "   'homeworld': 'https://ci-swapi.herokuapp.com/api/planets/29/',\n",
       "   'language': 'Dosh',\n",
       "   'people': ['https://ci-swapi.herokuapp.com/api/people/24/'],\n",
       "   'films': ['https://ci-swapi.herokuapp.com/api/films/2/'],\n",
       "   'created': '2014-12-15T13:07:47.704000Z',\n",
       "   'edited': '2014-12-20T21:36:42.151000Z',\n",
       "   'url': 'https://ci-swapi.herokuapp.com/api/species/7/'},\n",
       "  {'name': 'Mon Calamari',\n",
       "   'classification': 'amphibian',\n",
       "   'designation': 'sentient',\n",
       "   'average_height': '160',\n",
       "   'skin_colors': 'red, blue, brown, magenta',\n",
       "   'hair_colors': 'none',\n",
       "   'eye_colors': 'yellow',\n",
       "   'average_lifespan': 'unknown',\n",
       "   'homeworld': 'https://ci-swapi.herokuapp.com/api/planets/31/',\n",
       "   'language': 'Mon Calamarian',\n",
       "   'people': ['https://ci-swapi.herokuapp.com/api/people/27/'],\n",
       "   'films': ['https://ci-swapi.herokuapp.com/api/films/3/'],\n",
       "   'created': '2014-12-18T11:09:52.263000Z',\n",
       "   'edited': '2014-12-20T21:36:42.153000Z',\n",
       "   'url': 'https://ci-swapi.herokuapp.com/api/species/8/'},\n",
       "  {'name': 'Ewok',\n",
       "   'classification': 'mammal',\n",
       "   'designation': 'sentient',\n",
       "   'average_height': '100',\n",
       "   'skin_colors': 'brown',\n",
       "   'hair_colors': 'white, brown, black',\n",
       "   'eye_colors': 'orange, brown',\n",
       "   'average_lifespan': 'unknown',\n",
       "   'homeworld': 'https://ci-swapi.herokuapp.com/api/planets/7/',\n",
       "   'language': 'Ewokese',\n",
       "   'people': ['https://ci-swapi.herokuapp.com/api/people/30/'],\n",
       "   'films': ['https://ci-swapi.herokuapp.com/api/films/3/'],\n",
       "   'created': '2014-12-18T11:22:00.285000Z',\n",
       "   'edited': '2014-12-20T21:36:42.155000Z',\n",
       "   'url': 'https://ci-swapi.herokuapp.com/api/species/9/'},\n",
       "  {'name': 'Sullustan',\n",
       "   'classification': 'mammal',\n",
       "   'designation': 'sentient',\n",
       "   'average_height': '180',\n",
       "   'skin_colors': 'pale',\n",
       "   'hair_colors': 'none',\n",
       "   'eye_colors': 'black',\n",
       "   'average_lifespan': 'unknown',\n",
       "   'homeworld': 'https://ci-swapi.herokuapp.com/api/planets/33/',\n",
       "   'language': 'Sullutese',\n",
       "   'people': ['https://ci-swapi.herokuapp.com/api/people/31/'],\n",
       "   'films': ['https://ci-swapi.herokuapp.com/api/films/3/'],\n",
       "   'created': '2014-12-18T11:26:20.103000Z',\n",
       "   'edited': '2014-12-20T21:36:42.157000Z',\n",
       "   'url': 'https://ci-swapi.herokuapp.com/api/species/10/'}]}"
      ]
     },
     "execution_count": 21,
     "metadata": {},
     "output_type": "execute_result"
    }
   ],
   "source": [
    "response = requests.get(\"https://ci-swapi.herokuapp.com/api/species/\").json()#changes to python dictionary\n",
    "response"
   ]
  },
  {
   "cell_type": "code",
   "execution_count": 22,
   "id": "043999c0",
   "metadata": {},
   "outputs": [
    {
     "data": {
      "text/plain": [
       "dict_keys(['count', 'next', 'previous', 'results'])"
      ]
     },
     "execution_count": 22,
     "metadata": {},
     "output_type": "execute_result"
    }
   ],
   "source": [
    "response.keys()"
   ]
  },
  {
   "cell_type": "code",
   "execution_count": 23,
   "id": "d9f67e00",
   "metadata": {},
   "outputs": [
    {
     "data": {
      "text/plain": [
       "[{'name': 'Human',\n",
       "  'classification': 'mammal',\n",
       "  'designation': 'sentient',\n",
       "  'average_height': '180',\n",
       "  'skin_colors': 'caucasian, black, asian, hispanic',\n",
       "  'hair_colors': 'blonde, brown, black, red',\n",
       "  'eye_colors': 'brown, blue, green, hazel, grey, amber',\n",
       "  'average_lifespan': '120',\n",
       "  'homeworld': 'https://ci-swapi.herokuapp.com/api/planets/9/',\n",
       "  'language': 'Galactic Basic',\n",
       "  'people': ['https://ci-swapi.herokuapp.com/api/people/66/',\n",
       "   'https://ci-swapi.herokuapp.com/api/people/67/',\n",
       "   'https://ci-swapi.herokuapp.com/api/people/68/',\n",
       "   'https://ci-swapi.herokuapp.com/api/people/74/'],\n",
       "  'films': ['https://ci-swapi.herokuapp.com/api/films/1/',\n",
       "   'https://ci-swapi.herokuapp.com/api/films/2/',\n",
       "   'https://ci-swapi.herokuapp.com/api/films/3/',\n",
       "   'https://ci-swapi.herokuapp.com/api/films/4/',\n",
       "   'https://ci-swapi.herokuapp.com/api/films/5/',\n",
       "   'https://ci-swapi.herokuapp.com/api/films/6/'],\n",
       "  'created': '2014-12-10T13:52:11.567000Z',\n",
       "  'edited': '2014-12-20T21:36:42.136000Z',\n",
       "  'url': 'https://ci-swapi.herokuapp.com/api/species/1/'},\n",
       " {'name': 'Droid',\n",
       "  'classification': 'artificial',\n",
       "  'designation': 'sentient',\n",
       "  'average_height': 'n/a',\n",
       "  'skin_colors': 'n/a',\n",
       "  'hair_colors': 'n/a',\n",
       "  'eye_colors': 'n/a',\n",
       "  'average_lifespan': 'indefinite',\n",
       "  'homeworld': 'https://ci-swapi.herokuapp.com/api/planets/10/',\n",
       "  'language': 'n/a',\n",
       "  'people': ['https://ci-swapi.herokuapp.com/api/people/2/',\n",
       "   'https://ci-swapi.herokuapp.com/api/people/3/',\n",
       "   'https://ci-swapi.herokuapp.com/api/people/8/',\n",
       "   'https://ci-swapi.herokuapp.com/api/people/23/'],\n",
       "  'films': ['https://ci-swapi.herokuapp.com/api/films/1/',\n",
       "   'https://ci-swapi.herokuapp.com/api/films/2/',\n",
       "   'https://ci-swapi.herokuapp.com/api/films/3/',\n",
       "   'https://ci-swapi.herokuapp.com/api/films/4/',\n",
       "   'https://ci-swapi.herokuapp.com/api/films/5/',\n",
       "   'https://ci-swapi.herokuapp.com/api/films/6/'],\n",
       "  'created': '2014-12-10T15:16:16.259000Z',\n",
       "  'edited': '2014-12-20T21:36:42.139000Z',\n",
       "  'url': 'https://ci-swapi.herokuapp.com/api/species/2/'},\n",
       " {'name': 'Wookie',\n",
       "  'classification': 'mammal',\n",
       "  'designation': 'sentient',\n",
       "  'average_height': '210',\n",
       "  'skin_colors': 'gray',\n",
       "  'hair_colors': 'black, brown',\n",
       "  'eye_colors': 'blue, green, yellow, brown, golden, red',\n",
       "  'average_lifespan': '400',\n",
       "  'homeworld': 'https://ci-swapi.herokuapp.com/api/planets/14/',\n",
       "  'language': 'Shyriiwook',\n",
       "  'people': ['https://ci-swapi.herokuapp.com/api/people/13/',\n",
       "   'https://ci-swapi.herokuapp.com/api/people/80/'],\n",
       "  'films': ['https://ci-swapi.herokuapp.com/api/films/1/',\n",
       "   'https://ci-swapi.herokuapp.com/api/films/2/',\n",
       "   'https://ci-swapi.herokuapp.com/api/films/3/',\n",
       "   'https://ci-swapi.herokuapp.com/api/films/6/'],\n",
       "  'created': '2014-12-10T16:44:31.486000Z',\n",
       "  'edited': '2014-12-20T21:36:42.142000Z',\n",
       "  'url': 'https://ci-swapi.herokuapp.com/api/species/3/'},\n",
       " {'name': 'Rodian',\n",
       "  'classification': 'sentient',\n",
       "  'designation': 'reptilian',\n",
       "  'average_height': '170',\n",
       "  'skin_colors': 'green, blue',\n",
       "  'hair_colors': 'n/a',\n",
       "  'eye_colors': 'black',\n",
       "  'average_lifespan': 'unknown',\n",
       "  'homeworld': 'https://ci-swapi.herokuapp.com/api/planets/23/',\n",
       "  'language': 'Galatic Basic',\n",
       "  'people': ['https://ci-swapi.herokuapp.com/api/people/15/'],\n",
       "  'films': ['https://ci-swapi.herokuapp.com/api/films/1/'],\n",
       "  'created': '2014-12-10T17:05:26.471000Z',\n",
       "  'edited': '2014-12-20T21:36:42.144000Z',\n",
       "  'url': 'https://ci-swapi.herokuapp.com/api/species/4/'},\n",
       " {'name': 'Hutt',\n",
       "  'classification': 'gastropod',\n",
       "  'designation': 'sentient',\n",
       "  'average_height': '300',\n",
       "  'skin_colors': 'green, brown, tan',\n",
       "  'hair_colors': 'n/a',\n",
       "  'eye_colors': 'yellow, red',\n",
       "  'average_lifespan': '1000',\n",
       "  'homeworld': 'https://ci-swapi.herokuapp.com/api/planets/24/',\n",
       "  'language': 'Huttese',\n",
       "  'people': ['https://ci-swapi.herokuapp.com/api/people/16/'],\n",
       "  'films': ['https://ci-swapi.herokuapp.com/api/films/1/',\n",
       "   'https://ci-swapi.herokuapp.com/api/films/3/'],\n",
       "  'created': '2014-12-10T17:12:50.410000Z',\n",
       "  'edited': '2014-12-20T21:36:42.146000Z',\n",
       "  'url': 'https://ci-swapi.herokuapp.com/api/species/5/'},\n",
       " {'name': \"Yoda's species\",\n",
       "  'classification': 'mammal',\n",
       "  'designation': 'sentient',\n",
       "  'average_height': '66',\n",
       "  'skin_colors': 'green, yellow',\n",
       "  'hair_colors': 'brown, white',\n",
       "  'eye_colors': 'brown, green, yellow',\n",
       "  'average_lifespan': '900',\n",
       "  'homeworld': 'https://ci-swapi.herokuapp.com/api/planets/28/',\n",
       "  'language': 'Galactic basic',\n",
       "  'people': ['https://ci-swapi.herokuapp.com/api/people/20/'],\n",
       "  'films': ['https://ci-swapi.herokuapp.com/api/films/2/',\n",
       "   'https://ci-swapi.herokuapp.com/api/films/3/',\n",
       "   'https://ci-swapi.herokuapp.com/api/films/4/',\n",
       "   'https://ci-swapi.herokuapp.com/api/films/5/',\n",
       "   'https://ci-swapi.herokuapp.com/api/films/6/'],\n",
       "  'created': '2014-12-15T12:27:22.877000Z',\n",
       "  'edited': '2014-12-20T21:36:42.148000Z',\n",
       "  'url': 'https://ci-swapi.herokuapp.com/api/species/6/'},\n",
       " {'name': 'Trandoshan',\n",
       "  'classification': 'reptile',\n",
       "  'designation': 'sentient',\n",
       "  'average_height': '200',\n",
       "  'skin_colors': 'brown, green',\n",
       "  'hair_colors': 'none',\n",
       "  'eye_colors': 'yellow, orange',\n",
       "  'average_lifespan': 'unknown',\n",
       "  'homeworld': 'https://ci-swapi.herokuapp.com/api/planets/29/',\n",
       "  'language': 'Dosh',\n",
       "  'people': ['https://ci-swapi.herokuapp.com/api/people/24/'],\n",
       "  'films': ['https://ci-swapi.herokuapp.com/api/films/2/'],\n",
       "  'created': '2014-12-15T13:07:47.704000Z',\n",
       "  'edited': '2014-12-20T21:36:42.151000Z',\n",
       "  'url': 'https://ci-swapi.herokuapp.com/api/species/7/'},\n",
       " {'name': 'Mon Calamari',\n",
       "  'classification': 'amphibian',\n",
       "  'designation': 'sentient',\n",
       "  'average_height': '160',\n",
       "  'skin_colors': 'red, blue, brown, magenta',\n",
       "  'hair_colors': 'none',\n",
       "  'eye_colors': 'yellow',\n",
       "  'average_lifespan': 'unknown',\n",
       "  'homeworld': 'https://ci-swapi.herokuapp.com/api/planets/31/',\n",
       "  'language': 'Mon Calamarian',\n",
       "  'people': ['https://ci-swapi.herokuapp.com/api/people/27/'],\n",
       "  'films': ['https://ci-swapi.herokuapp.com/api/films/3/'],\n",
       "  'created': '2014-12-18T11:09:52.263000Z',\n",
       "  'edited': '2014-12-20T21:36:42.153000Z',\n",
       "  'url': 'https://ci-swapi.herokuapp.com/api/species/8/'},\n",
       " {'name': 'Ewok',\n",
       "  'classification': 'mammal',\n",
       "  'designation': 'sentient',\n",
       "  'average_height': '100',\n",
       "  'skin_colors': 'brown',\n",
       "  'hair_colors': 'white, brown, black',\n",
       "  'eye_colors': 'orange, brown',\n",
       "  'average_lifespan': 'unknown',\n",
       "  'homeworld': 'https://ci-swapi.herokuapp.com/api/planets/7/',\n",
       "  'language': 'Ewokese',\n",
       "  'people': ['https://ci-swapi.herokuapp.com/api/people/30/'],\n",
       "  'films': ['https://ci-swapi.herokuapp.com/api/films/3/'],\n",
       "  'created': '2014-12-18T11:22:00.285000Z',\n",
       "  'edited': '2014-12-20T21:36:42.155000Z',\n",
       "  'url': 'https://ci-swapi.herokuapp.com/api/species/9/'},\n",
       " {'name': 'Sullustan',\n",
       "  'classification': 'mammal',\n",
       "  'designation': 'sentient',\n",
       "  'average_height': '180',\n",
       "  'skin_colors': 'pale',\n",
       "  'hair_colors': 'none',\n",
       "  'eye_colors': 'black',\n",
       "  'average_lifespan': 'unknown',\n",
       "  'homeworld': 'https://ci-swapi.herokuapp.com/api/planets/33/',\n",
       "  'language': 'Sullutese',\n",
       "  'people': ['https://ci-swapi.herokuapp.com/api/people/31/'],\n",
       "  'films': ['https://ci-swapi.herokuapp.com/api/films/3/'],\n",
       "  'created': '2014-12-18T11:26:20.103000Z',\n",
       "  'edited': '2014-12-20T21:36:42.157000Z',\n",
       "  'url': 'https://ci-swapi.herokuapp.com/api/species/10/'}]"
      ]
     },
     "execution_count": 23,
     "metadata": {},
     "output_type": "execute_result"
    }
   ],
   "source": [
    "response[\"results\"]"
   ]
  },
  {
   "cell_type": "code",
   "execution_count": 24,
   "id": "4a606f02",
   "metadata": {},
   "outputs": [
    {
     "data": {
      "text/plain": [
       "list"
      ]
     },
     "execution_count": 24,
     "metadata": {},
     "output_type": "execute_result"
    }
   ],
   "source": [
    "type(response[\"results\"])"
   ]
  },
  {
   "cell_type": "code",
   "execution_count": 25,
   "id": "aea0dca4",
   "metadata": {},
   "outputs": [
    {
     "data": {
      "text/plain": [
       "10"
      ]
     },
     "execution_count": 25,
     "metadata": {},
     "output_type": "execute_result"
    }
   ],
   "source": [
    "len(response[\"results\"])"
   ]
  },
  {
   "cell_type": "code",
   "execution_count": 26,
   "id": "59faa47f",
   "metadata": {},
   "outputs": [
    {
     "data": {
      "text/plain": [
       "dict_values([37, 'https://ci-swapi.herokuapp.com/api/species/?page=2', None, [{'name': 'Human', 'classification': 'mammal', 'designation': 'sentient', 'average_height': '180', 'skin_colors': 'caucasian, black, asian, hispanic', 'hair_colors': 'blonde, brown, black, red', 'eye_colors': 'brown, blue, green, hazel, grey, amber', 'average_lifespan': '120', 'homeworld': 'https://ci-swapi.herokuapp.com/api/planets/9/', 'language': 'Galactic Basic', 'people': ['https://ci-swapi.herokuapp.com/api/people/66/', 'https://ci-swapi.herokuapp.com/api/people/67/', 'https://ci-swapi.herokuapp.com/api/people/68/', 'https://ci-swapi.herokuapp.com/api/people/74/'], 'films': ['https://ci-swapi.herokuapp.com/api/films/1/', 'https://ci-swapi.herokuapp.com/api/films/2/', 'https://ci-swapi.herokuapp.com/api/films/3/', 'https://ci-swapi.herokuapp.com/api/films/4/', 'https://ci-swapi.herokuapp.com/api/films/5/', 'https://ci-swapi.herokuapp.com/api/films/6/'], 'created': '2014-12-10T13:52:11.567000Z', 'edited': '2014-12-20T21:36:42.136000Z', 'url': 'https://ci-swapi.herokuapp.com/api/species/1/'}, {'name': 'Droid', 'classification': 'artificial', 'designation': 'sentient', 'average_height': 'n/a', 'skin_colors': 'n/a', 'hair_colors': 'n/a', 'eye_colors': 'n/a', 'average_lifespan': 'indefinite', 'homeworld': 'https://ci-swapi.herokuapp.com/api/planets/10/', 'language': 'n/a', 'people': ['https://ci-swapi.herokuapp.com/api/people/2/', 'https://ci-swapi.herokuapp.com/api/people/3/', 'https://ci-swapi.herokuapp.com/api/people/8/', 'https://ci-swapi.herokuapp.com/api/people/23/'], 'films': ['https://ci-swapi.herokuapp.com/api/films/1/', 'https://ci-swapi.herokuapp.com/api/films/2/', 'https://ci-swapi.herokuapp.com/api/films/3/', 'https://ci-swapi.herokuapp.com/api/films/4/', 'https://ci-swapi.herokuapp.com/api/films/5/', 'https://ci-swapi.herokuapp.com/api/films/6/'], 'created': '2014-12-10T15:16:16.259000Z', 'edited': '2014-12-20T21:36:42.139000Z', 'url': 'https://ci-swapi.herokuapp.com/api/species/2/'}, {'name': 'Wookie', 'classification': 'mammal', 'designation': 'sentient', 'average_height': '210', 'skin_colors': 'gray', 'hair_colors': 'black, brown', 'eye_colors': 'blue, green, yellow, brown, golden, red', 'average_lifespan': '400', 'homeworld': 'https://ci-swapi.herokuapp.com/api/planets/14/', 'language': 'Shyriiwook', 'people': ['https://ci-swapi.herokuapp.com/api/people/13/', 'https://ci-swapi.herokuapp.com/api/people/80/'], 'films': ['https://ci-swapi.herokuapp.com/api/films/1/', 'https://ci-swapi.herokuapp.com/api/films/2/', 'https://ci-swapi.herokuapp.com/api/films/3/', 'https://ci-swapi.herokuapp.com/api/films/6/'], 'created': '2014-12-10T16:44:31.486000Z', 'edited': '2014-12-20T21:36:42.142000Z', 'url': 'https://ci-swapi.herokuapp.com/api/species/3/'}, {'name': 'Rodian', 'classification': 'sentient', 'designation': 'reptilian', 'average_height': '170', 'skin_colors': 'green, blue', 'hair_colors': 'n/a', 'eye_colors': 'black', 'average_lifespan': 'unknown', 'homeworld': 'https://ci-swapi.herokuapp.com/api/planets/23/', 'language': 'Galatic Basic', 'people': ['https://ci-swapi.herokuapp.com/api/people/15/'], 'films': ['https://ci-swapi.herokuapp.com/api/films/1/'], 'created': '2014-12-10T17:05:26.471000Z', 'edited': '2014-12-20T21:36:42.144000Z', 'url': 'https://ci-swapi.herokuapp.com/api/species/4/'}, {'name': 'Hutt', 'classification': 'gastropod', 'designation': 'sentient', 'average_height': '300', 'skin_colors': 'green, brown, tan', 'hair_colors': 'n/a', 'eye_colors': 'yellow, red', 'average_lifespan': '1000', 'homeworld': 'https://ci-swapi.herokuapp.com/api/planets/24/', 'language': 'Huttese', 'people': ['https://ci-swapi.herokuapp.com/api/people/16/'], 'films': ['https://ci-swapi.herokuapp.com/api/films/1/', 'https://ci-swapi.herokuapp.com/api/films/3/'], 'created': '2014-12-10T17:12:50.410000Z', 'edited': '2014-12-20T21:36:42.146000Z', 'url': 'https://ci-swapi.herokuapp.com/api/species/5/'}, {'name': \"Yoda's species\", 'classification': 'mammal', 'designation': 'sentient', 'average_height': '66', 'skin_colors': 'green, yellow', 'hair_colors': 'brown, white', 'eye_colors': 'brown, green, yellow', 'average_lifespan': '900', 'homeworld': 'https://ci-swapi.herokuapp.com/api/planets/28/', 'language': 'Galactic basic', 'people': ['https://ci-swapi.herokuapp.com/api/people/20/'], 'films': ['https://ci-swapi.herokuapp.com/api/films/2/', 'https://ci-swapi.herokuapp.com/api/films/3/', 'https://ci-swapi.herokuapp.com/api/films/4/', 'https://ci-swapi.herokuapp.com/api/films/5/', 'https://ci-swapi.herokuapp.com/api/films/6/'], 'created': '2014-12-15T12:27:22.877000Z', 'edited': '2014-12-20T21:36:42.148000Z', 'url': 'https://ci-swapi.herokuapp.com/api/species/6/'}, {'name': 'Trandoshan', 'classification': 'reptile', 'designation': 'sentient', 'average_height': '200', 'skin_colors': 'brown, green', 'hair_colors': 'none', 'eye_colors': 'yellow, orange', 'average_lifespan': 'unknown', 'homeworld': 'https://ci-swapi.herokuapp.com/api/planets/29/', 'language': 'Dosh', 'people': ['https://ci-swapi.herokuapp.com/api/people/24/'], 'films': ['https://ci-swapi.herokuapp.com/api/films/2/'], 'created': '2014-12-15T13:07:47.704000Z', 'edited': '2014-12-20T21:36:42.151000Z', 'url': 'https://ci-swapi.herokuapp.com/api/species/7/'}, {'name': 'Mon Calamari', 'classification': 'amphibian', 'designation': 'sentient', 'average_height': '160', 'skin_colors': 'red, blue, brown, magenta', 'hair_colors': 'none', 'eye_colors': 'yellow', 'average_lifespan': 'unknown', 'homeworld': 'https://ci-swapi.herokuapp.com/api/planets/31/', 'language': 'Mon Calamarian', 'people': ['https://ci-swapi.herokuapp.com/api/people/27/'], 'films': ['https://ci-swapi.herokuapp.com/api/films/3/'], 'created': '2014-12-18T11:09:52.263000Z', 'edited': '2014-12-20T21:36:42.153000Z', 'url': 'https://ci-swapi.herokuapp.com/api/species/8/'}, {'name': 'Ewok', 'classification': 'mammal', 'designation': 'sentient', 'average_height': '100', 'skin_colors': 'brown', 'hair_colors': 'white, brown, black', 'eye_colors': 'orange, brown', 'average_lifespan': 'unknown', 'homeworld': 'https://ci-swapi.herokuapp.com/api/planets/7/', 'language': 'Ewokese', 'people': ['https://ci-swapi.herokuapp.com/api/people/30/'], 'films': ['https://ci-swapi.herokuapp.com/api/films/3/'], 'created': '2014-12-18T11:22:00.285000Z', 'edited': '2014-12-20T21:36:42.155000Z', 'url': 'https://ci-swapi.herokuapp.com/api/species/9/'}, {'name': 'Sullustan', 'classification': 'mammal', 'designation': 'sentient', 'average_height': '180', 'skin_colors': 'pale', 'hair_colors': 'none', 'eye_colors': 'black', 'average_lifespan': 'unknown', 'homeworld': 'https://ci-swapi.herokuapp.com/api/planets/33/', 'language': 'Sullutese', 'people': ['https://ci-swapi.herokuapp.com/api/people/31/'], 'films': ['https://ci-swapi.herokuapp.com/api/films/3/'], 'created': '2014-12-18T11:26:20.103000Z', 'edited': '2014-12-20T21:36:42.157000Z', 'url': 'https://ci-swapi.herokuapp.com/api/species/10/'}]])"
      ]
     },
     "execution_count": 26,
     "metadata": {},
     "output_type": "execute_result"
    }
   ],
   "source": [
    "response.values()"
   ]
  },
  {
   "cell_type": "code",
   "execution_count": 27,
   "id": "90ae29a7",
   "metadata": {},
   "outputs": [
    {
     "data": {
      "text/plain": [
       "50"
      ]
     },
     "execution_count": 27,
     "metadata": {},
     "output_type": "execute_result"
    }
   ],
   "source": [
    "len(response[\"next\"])"
   ]
  },
  {
   "cell_type": "code",
   "execution_count": 28,
   "id": "62da4ed9",
   "metadata": {},
   "outputs": [
    {
     "data": {
      "text/plain": [
       "{'count': 37,\n",
       " 'next': 'https://ci-swapi.herokuapp.com/api/species/?page=2',\n",
       " 'previous': None,\n",
       " 'results': [{'name': 'Human',\n",
       "   'classification': 'mammal',\n",
       "   'designation': 'sentient',\n",
       "   'average_height': '180',\n",
       "   'skin_colors': 'caucasian, black, asian, hispanic',\n",
       "   'hair_colors': 'blonde, brown, black, red',\n",
       "   'eye_colors': 'brown, blue, green, hazel, grey, amber',\n",
       "   'average_lifespan': '120',\n",
       "   'homeworld': 'https://ci-swapi.herokuapp.com/api/planets/9/',\n",
       "   'language': 'Galactic Basic',\n",
       "   'people': ['https://ci-swapi.herokuapp.com/api/people/66/',\n",
       "    'https://ci-swapi.herokuapp.com/api/people/67/',\n",
       "    'https://ci-swapi.herokuapp.com/api/people/68/',\n",
       "    'https://ci-swapi.herokuapp.com/api/people/74/'],\n",
       "   'films': ['https://ci-swapi.herokuapp.com/api/films/1/',\n",
       "    'https://ci-swapi.herokuapp.com/api/films/2/',\n",
       "    'https://ci-swapi.herokuapp.com/api/films/3/',\n",
       "    'https://ci-swapi.herokuapp.com/api/films/4/',\n",
       "    'https://ci-swapi.herokuapp.com/api/films/5/',\n",
       "    'https://ci-swapi.herokuapp.com/api/films/6/'],\n",
       "   'created': '2014-12-10T13:52:11.567000Z',\n",
       "   'edited': '2014-12-20T21:36:42.136000Z',\n",
       "   'url': 'https://ci-swapi.herokuapp.com/api/species/1/'},\n",
       "  {'name': 'Droid',\n",
       "   'classification': 'artificial',\n",
       "   'designation': 'sentient',\n",
       "   'average_height': 'n/a',\n",
       "   'skin_colors': 'n/a',\n",
       "   'hair_colors': 'n/a',\n",
       "   'eye_colors': 'n/a',\n",
       "   'average_lifespan': 'indefinite',\n",
       "   'homeworld': 'https://ci-swapi.herokuapp.com/api/planets/10/',\n",
       "   'language': 'n/a',\n",
       "   'people': ['https://ci-swapi.herokuapp.com/api/people/2/',\n",
       "    'https://ci-swapi.herokuapp.com/api/people/3/',\n",
       "    'https://ci-swapi.herokuapp.com/api/people/8/',\n",
       "    'https://ci-swapi.herokuapp.com/api/people/23/'],\n",
       "   'films': ['https://ci-swapi.herokuapp.com/api/films/1/',\n",
       "    'https://ci-swapi.herokuapp.com/api/films/2/',\n",
       "    'https://ci-swapi.herokuapp.com/api/films/3/',\n",
       "    'https://ci-swapi.herokuapp.com/api/films/4/',\n",
       "    'https://ci-swapi.herokuapp.com/api/films/5/',\n",
       "    'https://ci-swapi.herokuapp.com/api/films/6/'],\n",
       "   'created': '2014-12-10T15:16:16.259000Z',\n",
       "   'edited': '2014-12-20T21:36:42.139000Z',\n",
       "   'url': 'https://ci-swapi.herokuapp.com/api/species/2/'},\n",
       "  {'name': 'Wookie',\n",
       "   'classification': 'mammal',\n",
       "   'designation': 'sentient',\n",
       "   'average_height': '210',\n",
       "   'skin_colors': 'gray',\n",
       "   'hair_colors': 'black, brown',\n",
       "   'eye_colors': 'blue, green, yellow, brown, golden, red',\n",
       "   'average_lifespan': '400',\n",
       "   'homeworld': 'https://ci-swapi.herokuapp.com/api/planets/14/',\n",
       "   'language': 'Shyriiwook',\n",
       "   'people': ['https://ci-swapi.herokuapp.com/api/people/13/',\n",
       "    'https://ci-swapi.herokuapp.com/api/people/80/'],\n",
       "   'films': ['https://ci-swapi.herokuapp.com/api/films/1/',\n",
       "    'https://ci-swapi.herokuapp.com/api/films/2/',\n",
       "    'https://ci-swapi.herokuapp.com/api/films/3/',\n",
       "    'https://ci-swapi.herokuapp.com/api/films/6/'],\n",
       "   'created': '2014-12-10T16:44:31.486000Z',\n",
       "   'edited': '2014-12-20T21:36:42.142000Z',\n",
       "   'url': 'https://ci-swapi.herokuapp.com/api/species/3/'},\n",
       "  {'name': 'Rodian',\n",
       "   'classification': 'sentient',\n",
       "   'designation': 'reptilian',\n",
       "   'average_height': '170',\n",
       "   'skin_colors': 'green, blue',\n",
       "   'hair_colors': 'n/a',\n",
       "   'eye_colors': 'black',\n",
       "   'average_lifespan': 'unknown',\n",
       "   'homeworld': 'https://ci-swapi.herokuapp.com/api/planets/23/',\n",
       "   'language': 'Galatic Basic',\n",
       "   'people': ['https://ci-swapi.herokuapp.com/api/people/15/'],\n",
       "   'films': ['https://ci-swapi.herokuapp.com/api/films/1/'],\n",
       "   'created': '2014-12-10T17:05:26.471000Z',\n",
       "   'edited': '2014-12-20T21:36:42.144000Z',\n",
       "   'url': 'https://ci-swapi.herokuapp.com/api/species/4/'},\n",
       "  {'name': 'Hutt',\n",
       "   'classification': 'gastropod',\n",
       "   'designation': 'sentient',\n",
       "   'average_height': '300',\n",
       "   'skin_colors': 'green, brown, tan',\n",
       "   'hair_colors': 'n/a',\n",
       "   'eye_colors': 'yellow, red',\n",
       "   'average_lifespan': '1000',\n",
       "   'homeworld': 'https://ci-swapi.herokuapp.com/api/planets/24/',\n",
       "   'language': 'Huttese',\n",
       "   'people': ['https://ci-swapi.herokuapp.com/api/people/16/'],\n",
       "   'films': ['https://ci-swapi.herokuapp.com/api/films/1/',\n",
       "    'https://ci-swapi.herokuapp.com/api/films/3/'],\n",
       "   'created': '2014-12-10T17:12:50.410000Z',\n",
       "   'edited': '2014-12-20T21:36:42.146000Z',\n",
       "   'url': 'https://ci-swapi.herokuapp.com/api/species/5/'},\n",
       "  {'name': \"Yoda's species\",\n",
       "   'classification': 'mammal',\n",
       "   'designation': 'sentient',\n",
       "   'average_height': '66',\n",
       "   'skin_colors': 'green, yellow',\n",
       "   'hair_colors': 'brown, white',\n",
       "   'eye_colors': 'brown, green, yellow',\n",
       "   'average_lifespan': '900',\n",
       "   'homeworld': 'https://ci-swapi.herokuapp.com/api/planets/28/',\n",
       "   'language': 'Galactic basic',\n",
       "   'people': ['https://ci-swapi.herokuapp.com/api/people/20/'],\n",
       "   'films': ['https://ci-swapi.herokuapp.com/api/films/2/',\n",
       "    'https://ci-swapi.herokuapp.com/api/films/3/',\n",
       "    'https://ci-swapi.herokuapp.com/api/films/4/',\n",
       "    'https://ci-swapi.herokuapp.com/api/films/5/',\n",
       "    'https://ci-swapi.herokuapp.com/api/films/6/'],\n",
       "   'created': '2014-12-15T12:27:22.877000Z',\n",
       "   'edited': '2014-12-20T21:36:42.148000Z',\n",
       "   'url': 'https://ci-swapi.herokuapp.com/api/species/6/'},\n",
       "  {'name': 'Trandoshan',\n",
       "   'classification': 'reptile',\n",
       "   'designation': 'sentient',\n",
       "   'average_height': '200',\n",
       "   'skin_colors': 'brown, green',\n",
       "   'hair_colors': 'none',\n",
       "   'eye_colors': 'yellow, orange',\n",
       "   'average_lifespan': 'unknown',\n",
       "   'homeworld': 'https://ci-swapi.herokuapp.com/api/planets/29/',\n",
       "   'language': 'Dosh',\n",
       "   'people': ['https://ci-swapi.herokuapp.com/api/people/24/'],\n",
       "   'films': ['https://ci-swapi.herokuapp.com/api/films/2/'],\n",
       "   'created': '2014-12-15T13:07:47.704000Z',\n",
       "   'edited': '2014-12-20T21:36:42.151000Z',\n",
       "   'url': 'https://ci-swapi.herokuapp.com/api/species/7/'},\n",
       "  {'name': 'Mon Calamari',\n",
       "   'classification': 'amphibian',\n",
       "   'designation': 'sentient',\n",
       "   'average_height': '160',\n",
       "   'skin_colors': 'red, blue, brown, magenta',\n",
       "   'hair_colors': 'none',\n",
       "   'eye_colors': 'yellow',\n",
       "   'average_lifespan': 'unknown',\n",
       "   'homeworld': 'https://ci-swapi.herokuapp.com/api/planets/31/',\n",
       "   'language': 'Mon Calamarian',\n",
       "   'people': ['https://ci-swapi.herokuapp.com/api/people/27/'],\n",
       "   'films': ['https://ci-swapi.herokuapp.com/api/films/3/'],\n",
       "   'created': '2014-12-18T11:09:52.263000Z',\n",
       "   'edited': '2014-12-20T21:36:42.153000Z',\n",
       "   'url': 'https://ci-swapi.herokuapp.com/api/species/8/'},\n",
       "  {'name': 'Ewok',\n",
       "   'classification': 'mammal',\n",
       "   'designation': 'sentient',\n",
       "   'average_height': '100',\n",
       "   'skin_colors': 'brown',\n",
       "   'hair_colors': 'white, brown, black',\n",
       "   'eye_colors': 'orange, brown',\n",
       "   'average_lifespan': 'unknown',\n",
       "   'homeworld': 'https://ci-swapi.herokuapp.com/api/planets/7/',\n",
       "   'language': 'Ewokese',\n",
       "   'people': ['https://ci-swapi.herokuapp.com/api/people/30/'],\n",
       "   'films': ['https://ci-swapi.herokuapp.com/api/films/3/'],\n",
       "   'created': '2014-12-18T11:22:00.285000Z',\n",
       "   'edited': '2014-12-20T21:36:42.155000Z',\n",
       "   'url': 'https://ci-swapi.herokuapp.com/api/species/9/'},\n",
       "  {'name': 'Sullustan',\n",
       "   'classification': 'mammal',\n",
       "   'designation': 'sentient',\n",
       "   'average_height': '180',\n",
       "   'skin_colors': 'pale',\n",
       "   'hair_colors': 'none',\n",
       "   'eye_colors': 'black',\n",
       "   'average_lifespan': 'unknown',\n",
       "   'homeworld': 'https://ci-swapi.herokuapp.com/api/planets/33/',\n",
       "   'language': 'Sullutese',\n",
       "   'people': ['https://ci-swapi.herokuapp.com/api/people/31/'],\n",
       "   'films': ['https://ci-swapi.herokuapp.com/api/films/3/'],\n",
       "   'created': '2014-12-18T11:26:20.103000Z',\n",
       "   'edited': '2014-12-20T21:36:42.157000Z',\n",
       "   'url': 'https://ci-swapi.herokuapp.com/api/species/10/'}]}"
      ]
     },
     "execution_count": 28,
     "metadata": {},
     "output_type": "execute_result"
    }
   ],
   "source": [
    "response"
   ]
  },
  {
   "cell_type": "code",
   "execution_count": 35,
   "id": "32cc5204",
   "metadata": {},
   "outputs": [
    {
     "data": {
      "text/plain": [
       "['https://ci-swapi.herokuapp.com/api/films/1/',\n",
       " 'https://ci-swapi.herokuapp.com/api/films/2/',\n",
       " 'https://ci-swapi.herokuapp.com/api/films/3/',\n",
       " 'https://ci-swapi.herokuapp.com/api/films/4/',\n",
       " 'https://ci-swapi.herokuapp.com/api/films/5/',\n",
       " 'https://ci-swapi.herokuapp.com/api/films/6/']"
      ]
     },
     "execution_count": 35,
     "metadata": {},
     "output_type": "execute_result"
    }
   ],
   "source": [
    "response[\"results\"] [0] [\"films\"]"
   ]
  },
  {
   "cell_type": "code",
   "execution_count": 37,
   "id": "79b86134",
   "metadata": {},
   "outputs": [
    {
     "data": {
      "text/plain": [
       "{'name': 'Human',\n",
       " 'classification': 'mammal',\n",
       " 'designation': 'sentient',\n",
       " 'average_height': '180',\n",
       " 'skin_colors': 'caucasian, black, asian, hispanic',\n",
       " 'hair_colors': 'blonde, brown, black, red',\n",
       " 'eye_colors': 'brown, blue, green, hazel, grey, amber',\n",
       " 'average_lifespan': '120',\n",
       " 'homeworld': 'https://ci-swapi.herokuapp.com/api/planets/9/',\n",
       " 'language': 'Galactic Basic',\n",
       " 'people': ['https://ci-swapi.herokuapp.com/api/people/66/',\n",
       "  'https://ci-swapi.herokuapp.com/api/people/67/',\n",
       "  'https://ci-swapi.herokuapp.com/api/people/68/',\n",
       "  'https://ci-swapi.herokuapp.com/api/people/74/'],\n",
       " 'films': ['https://ci-swapi.herokuapp.com/api/films/1/',\n",
       "  'https://ci-swapi.herokuapp.com/api/films/2/',\n",
       "  'https://ci-swapi.herokuapp.com/api/films/3/',\n",
       "  'https://ci-swapi.herokuapp.com/api/films/4/',\n",
       "  'https://ci-swapi.herokuapp.com/api/films/5/',\n",
       "  'https://ci-swapi.herokuapp.com/api/films/6/'],\n",
       " 'created': '2014-12-10T13:52:11.567000Z',\n",
       " 'edited': '2014-12-20T21:36:42.136000Z',\n",
       " 'url': 'https://ci-swapi.herokuapp.com/api/species/1/'}"
      ]
     },
     "execution_count": 37,
     "metadata": {},
     "output_type": "execute_result"
    }
   ],
   "source": [
    "response [\"results\"] [0]"
   ]
  },
  {
   "cell_type": "code",
   "execution_count": 43,
   "id": "70bd24cb",
   "metadata": {},
   "outputs": [
    {
     "data": {
      "text/plain": [
       "[['caucasian, black, asian, hispanic',\n",
       "  'blonde, brown, black, red',\n",
       "  'brown, blue, green, hazel, grey, amber'],\n",
       " ['n/a', 'n/a', 'n/a'],\n",
       " ['gray', 'black, brown', 'blue, green, yellow, brown, golden, red'],\n",
       " ['green, blue', 'n/a', 'black'],\n",
       " ['green, brown, tan', 'n/a', 'yellow, red'],\n",
       " ['green, yellow', 'brown, white', 'brown, green, yellow'],\n",
       " ['brown, green', 'none', 'yellow, orange'],\n",
       " ['red, blue, brown, magenta', 'none', 'yellow'],\n",
       " ['brown', 'white, brown, black', 'orange, brown'],\n",
       " ['pale', 'none', 'black']]"
      ]
     },
     "execution_count": 43,
     "metadata": {},
     "output_type": "execute_result"
    }
   ],
   "source": [
    "new_list = []\n",
    "for i in response[\"results\"]:\n",
    "    new_list.append([i [\"skin_colors\"],\n",
    "                    i[\"hair_colors\"],\n",
    "                      i[\"eye_colors\"]])\n",
    "    \n",
    "new_list"
   ]
  },
  {
   "cell_type": "code",
   "execution_count": 44,
   "id": "ef55a530",
   "metadata": {},
   "outputs": [
    {
     "data": {
      "text/plain": [
       "10"
      ]
     },
     "execution_count": 44,
     "metadata": {},
     "output_type": "execute_result"
    }
   ],
   "source": [
    "len(new_list)"
   ]
  },
  {
   "cell_type": "code",
   "execution_count": 45,
   "id": "a290e573",
   "metadata": {},
   "outputs": [
    {
     "data": {
      "text/plain": [
       "list"
      ]
     },
     "execution_count": 45,
     "metadata": {},
     "output_type": "execute_result"
    }
   ],
   "source": [
    "type(new_list)"
   ]
  },
  {
   "cell_type": "code",
   "execution_count": 46,
   "id": "5c455e14",
   "metadata": {},
   "outputs": [],
   "source": [
    "import pandas as pd"
   ]
  },
  {
   "cell_type": "code",
   "execution_count": 48,
   "id": "5ce7bd9a",
   "metadata": {},
   "outputs": [
    {
     "data": {
      "text/html": [
       "<div>\n",
       "<style scoped>\n",
       "    .dataframe tbody tr th:only-of-type {\n",
       "        vertical-align: middle;\n",
       "    }\n",
       "\n",
       "    .dataframe tbody tr th {\n",
       "        vertical-align: top;\n",
       "    }\n",
       "\n",
       "    .dataframe thead th {\n",
       "        text-align: right;\n",
       "    }\n",
       "</style>\n",
       "<table border=\"1\" class=\"dataframe\">\n",
       "  <thead>\n",
       "    <tr style=\"text-align: right;\">\n",
       "      <th></th>\n",
       "      <th>skin_colors</th>\n",
       "      <th>hair_colors</th>\n",
       "      <th>eye_colors</th>\n",
       "    </tr>\n",
       "  </thead>\n",
       "  <tbody>\n",
       "    <tr>\n",
       "      <th>0</th>\n",
       "      <td>caucasian, black, asian, hispanic</td>\n",
       "      <td>blonde, brown, black, red</td>\n",
       "      <td>brown, blue, green, hazel, grey, amber</td>\n",
       "    </tr>\n",
       "    <tr>\n",
       "      <th>1</th>\n",
       "      <td>n/a</td>\n",
       "      <td>n/a</td>\n",
       "      <td>n/a</td>\n",
       "    </tr>\n",
       "    <tr>\n",
       "      <th>2</th>\n",
       "      <td>gray</td>\n",
       "      <td>black, brown</td>\n",
       "      <td>blue, green, yellow, brown, golden, red</td>\n",
       "    </tr>\n",
       "    <tr>\n",
       "      <th>3</th>\n",
       "      <td>green, blue</td>\n",
       "      <td>n/a</td>\n",
       "      <td>black</td>\n",
       "    </tr>\n",
       "    <tr>\n",
       "      <th>4</th>\n",
       "      <td>green, brown, tan</td>\n",
       "      <td>n/a</td>\n",
       "      <td>yellow, red</td>\n",
       "    </tr>\n",
       "    <tr>\n",
       "      <th>5</th>\n",
       "      <td>green, yellow</td>\n",
       "      <td>brown, white</td>\n",
       "      <td>brown, green, yellow</td>\n",
       "    </tr>\n",
       "    <tr>\n",
       "      <th>6</th>\n",
       "      <td>brown, green</td>\n",
       "      <td>none</td>\n",
       "      <td>yellow, orange</td>\n",
       "    </tr>\n",
       "    <tr>\n",
       "      <th>7</th>\n",
       "      <td>red, blue, brown, magenta</td>\n",
       "      <td>none</td>\n",
       "      <td>yellow</td>\n",
       "    </tr>\n",
       "    <tr>\n",
       "      <th>8</th>\n",
       "      <td>brown</td>\n",
       "      <td>white, brown, black</td>\n",
       "      <td>orange, brown</td>\n",
       "    </tr>\n",
       "    <tr>\n",
       "      <th>9</th>\n",
       "      <td>pale</td>\n",
       "      <td>none</td>\n",
       "      <td>black</td>\n",
       "    </tr>\n",
       "  </tbody>\n",
       "</table>\n",
       "</div>"
      ],
      "text/plain": [
       "                         skin_colors                hair_colors  \\\n",
       "0  caucasian, black, asian, hispanic  blonde, brown, black, red   \n",
       "1                                n/a                        n/a   \n",
       "2                               gray               black, brown   \n",
       "3                        green, blue                        n/a   \n",
       "4                  green, brown, tan                        n/a   \n",
       "5                      green, yellow               brown, white   \n",
       "6                       brown, green                       none   \n",
       "7          red, blue, brown, magenta                       none   \n",
       "8                              brown        white, brown, black   \n",
       "9                               pale                       none   \n",
       "\n",
       "                                eye_colors  \n",
       "0   brown, blue, green, hazel, grey, amber  \n",
       "1                                      n/a  \n",
       "2  blue, green, yellow, brown, golden, red  \n",
       "3                                    black  \n",
       "4                              yellow, red  \n",
       "5                     brown, green, yellow  \n",
       "6                           yellow, orange  \n",
       "7                                   yellow  \n",
       "8                            orange, brown  \n",
       "9                                    black  "
      ]
     },
     "execution_count": 48,
     "metadata": {},
     "output_type": "execute_result"
    }
   ],
   "source": [
    "columns = [\"skin_colors\", \"hair_colors\", \"eye_colors\"]\n",
    "df = pd.DataFrame(data = new_list, columns=columns)\n",
    "df"
   ]
  },
  {
   "cell_type": "code",
   "execution_count": 49,
   "id": "c1e3cec6",
   "metadata": {},
   "outputs": [
    {
     "data": {
      "text/plain": [
       "10"
      ]
     },
     "execution_count": 49,
     "metadata": {},
     "output_type": "execute_result"
    }
   ],
   "source": [
    "len(df)"
   ]
  },
  {
   "cell_type": "code",
   "execution_count": 51,
   "id": "85384278",
   "metadata": {},
   "outputs": [
    {
     "data": {
      "text/plain": [
       "Index(['skin_colors', 'hair_colors', 'eye_colors'], dtype='object')"
      ]
     },
     "execution_count": 51,
     "metadata": {},
     "output_type": "execute_result"
    }
   ],
   "source": [
    "df.keys()"
   ]
  },
  {
   "cell_type": "code",
   "execution_count": 56,
   "id": "f57be3b9",
   "metadata": {},
   "outputs": [
    {
     "data": {
      "text/plain": [
       "array([['caucasian, black, asian, hispanic', 'blonde, brown, black, red',\n",
       "        'brown, blue, green, hazel, grey, amber'],\n",
       "       ['n/a', 'n/a', 'n/a'],\n",
       "       ['gray', 'black, brown',\n",
       "        'blue, green, yellow, brown, golden, red'],\n",
       "       ['green, blue', 'n/a', 'black'],\n",
       "       ['green, brown, tan', 'n/a', 'yellow, red'],\n",
       "       ['green, yellow', 'brown, white', 'brown, green, yellow'],\n",
       "       ['brown, green', 'none', 'yellow, orange'],\n",
       "       ['red, blue, brown, magenta', 'none', 'yellow'],\n",
       "       ['brown', 'white, brown, black', 'orange, brown'],\n",
       "       ['pale', 'none', 'black']], dtype=object)"
      ]
     },
     "execution_count": 56,
     "metadata": {},
     "output_type": "execute_result"
    }
   ],
   "source": [
    "df.values"
   ]
  }
 ],
 "metadata": {
  "kernelspec": {
   "display_name": ".venv",
   "language": "python",
   "name": "python3"
  },
  "language_info": {
   "codemirror_mode": {
    "name": "ipython",
    "version": 3
   },
   "file_extension": ".py",
   "mimetype": "text/x-python",
   "name": "python",
   "nbconvert_exporter": "python",
   "pygments_lexer": "ipython3",
   "version": "3.12.8"
  }
 },
 "nbformat": 4,
 "nbformat_minor": 5
}
