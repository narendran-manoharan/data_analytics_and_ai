{
 "cells": [
  {
   "cell_type": "code",
   "execution_count": 1,
   "id": "4a72fe24",
   "metadata": {},
   "outputs": [],
   "source": [
    "import numpy as np"
   ]
  },
  {
   "cell_type": "code",
   "execution_count": 8,
   "id": "75f4ef34",
   "metadata": {},
   "outputs": [
    {
     "data": {
      "text/plain": [
       "array([[9],\n",
       "       [6],\n",
       "       [5],\n",
       "       [4]], dtype=int32)"
      ]
     },
     "execution_count": 8,
     "metadata": {},
     "output_type": "execute_result"
    }
   ],
   "source": [
    "arr = np.random.randint(0, 10,(2, 2))\n",
    "arr\n",
    "arr_2 = arr.reshape(4, 1)\n",
    "arr_2"
   ]
  },
  {
   "cell_type": "code",
   "execution_count": 14,
   "id": "4778af98",
   "metadata": {},
   "outputs": [
    {
     "data": {
      "text/plain": [
       "array([[[5, 8, 9],\n",
       "        [5, 0, 0],\n",
       "        [1, 7, 6],\n",
       "        [9, 2, 4],\n",
       "        [5, 2, 4]],\n",
       "\n",
       "       [[2, 4, 7],\n",
       "        [7, 9, 1],\n",
       "        [7, 0, 6],\n",
       "        [9, 9, 7],\n",
       "        [6, 9, 1]]], dtype=int32)"
      ]
     },
     "execution_count": 14,
     "metadata": {},
     "output_type": "execute_result"
    }
   ],
   "source": [
    "np.random.seed(seed=1)\n",
    "arr = np.random.randint(0, 10, (2,5,3))\n",
    "arr"
   ]
  },
  {
   "cell_type": "code",
   "execution_count": 16,
   "id": "099ce107",
   "metadata": {},
   "outputs": [
    {
     "name": "stdout",
     "output_type": "stream",
     "text": [
      "array: \n",
      " [0 1 2 3 4 5 6 7 8] \n",
      "\n",
      "array shape: (9,)\n"
     ]
    }
   ],
   "source": [
    "arr = np.arange(0, 9, 1)\n",
    "print(f\"array: \\n {arr} \\n\\n\"\n",
    "      f\"array shape: {arr.shape}\")\n"
   ]
  },
  {
   "cell_type": "code",
   "execution_count": 24,
   "id": "3e2ca2db",
   "metadata": {},
   "outputs": [
    {
     "name": "stdout",
     "output_type": "stream",
     "text": [
      "array: \n",
      " [[0]\n",
      " [1]\n",
      " [2]\n",
      " [3]\n",
      " [4]\n",
      " [5]\n",
      " [6]\n",
      " [7]\n",
      " [8]] \n",
      "\n",
      "array shape: (9, 1)\n"
     ]
    }
   ],
   "source": [
    "arr_reshape = arr.reshape(-1, 1)\n",
    "print(f\"array: \\n {arr_reshape} \\n\\n\"\n",
    "      f\"array shape: {arr_reshape.shape}\")"
   ]
  },
  {
   "cell_type": "code",
   "execution_count": 31,
   "id": "d0a9245a",
   "metadata": {},
   "outputs": [
    {
     "name": "stdout",
     "output_type": "stream",
     "text": [
      "[[0 1 2]\n",
      " [3 4 5]] \n",
      "\n",
      " contains the array shape: (2, 3)\n"
     ]
    }
   ],
   "source": [
    "my_list = [0, 1, 2, 3, 4, 5]\n",
    "my_list = np.array(my_list)\n",
    "my_list = my_list.reshape(-3, 3)\n",
    "my_list\n",
    "print(f\"{my_list} \\n\\n contains the array shape: {my_list.shape}\")"
   ]
  },
  {
   "cell_type": "code",
   "execution_count": 33,
   "id": "44a410cf",
   "metadata": {},
   "outputs": [
    {
     "data": {
      "text/plain": [
       "array([[[148, 104],\n",
       "        [193, 123],\n",
       "        [156, 106]],\n",
       "\n",
       "       [[132, 160],\n",
       "        [189, 195],\n",
       "        [121, 162]],\n",
       "\n",
       "       [[ 95, 144],\n",
       "        [148, 105],\n",
       "        [191, 178]]], dtype=int32)"
      ]
     },
     "execution_count": 33,
     "metadata": {},
     "output_type": "execute_result"
    }
   ],
   "source": [
    "arr = np.random.randint(80, 200, (3, 3, 2))\n",
    "arr\n"
   ]
  },
  {
   "cell_type": "code",
   "execution_count": 41,
   "id": "e6acb471",
   "metadata": {},
   "outputs": [
    {
     "data": {
      "text/plain": [
       "array([[148],\n",
       "       [104],\n",
       "       [193],\n",
       "       [123],\n",
       "       [156],\n",
       "       [106],\n",
       "       [132],\n",
       "       [160],\n",
       "       [189],\n",
       "       [195],\n",
       "       [121],\n",
       "       [162],\n",
       "       [ 95],\n",
       "       [144],\n",
       "       [148],\n",
       "       [105],\n",
       "       [191],\n",
       "       [178]], dtype=int32)"
      ]
     },
     "execution_count": 41,
     "metadata": {},
     "output_type": "execute_result"
    }
   ],
   "source": [
    "arr = arr.reshape(-1, 1)\n",
    "arr"
   ]
  },
  {
   "cell_type": "code",
   "execution_count": 45,
   "id": "1c99b14c",
   "metadata": {},
   "outputs": [
    {
     "data": {
      "text/plain": [
       "array([[[37, 12, 72,  9],\n",
       "        [75,  5, 79, 64],\n",
       "        [16,  1, 76, 71]],\n",
       "\n",
       "       [[ 6, 25, 50, 20],\n",
       "        [18, 84, 11, 28],\n",
       "        [29, 14, 50, 68]]], dtype=int32)"
      ]
     },
     "execution_count": 45,
     "metadata": {},
     "output_type": "execute_result"
    }
   ],
   "source": [
    "np.random.seed(seed=1)\n",
    "arr = np.random.randint(0, 100, (2, 3, 4))\n",
    "arr"
   ]
  },
  {
   "cell_type": "code",
   "execution_count": 52,
   "id": "be8437b6",
   "metadata": {},
   "outputs": [
    {
     "data": {
      "text/plain": [
       "array([37, 12, 72,  9, 75,  5, 79, 64, 16,  1, 76, 71,  6, 25, 50, 20, 18,\n",
       "       84, 11, 28, 29, 14, 50, 68], dtype=int32)"
      ]
     },
     "execution_count": 52,
     "metadata": {},
     "output_type": "execute_result"
    }
   ],
   "source": [
    "task = arr.reshape(-1)\n",
    "task"
   ]
  },
  {
   "cell_type": "code",
   "execution_count": 50,
   "id": "cc91e514",
   "metadata": {},
   "outputs": [
    {
     "data": {
      "text/plain": [
       "array([37, 12, 72,  9, 75,  5, 79, 64, 16,  1, 76, 71,  6, 25, 50, 20, 18,\n",
       "       84, 11, 28, 29, 14, 50, 68], dtype=int32)"
      ]
     },
     "execution_count": 50,
     "metadata": {},
     "output_type": "execute_result"
    }
   ],
   "source": [
    "task = arr.flatten()\n",
    "task\n"
   ]
  },
  {
   "cell_type": "code",
   "execution_count": 51,
   "id": "bbb1f37c",
   "metadata": {},
   "outputs": [
    {
     "data": {
      "text/plain": [
       "(24,)"
      ]
     },
     "execution_count": 51,
     "metadata": {},
     "output_type": "execute_result"
    }
   ],
   "source": [
    "task.shape"
   ]
  },
  {
   "cell_type": "code",
   "execution_count": 58,
   "id": "45c4a5a6",
   "metadata": {},
   "outputs": [
    {
     "data": {
      "text/plain": [
       "np.int32(1)"
      ]
     },
     "execution_count": 58,
     "metadata": {},
     "output_type": "execute_result"
    }
   ],
   "source": [
    "task.min()\n"
   ]
  },
  {
   "cell_type": "code",
   "execution_count": 57,
   "id": "fbc46a50",
   "metadata": {},
   "outputs": [
    {
     "data": {
      "text/plain": [
       "np.int32(84)"
      ]
     },
     "execution_count": 57,
     "metadata": {},
     "output_type": "execute_result"
    }
   ],
   "source": [
    "task.max()"
   ]
  },
  {
   "cell_type": "code",
   "execution_count": 60,
   "id": "c6941b03",
   "metadata": {},
   "outputs": [
    {
     "data": {
      "text/plain": [
       "np.int64(9)"
      ]
     },
     "execution_count": 60,
     "metadata": {},
     "output_type": "execute_result"
    }
   ],
   "source": [
    "task.argmin()"
   ]
  },
  {
   "cell_type": "code",
   "execution_count": 62,
   "id": "4ec0e97d",
   "metadata": {},
   "outputs": [
    {
     "data": {
      "text/plain": [
       "np.int64(17)"
      ]
     },
     "execution_count": 62,
     "metadata": {},
     "output_type": "execute_result"
    }
   ],
   "source": [
    "task.argmax()"
   ]
  },
  {
   "cell_type": "code",
   "execution_count": 67,
   "id": "b45b873a",
   "metadata": {},
   "outputs": [
    {
     "data": {
      "text/plain": [
       "np.int64(9)"
      ]
     },
     "execution_count": 67,
     "metadata": {},
     "output_type": "execute_result"
    }
   ],
   "source": [
    "task.argmin(axis=0)"
   ]
  },
  {
   "cell_type": "code",
   "execution_count": 74,
   "id": "79c4386d",
   "metadata": {},
   "outputs": [
    {
     "data": {
      "text/plain": [
       "array([[ 0,  5, 10, 15, 20],\n",
       "       [25, 30, 35, 40, 45]])"
      ]
     },
     "execution_count": 74,
     "metadata": {},
     "output_type": "execute_result"
    }
   ],
   "source": [
    "arr = np.arange(0, 50, 5).reshape(2, 5)\n",
    "arr"
   ]
  },
  {
   "cell_type": "code",
   "execution_count": 76,
   "id": "49071402",
   "metadata": {},
   "outputs": [
    {
     "data": {
      "text/plain": [
       "array([0, 0, 0, 0, 0])"
      ]
     },
     "execution_count": 76,
     "metadata": {},
     "output_type": "execute_result"
    }
   ],
   "source": [
    "arr.argmin(axis=0)"
   ]
  }
 ],
 "metadata": {
  "kernelspec": {
   "display_name": ".venv",
   "language": "python",
   "name": "python3"
  },
  "language_info": {
   "codemirror_mode": {
    "name": "ipython",
    "version": 3
   },
   "file_extension": ".py",
   "mimetype": "text/x-python",
   "name": "python",
   "nbconvert_exporter": "python",
   "pygments_lexer": "ipython3",
   "version": "3.12.8"
  }
 },
 "nbformat": 4,
 "nbformat_minor": 5
}
