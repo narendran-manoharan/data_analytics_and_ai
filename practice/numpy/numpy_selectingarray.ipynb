{
 "cells": [
  {
   "cell_type": "code",
   "execution_count": 2,
   "id": "d863961e",
   "metadata": {},
   "outputs": [],
   "source": [
    "import numpy as np"
   ]
  },
  {
   "cell_type": "code",
   "execution_count": 3,
   "id": "a44a910a",
   "metadata": {},
   "outputs": [
    {
     "data": {
      "text/plain": [
       "array([[ 1,  4,  4],\n",
       "       [40, 10, 20],\n",
       "       [22, 37, 24]], dtype=int32)"
      ]
     },
     "execution_count": 4,
     "metadata": {},
     "output_type": "execute_result"
    }
   ],
   "source": [
    "np.random.seed(seed = 0)\n",
    "arr = np.random.randint(1, 45,(3, 3))\n",
    "arr"
   ]
  },
  {
   "cell_type": "code",
   "execution_count": 7,
   "id": "5aefa188",
   "metadata": {},
   "outputs": [
    {
     "data": {
      "text/plain": [
       "array([40, 10, 20, 22, 37, 24], dtype=int32)"
      ]
     },
     "execution_count": 7,
     "metadata": {},
     "output_type": "execute_result"
    }
   ],
   "source": [
    "arr[arr>=10]"
   ]
  },
  {
   "cell_type": "code",
   "execution_count": 9,
   "id": "c3496ba4",
   "metadata": {},
   "outputs": [
    {
     "data": {
      "text/plain": [
       "array([[False, False, False],\n",
       "       [ True,  True,  True],\n",
       "       [ True,  True,  True]])"
      ]
     },
     "execution_count": 9,
     "metadata": {},
     "output_type": "execute_result"
    }
   ],
   "source": [
    "arr>=10"
   ]
  },
  {
   "cell_type": "code",
   "execution_count": 18,
   "id": "d7578538",
   "metadata": {},
   "outputs": [
    {
     "data": {
      "text/plain": [
       "array([ 4,  4, 10, 20, 22, 37, 24], dtype=int32)"
      ]
     },
     "execution_count": 18,
     "metadata": {},
     "output_type": "execute_result"
    }
   ],
   "source": [
    "arr[(arr>2) & (arr<40)]"
   ]
  },
  {
   "cell_type": "code",
   "execution_count": 19,
   "id": "970e117e",
   "metadata": {},
   "outputs": [
    {
     "data": {
      "text/plain": [
       "array([ 4,  4, 40, 10, 20, 22, 37, 24], dtype=int32)"
      ]
     },
     "execution_count": 19,
     "metadata": {},
     "output_type": "execute_result"
    }
   ],
   "source": [
    "arr[((arr>=25)|(arr % 2 == 0) | (arr == 0))]"
   ]
  },
  {
   "cell_type": "markdown",
   "id": "a0d8570f",
   "metadata": {},
   "source": [
    "*Break"
   ]
  },
  {
   "cell_type": "code",
   "execution_count": 2,
   "id": "db169f2d",
   "metadata": {},
   "outputs": [],
   "source": [
    "import numpy as np"
   ]
  },
  {
   "cell_type": "code",
   "execution_count": 4,
   "id": "c6ec0f0c",
   "metadata": {},
   "outputs": [
    {
     "data": {
      "text/plain": [
       "array([[[37, 43, 12],\n",
       "        [ 8,  9, 11],\n",
       "        [ 5, 15,  0]],\n",
       "\n",
       "       [[16,  1, 12],\n",
       "        [ 7, 45,  6],\n",
       "        [25, 20, 37]]], dtype=int32)"
      ]
     },
     "execution_count": 4,
     "metadata": {},
     "output_type": "execute_result"
    }
   ],
   "source": [
    "np.random.seed(seed=1)\n",
    "arr = np.random.randint(0, 50, (2, 3, 3))\n",
    "arr"
   ]
  },
  {
   "cell_type": "code",
   "execution_count": 12,
   "id": "bcc09d0b",
   "metadata": {},
   "outputs": [
    {
     "data": {
      "text/plain": [
       "array([[[ 1],\n",
       "        [45],\n",
       "        [20]]], dtype=int32)"
      ]
     },
     "execution_count": 12,
     "metadata": {},
     "output_type": "execute_result"
    }
   ],
   "source": [
    "arr [1:, :3, 1:2 ]"
   ]
  },
  {
   "cell_type": "code",
   "execution_count": 25,
   "id": "358275bf",
   "metadata": {},
   "outputs": [
    {
     "data": {
      "text/plain": [
       "array([37, 43, 45, 37], dtype=int32)"
      ]
     },
     "execution_count": 25,
     "metadata": {},
     "output_type": "execute_result"
    }
   ],
   "source": [
    "arr [arr>30]"
   ]
  },
  {
   "cell_type": "code",
   "execution_count": 22,
   "id": "8650d2a2",
   "metadata": {},
   "outputs": [
    {
     "data": {
      "text/plain": [
       "array([43, 12,  9, 15,  0, 12, 45,  6], dtype=int32)"
      ]
     },
     "execution_count": 22,
     "metadata": {},
     "output_type": "execute_result"
    }
   ],
   "source": [
    "arr [((arr % 3 == 0) | (arr >=40) | (arr == 50)) ]"
   ]
  }
 ],
 "metadata": {
  "kernelspec": {
   "display_name": ".venv",
   "language": "python",
   "name": "python3"
  },
  "language_info": {
   "codemirror_mode": {
    "name": "ipython",
    "version": 3
   },
   "file_extension": ".py",
   "mimetype": "text/x-python",
   "name": "python",
   "nbconvert_exporter": "python",
   "pygments_lexer": "ipython3",
   "version": "3.12.8"
  }
 },
 "nbformat": 4,
 "nbformat_minor": 5
}
