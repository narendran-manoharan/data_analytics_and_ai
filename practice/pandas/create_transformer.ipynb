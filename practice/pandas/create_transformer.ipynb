{
 "cells": [
  {
   "cell_type": "code",
   "execution_count": 1,
   "id": "69fdfbc5",
   "metadata": {},
   "outputs": [],
   "source": [
    "import numpy as np\n",
    "import pandas as pd\n",
    "import seaborn as sns\n",
    "import matplotlib.pyplot as plt\n",
    "sns.set_style(\"whitegrid\")\n",
    "from sklearn.pipeline import Pipeline"
   ]
  },
  {
   "cell_type": "code",
   "execution_count": 2,
   "id": "7b790a4a",
   "metadata": {},
   "outputs": [],
   "source": [
    "from sklearn.base import BaseEstimator, TransformerMixin"
   ]
  },
  {
   "cell_type": "code",
   "execution_count": 3,
   "id": "8aa8cf05",
   "metadata": {},
   "outputs": [],
   "source": [
    "class MyCustomTransformerForMeanImputation(BaseEstimator, TransformerMixin):\n",
    "    def __init__(self, variables):\n",
    "        if not isintance(variables, list):\n",
    "            self.variables = [variables]\n",
    "        else: self.variables = variables\n",
    "\n",
    "#write the code that explains the action you want to perform\n",
    "    def fit(self, X, y= None):\n",
    "        self.imputer_dict_ = {} #We want to keep the mean value in a dictionary\n",
    "\n",
    "        for feature in self.variables:\n",
    "            self.imputer_dict_[feature] = X[feature].mean()\n",
    "        return self\n",
    "\n",
    "    #then transform the variable\n",
    "    def transform(self, X):\n",
    "        for feature in self.variables:\n",
    "            X[feature].fillna(self.imputer_dict_[feature], inplace= True)\n",
    "\n",
    "            return X"
   ]
  },
  {
   "cell_type": "code",
   "execution_count": null,
   "id": "a17951cd",
   "metadata": {},
   "outputs": [],
   "source": [
    "for feature in variables:\n",
    "    if X [feature].dtypes == \"object\":\n",
    "       X [feature] = X [feature].apply(lambda X: X.upper())"
   ]
  }
 ],
 "metadata": {
  "kernelspec": {
   "display_name": ".venv",
   "language": "python",
   "name": "python3"
  },
  "language_info": {
   "codemirror_mode": {
    "name": "ipython",
    "version": 3
   },
   "file_extension": ".py",
   "mimetype": "text/x-python",
   "name": "python",
   "nbconvert_exporter": "python",
   "pygments_lexer": "ipython3",
   "version": "3.12.8"
  }
 },
 "nbformat": 4,
 "nbformat_minor": 5
}
