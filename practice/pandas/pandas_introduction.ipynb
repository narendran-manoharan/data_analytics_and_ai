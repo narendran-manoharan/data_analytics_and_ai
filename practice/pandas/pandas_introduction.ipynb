{
 "cells": [
  {
   "cell_type": "code",
   "execution_count": 2,
   "id": "ea7de70d",
   "metadata": {},
   "outputs": [],
   "source": [
    "import numpy as np\n",
    "import pandas as pd"
   ]
  },
  {
   "cell_type": "code",
   "execution_count": 5,
   "id": "1bfd3f32",
   "metadata": {},
   "outputs": [
    {
     "data": {
      "text/plain": [
       "[1, 2, 3, 4]"
      ]
     },
     "execution_count": 5,
     "metadata": {},
     "output_type": "execute_result"
    }
   ],
   "source": [
    "categories = [1, 2, 3, 4]\n",
    "categories"
   ]
  },
  {
   "cell_type": "code",
   "execution_count": 6,
   "id": "ead759ce",
   "metadata": {},
   "outputs": [
    {
     "data": {
      "text/plain": [
       "['wake up', 'brush', 'walk', 'shower']"
      ]
     },
     "execution_count": 6,
     "metadata": {},
     "output_type": "execute_result"
    }
   ],
   "source": [
    "my_list = [\"wake up\", \"brush\", \"walk\", \"shower\"]\n",
    "my_list"
   ]
  },
  {
   "cell_type": "code",
   "execution_count": 15,
   "id": "3dbf0d4d",
   "metadata": {},
   "outputs": [
    {
     "data": {
      "text/plain": [
       "{'name': 'milo', 'breed': 'DSH', 'age': 5}"
      ]
     },
     "execution_count": 15,
     "metadata": {},
     "output_type": "execute_result"
    }
   ],
   "source": [
    "my_dict={\"name\": \"milo\",\n",
    "         \"breed\": \"DSH\",\n",
    "         \"age\": 5\n",
    "\n",
    "}\n",
    "my_dict"
   ]
  },
  {
   "cell_type": "code",
   "execution_count": 10,
   "id": "4db93181",
   "metadata": {},
   "outputs": [
    {
     "data": {
      "text/plain": [
       "0    wake up\n",
       "1      brush\n",
       "2       walk\n",
       "3     shower\n",
       "dtype: object"
      ]
     },
     "execution_count": 10,
     "metadata": {},
     "output_type": "execute_result"
    }
   ],
   "source": [
    "pd.Series(data=my_list)"
   ]
  },
  {
   "cell_type": "code",
   "execution_count": 12,
   "id": "f236e337",
   "metadata": {},
   "outputs": [
    {
     "data": {
      "text/plain": [
       "array([100,  99,  98,  97])"
      ]
     },
     "execution_count": 12,
     "metadata": {},
     "output_type": "execute_result"
    }
   ],
   "source": [
    "arr = np.array([100, 99, 98, 97])\n",
    "arr"
   ]
  },
  {
   "cell_type": "code",
   "execution_count": null,
   "id": "f734c17c",
   "metadata": {},
   "outputs": [],
   "source": [
    "arr_2 = pd.Series(data=arr, index=categories)\n",
    "arr_2"
   ]
  },
  {
   "cell_type": "code",
   "execution_count": 26,
   "id": "87bc0ae0",
   "metadata": {},
   "outputs": [
    {
     "data": {
      "text/plain": [
       "1    100\n",
       "2     99\n",
       "3     98\n",
       "4     97\n",
       "Name: trial, dtype: int64"
      ]
     },
     "execution_count": 26,
     "metadata": {},
     "output_type": "execute_result"
    }
   ],
   "source": [
    "arr_2 = pd.Series(data=arr, index=categories, name=\"trial\")\n",
    "arr_2"
   ]
  },
  {
   "cell_type": "code",
   "execution_count": 35,
   "id": "7b65ba9c",
   "metadata": {},
   "outputs": [
    {
     "data": {
      "text/plain": [
       "name     milo\n",
       "breed     DSH\n",
       "age         5\n",
       "dtype: object"
      ]
     },
     "execution_count": 35,
     "metadata": {},
     "output_type": "execute_result"
    }
   ],
   "source": [
    "t2= pd.Series(my_dict)\n",
    "t2"
   ]
  },
  {
   "cell_type": "code",
   "execution_count": 30,
   "id": "0a939fe9",
   "metadata": {},
   "outputs": [
    {
     "data": {
      "text/plain": [
       "pandas.core.series.Series"
      ]
     },
     "execution_count": 30,
     "metadata": {},
     "output_type": "execute_result"
    }
   ],
   "source": [
    "type(t2)"
   ]
  },
  {
   "cell_type": "markdown",
   "id": "48f4e1ac",
   "metadata": {},
   "source": [
    "## Creating dataframes"
   ]
  },
  {
   "cell_type": "code",
   "execution_count": 44,
   "id": "3817f01d",
   "metadata": {},
   "outputs": [
    {
     "data": {
      "text/html": [
       "<div>\n",
       "<style scoped>\n",
       "    .dataframe tbody tr th:only-of-type {\n",
       "        vertical-align: middle;\n",
       "    }\n",
       "\n",
       "    .dataframe tbody tr th {\n",
       "        vertical-align: top;\n",
       "    }\n",
       "\n",
       "    .dataframe thead th {\n",
       "        text-align: right;\n",
       "    }\n",
       "</style>\n",
       "<table border=\"1\" class=\"dataframe\">\n",
       "  <thead>\n",
       "    <tr style=\"text-align: right;\">\n",
       "      <th></th>\n",
       "      <th>product UID</th>\n",
       "      <th>quantity</th>\n",
       "      <th>sold to</th>\n",
       "    </tr>\n",
       "  </thead>\n",
       "  <tbody>\n",
       "    <tr>\n",
       "      <th>1</th>\n",
       "      <td>117</td>\n",
       "      <td>315</td>\n",
       "      <td>152</td>\n",
       "    </tr>\n",
       "    <tr>\n",
       "      <th>2</th>\n",
       "      <td>847</td>\n",
       "      <td>795</td>\n",
       "      <td>725</td>\n",
       "    </tr>\n",
       "    <tr>\n",
       "      <th>3</th>\n",
       "      <td>224</td>\n",
       "      <td>209</td>\n",
       "      <td>663</td>\n",
       "    </tr>\n",
       "  </tbody>\n",
       "</table>\n",
       "</div>"
      ],
      "text/plain": [
       "   product UID  quantity  sold to\n",
       "1          117       315      152\n",
       "2          847       795      725\n",
       "3          224       209      663"
      ]
     },
     "execution_count": 44,
     "metadata": {},
     "output_type": "execute_result"
    }
   ],
   "source": [
    "np.random.seed(seed=1)\n",
    "df = pd.DataFrame(data=np.random.randint(80, 877, (3, 3)),\n",
    "                  index= [1, 2, 3],\n",
    "                    columns=[\"product UID\", \"quantity\", \"sold to\"]\n",
    "                          )\n",
    "df"
   ]
  },
  {
   "cell_type": "markdown",
   "id": "06155d61",
   "metadata": {},
   "source": [
    "- check yourself, and parse dict1 as the data argument in the function pd.DataFrame().\n",
    "\n",
    "Your output content should look like"
   ]
  },
  {
   "cell_type": "code",
   "execution_count": 49,
   "id": "0ef68587",
   "metadata": {},
   "outputs": [
    {
     "data": {
      "text/html": [
       "<div>\n",
       "<style scoped>\n",
       "    .dataframe tbody tr th:only-of-type {\n",
       "        vertical-align: middle;\n",
       "    }\n",
       "\n",
       "    .dataframe tbody tr th {\n",
       "        vertical-align: top;\n",
       "    }\n",
       "\n",
       "    .dataframe thead th {\n",
       "        text-align: right;\n",
       "    }\n",
       "</style>\n",
       "<table border=\"1\" class=\"dataframe\">\n",
       "  <thead>\n",
       "    <tr style=\"text-align: right;\">\n",
       "      <th></th>\n",
       "      <th>Item1</th>\n",
       "      <th>Item2</th>\n",
       "      <th>Item3</th>\n",
       "    </tr>\n",
       "  </thead>\n",
       "  <tbody>\n",
       "    <tr>\n",
       "      <th>0</th>\n",
       "      <td>45</td>\n",
       "      <td>89</td>\n",
       "      <td>6</td>\n",
       "    </tr>\n",
       "    <tr>\n",
       "      <th>1</th>\n",
       "      <td>36</td>\n",
       "      <td>45</td>\n",
       "      <td>4</td>\n",
       "    </tr>\n",
       "    <tr>\n",
       "      <th>2</th>\n",
       "      <td>27</td>\n",
       "      <td>66</td>\n",
       "      <td>8</td>\n",
       "    </tr>\n",
       "    <tr>\n",
       "      <th>3</th>\n",
       "      <td>18</td>\n",
       "      <td>32</td>\n",
       "      <td>9</td>\n",
       "    </tr>\n",
       "    <tr>\n",
       "      <th>4</th>\n",
       "      <td>9</td>\n",
       "      <td>8</td>\n",
       "      <td>0</td>\n",
       "    </tr>\n",
       "  </tbody>\n",
       "</table>\n",
       "</div>"
      ],
      "text/plain": [
       "   Item1  Item2  Item3\n",
       "0     45     89      6\n",
       "1     36     45      4\n",
       "2     27     66      8\n",
       "3     18     32      9\n",
       "4      9      8      0"
      ]
     },
     "execution_count": 49,
     "metadata": {},
     "output_type": "execute_result"
    }
   ],
   "source": [
    "sec_dict = {\"Item1\": [45, 36, 27, 18, 9], \"Item2\": [89, 45, 66, 32, 8], \"Item3\": [6, 4, 8, 9, 0]}\n",
    "df = pd.DataFrame(sec_dict)\n",
    "df\n"
   ]
  },
  {
   "cell_type": "markdown",
   "id": "8ca2f62c",
   "metadata": {},
   "source": [
    "- The DataFrame below has 10 rows and 40 columns and is made with NumPy array"
   ]
  },
  {
   "cell_type": "code",
   "execution_count": 57,
   "id": "678ed02d",
   "metadata": {},
   "outputs": [
    {
     "name": "stdout",
     "output_type": "stream",
     "text": [
      "         0         1         2         3         4         5         6   \\\n",
      "0  1.624345 -0.611756 -0.528172 -1.072969  0.865408 -2.301539  1.744812   \n",
      "1 -0.191836 -0.887629 -0.747158  1.692455  0.050808 -0.636996  0.190915   \n",
      "2 -0.222328 -0.200758  0.186561  0.410052  0.198300  0.119009 -0.670662   \n",
      "3 -0.024617 -0.775162  1.273756  1.967102 -1.857982  1.236164  1.627651   \n",
      "4 -0.517094 -0.997027  0.248799 -0.296641  0.495211 -0.174703  0.986335   \n",
      "5 -0.400878  0.824006 -0.562305  1.954878 -1.331952 -1.760689 -1.650721   \n",
      "6 -0.498214 -0.310985 -0.001891 -1.396620 -0.861316  0.674712  0.618539   \n",
      "7 -0.781912 -0.437509  0.095425  0.921450  0.060750  0.211125  0.016528   \n",
      "8 -0.135977 -0.797270  0.282676 -0.826097  0.621083  0.956122 -0.705841   \n",
      "9 -0.557495  0.939169 -1.943323  0.352494 -0.236437  0.727813  0.515074   \n",
      "\n",
      "         7         8         9   ...        30        31        32        33  \\\n",
      "0 -0.761207  0.319039 -0.249370  ... -0.691661 -0.396754 -0.687173 -0.845206   \n",
      "1  2.100255  0.120159  0.617203  ... -1.444114 -0.504466  0.160037  0.876169   \n",
      "2  0.377564  0.121821  1.129484  ... -1.373117  0.315159  0.846161 -0.859516   \n",
      "3  0.338012 -1.199268  0.863345  ... -0.310117 -2.434838  1.038825  2.186980   \n",
      "4  0.213534  2.190700 -1.896361  ...  1.160339  0.369493  1.904659  1.111057   \n",
      "5 -0.890556 -1.119115  1.956079  ...  0.242669  0.201830  0.661020  1.792158   \n",
      "6 -0.443172  1.810535 -1.305727  ...  0.836005  1.543359  0.758806  0.884909   \n",
      "7  0.177188 -1.116470  0.080927  ...  1.123412  0.305267  1.388779 -0.661344   \n",
      "8  1.192686 -0.237942  1.155288  ...  1.010127  0.920018 -0.195057  0.805393   \n",
      "9 -2.782534  0.584647  0.324274  ... -1.426555  1.767960 -0.475373  0.477610   \n",
      "\n",
      "         34        35        36        37        38        39  \n",
      "0 -0.671246 -0.012665 -1.117310  0.234416  1.659802  0.742044  \n",
      "1  0.315635 -2.022201 -0.306204  0.827975  0.230095  0.762011  \n",
      "2  0.350546 -1.312283 -0.038696 -1.615772  1.121418  0.408901  \n",
      "3  0.441364 -0.100155 -0.136445 -0.119054  0.017409 -1.122019  \n",
      "4  0.659050 -1.627438  0.602319  0.420282  0.810952  1.044442  \n",
      "5 -0.120465 -1.233121 -1.182318 -0.665755 -1.674196  0.825030  \n",
      "6 -0.877282 -0.867787 -1.440876  1.232253 -0.254180  1.399844  \n",
      "7  3.030857  0.824585  0.654580 -0.051188 -0.725597 -0.867769  \n",
      "8 -0.701344 -0.537223  0.156264 -0.190221 -0.448738 -0.672448  \n",
      "9 -1.021886  0.794528 -1.873161  0.920615 -0.035368  2.110605  \n",
      "\n",
      "[10 rows x 40 columns]\n"
     ]
    }
   ],
   "source": [
    "np.random.seed(seed=1)\n",
    "df = pd.DataFrame(data= np.random.randn(10, 40))\n",
    "print(df)"
   ]
  },
  {
   "cell_type": "code",
   "execution_count": 58,
   "id": "3e83f890",
   "metadata": {},
   "outputs": [
    {
     "data": {
      "text/html": [
       "<div>\n",
       "<style scoped>\n",
       "    .dataframe tbody tr th:only-of-type {\n",
       "        vertical-align: middle;\n",
       "    }\n",
       "\n",
       "    .dataframe tbody tr th {\n",
       "        vertical-align: top;\n",
       "    }\n",
       "\n",
       "    .dataframe thead th {\n",
       "        text-align: right;\n",
       "    }\n",
       "</style>\n",
       "<table border=\"1\" class=\"dataframe\">\n",
       "  <thead>\n",
       "    <tr style=\"text-align: right;\">\n",
       "      <th></th>\n",
       "      <th>0</th>\n",
       "      <th>1</th>\n",
       "      <th>2</th>\n",
       "      <th>3</th>\n",
       "      <th>4</th>\n",
       "      <th>5</th>\n",
       "      <th>6</th>\n",
       "      <th>7</th>\n",
       "      <th>8</th>\n",
       "      <th>9</th>\n",
       "      <th>...</th>\n",
       "      <th>30</th>\n",
       "      <th>31</th>\n",
       "      <th>32</th>\n",
       "      <th>33</th>\n",
       "      <th>34</th>\n",
       "      <th>35</th>\n",
       "      <th>36</th>\n",
       "      <th>37</th>\n",
       "      <th>38</th>\n",
       "      <th>39</th>\n",
       "    </tr>\n",
       "  </thead>\n",
       "  <tbody>\n",
       "    <tr>\n",
       "      <th>0</th>\n",
       "      <td>1.624345</td>\n",
       "      <td>-0.611756</td>\n",
       "      <td>-0.528172</td>\n",
       "      <td>-1.072969</td>\n",
       "      <td>0.865408</td>\n",
       "      <td>-2.301539</td>\n",
       "      <td>1.744812</td>\n",
       "      <td>-0.761207</td>\n",
       "      <td>0.319039</td>\n",
       "      <td>-0.249370</td>\n",
       "      <td>...</td>\n",
       "      <td>-0.691661</td>\n",
       "      <td>-0.396754</td>\n",
       "      <td>-0.687173</td>\n",
       "      <td>-0.845206</td>\n",
       "      <td>-0.671246</td>\n",
       "      <td>-0.012665</td>\n",
       "      <td>-1.117310</td>\n",
       "      <td>0.234416</td>\n",
       "      <td>1.659802</td>\n",
       "      <td>0.742044</td>\n",
       "    </tr>\n",
       "    <tr>\n",
       "      <th>1</th>\n",
       "      <td>-0.191836</td>\n",
       "      <td>-0.887629</td>\n",
       "      <td>-0.747158</td>\n",
       "      <td>1.692455</td>\n",
       "      <td>0.050808</td>\n",
       "      <td>-0.636996</td>\n",
       "      <td>0.190915</td>\n",
       "      <td>2.100255</td>\n",
       "      <td>0.120159</td>\n",
       "      <td>0.617203</td>\n",
       "      <td>...</td>\n",
       "      <td>-1.444114</td>\n",
       "      <td>-0.504466</td>\n",
       "      <td>0.160037</td>\n",
       "      <td>0.876169</td>\n",
       "      <td>0.315635</td>\n",
       "      <td>-2.022201</td>\n",
       "      <td>-0.306204</td>\n",
       "      <td>0.827975</td>\n",
       "      <td>0.230095</td>\n",
       "      <td>0.762011</td>\n",
       "    </tr>\n",
       "    <tr>\n",
       "      <th>2</th>\n",
       "      <td>-0.222328</td>\n",
       "      <td>-0.200758</td>\n",
       "      <td>0.186561</td>\n",
       "      <td>0.410052</td>\n",
       "      <td>0.198300</td>\n",
       "      <td>0.119009</td>\n",
       "      <td>-0.670662</td>\n",
       "      <td>0.377564</td>\n",
       "      <td>0.121821</td>\n",
       "      <td>1.129484</td>\n",
       "      <td>...</td>\n",
       "      <td>-1.373117</td>\n",
       "      <td>0.315159</td>\n",
       "      <td>0.846161</td>\n",
       "      <td>-0.859516</td>\n",
       "      <td>0.350546</td>\n",
       "      <td>-1.312283</td>\n",
       "      <td>-0.038696</td>\n",
       "      <td>-1.615772</td>\n",
       "      <td>1.121418</td>\n",
       "      <td>0.408901</td>\n",
       "    </tr>\n",
       "    <tr>\n",
       "      <th>3</th>\n",
       "      <td>-0.024617</td>\n",
       "      <td>-0.775162</td>\n",
       "      <td>1.273756</td>\n",
       "      <td>1.967102</td>\n",
       "      <td>-1.857982</td>\n",
       "      <td>1.236164</td>\n",
       "      <td>1.627651</td>\n",
       "      <td>0.338012</td>\n",
       "      <td>-1.199268</td>\n",
       "      <td>0.863345</td>\n",
       "      <td>...</td>\n",
       "      <td>-0.310117</td>\n",
       "      <td>-2.434838</td>\n",
       "      <td>1.038825</td>\n",
       "      <td>2.186980</td>\n",
       "      <td>0.441364</td>\n",
       "      <td>-0.100155</td>\n",
       "      <td>-0.136445</td>\n",
       "      <td>-0.119054</td>\n",
       "      <td>0.017409</td>\n",
       "      <td>-1.122019</td>\n",
       "    </tr>\n",
       "    <tr>\n",
       "      <th>4</th>\n",
       "      <td>-0.517094</td>\n",
       "      <td>-0.997027</td>\n",
       "      <td>0.248799</td>\n",
       "      <td>-0.296641</td>\n",
       "      <td>0.495211</td>\n",
       "      <td>-0.174703</td>\n",
       "      <td>0.986335</td>\n",
       "      <td>0.213534</td>\n",
       "      <td>2.190700</td>\n",
       "      <td>-1.896361</td>\n",
       "      <td>...</td>\n",
       "      <td>1.160339</td>\n",
       "      <td>0.369493</td>\n",
       "      <td>1.904659</td>\n",
       "      <td>1.111057</td>\n",
       "      <td>0.659050</td>\n",
       "      <td>-1.627438</td>\n",
       "      <td>0.602319</td>\n",
       "      <td>0.420282</td>\n",
       "      <td>0.810952</td>\n",
       "      <td>1.044442</td>\n",
       "    </tr>\n",
       "    <tr>\n",
       "      <th>5</th>\n",
       "      <td>-0.400878</td>\n",
       "      <td>0.824006</td>\n",
       "      <td>-0.562305</td>\n",
       "      <td>1.954878</td>\n",
       "      <td>-1.331952</td>\n",
       "      <td>-1.760689</td>\n",
       "      <td>-1.650721</td>\n",
       "      <td>-0.890556</td>\n",
       "      <td>-1.119115</td>\n",
       "      <td>1.956079</td>\n",
       "      <td>...</td>\n",
       "      <td>0.242669</td>\n",
       "      <td>0.201830</td>\n",
       "      <td>0.661020</td>\n",
       "      <td>1.792158</td>\n",
       "      <td>-0.120465</td>\n",
       "      <td>-1.233121</td>\n",
       "      <td>-1.182318</td>\n",
       "      <td>-0.665755</td>\n",
       "      <td>-1.674196</td>\n",
       "      <td>0.825030</td>\n",
       "    </tr>\n",
       "    <tr>\n",
       "      <th>6</th>\n",
       "      <td>-0.498214</td>\n",
       "      <td>-0.310985</td>\n",
       "      <td>-0.001891</td>\n",
       "      <td>-1.396620</td>\n",
       "      <td>-0.861316</td>\n",
       "      <td>0.674712</td>\n",
       "      <td>0.618539</td>\n",
       "      <td>-0.443172</td>\n",
       "      <td>1.810535</td>\n",
       "      <td>-1.305727</td>\n",
       "      <td>...</td>\n",
       "      <td>0.836005</td>\n",
       "      <td>1.543359</td>\n",
       "      <td>0.758806</td>\n",
       "      <td>0.884909</td>\n",
       "      <td>-0.877282</td>\n",
       "      <td>-0.867787</td>\n",
       "      <td>-1.440876</td>\n",
       "      <td>1.232253</td>\n",
       "      <td>-0.254180</td>\n",
       "      <td>1.399844</td>\n",
       "    </tr>\n",
       "    <tr>\n",
       "      <th>7</th>\n",
       "      <td>-0.781912</td>\n",
       "      <td>-0.437509</td>\n",
       "      <td>0.095425</td>\n",
       "      <td>0.921450</td>\n",
       "      <td>0.060750</td>\n",
       "      <td>0.211125</td>\n",
       "      <td>0.016528</td>\n",
       "      <td>0.177188</td>\n",
       "      <td>-1.116470</td>\n",
       "      <td>0.080927</td>\n",
       "      <td>...</td>\n",
       "      <td>1.123412</td>\n",
       "      <td>0.305267</td>\n",
       "      <td>1.388779</td>\n",
       "      <td>-0.661344</td>\n",
       "      <td>3.030857</td>\n",
       "      <td>0.824585</td>\n",
       "      <td>0.654580</td>\n",
       "      <td>-0.051188</td>\n",
       "      <td>-0.725597</td>\n",
       "      <td>-0.867769</td>\n",
       "    </tr>\n",
       "    <tr>\n",
       "      <th>8</th>\n",
       "      <td>-0.135977</td>\n",
       "      <td>-0.797270</td>\n",
       "      <td>0.282676</td>\n",
       "      <td>-0.826097</td>\n",
       "      <td>0.621083</td>\n",
       "      <td>0.956122</td>\n",
       "      <td>-0.705841</td>\n",
       "      <td>1.192686</td>\n",
       "      <td>-0.237942</td>\n",
       "      <td>1.155288</td>\n",
       "      <td>...</td>\n",
       "      <td>1.010127</td>\n",
       "      <td>0.920018</td>\n",
       "      <td>-0.195057</td>\n",
       "      <td>0.805393</td>\n",
       "      <td>-0.701344</td>\n",
       "      <td>-0.537223</td>\n",
       "      <td>0.156264</td>\n",
       "      <td>-0.190221</td>\n",
       "      <td>-0.448738</td>\n",
       "      <td>-0.672448</td>\n",
       "    </tr>\n",
       "    <tr>\n",
       "      <th>9</th>\n",
       "      <td>-0.557495</td>\n",
       "      <td>0.939169</td>\n",
       "      <td>-1.943323</td>\n",
       "      <td>0.352494</td>\n",
       "      <td>-0.236437</td>\n",
       "      <td>0.727813</td>\n",
       "      <td>0.515074</td>\n",
       "      <td>-2.782534</td>\n",
       "      <td>0.584647</td>\n",
       "      <td>0.324274</td>\n",
       "      <td>...</td>\n",
       "      <td>-1.426555</td>\n",
       "      <td>1.767960</td>\n",
       "      <td>-0.475373</td>\n",
       "      <td>0.477610</td>\n",
       "      <td>-1.021886</td>\n",
       "      <td>0.794528</td>\n",
       "      <td>-1.873161</td>\n",
       "      <td>0.920615</td>\n",
       "      <td>-0.035368</td>\n",
       "      <td>2.110605</td>\n",
       "    </tr>\n",
       "  </tbody>\n",
       "</table>\n",
       "<p>10 rows × 40 columns</p>\n",
       "</div>"
      ],
      "text/plain": [
       "         0         1         2         3         4         5         6   \\\n",
       "0  1.624345 -0.611756 -0.528172 -1.072969  0.865408 -2.301539  1.744812   \n",
       "1 -0.191836 -0.887629 -0.747158  1.692455  0.050808 -0.636996  0.190915   \n",
       "2 -0.222328 -0.200758  0.186561  0.410052  0.198300  0.119009 -0.670662   \n",
       "3 -0.024617 -0.775162  1.273756  1.967102 -1.857982  1.236164  1.627651   \n",
       "4 -0.517094 -0.997027  0.248799 -0.296641  0.495211 -0.174703  0.986335   \n",
       "5 -0.400878  0.824006 -0.562305  1.954878 -1.331952 -1.760689 -1.650721   \n",
       "6 -0.498214 -0.310985 -0.001891 -1.396620 -0.861316  0.674712  0.618539   \n",
       "7 -0.781912 -0.437509  0.095425  0.921450  0.060750  0.211125  0.016528   \n",
       "8 -0.135977 -0.797270  0.282676 -0.826097  0.621083  0.956122 -0.705841   \n",
       "9 -0.557495  0.939169 -1.943323  0.352494 -0.236437  0.727813  0.515074   \n",
       "\n",
       "         7         8         9   ...        30        31        32        33  \\\n",
       "0 -0.761207  0.319039 -0.249370  ... -0.691661 -0.396754 -0.687173 -0.845206   \n",
       "1  2.100255  0.120159  0.617203  ... -1.444114 -0.504466  0.160037  0.876169   \n",
       "2  0.377564  0.121821  1.129484  ... -1.373117  0.315159  0.846161 -0.859516   \n",
       "3  0.338012 -1.199268  0.863345  ... -0.310117 -2.434838  1.038825  2.186980   \n",
       "4  0.213534  2.190700 -1.896361  ...  1.160339  0.369493  1.904659  1.111057   \n",
       "5 -0.890556 -1.119115  1.956079  ...  0.242669  0.201830  0.661020  1.792158   \n",
       "6 -0.443172  1.810535 -1.305727  ...  0.836005  1.543359  0.758806  0.884909   \n",
       "7  0.177188 -1.116470  0.080927  ...  1.123412  0.305267  1.388779 -0.661344   \n",
       "8  1.192686 -0.237942  1.155288  ...  1.010127  0.920018 -0.195057  0.805393   \n",
       "9 -2.782534  0.584647  0.324274  ... -1.426555  1.767960 -0.475373  0.477610   \n",
       "\n",
       "         34        35        36        37        38        39  \n",
       "0 -0.671246 -0.012665 -1.117310  0.234416  1.659802  0.742044  \n",
       "1  0.315635 -2.022201 -0.306204  0.827975  0.230095  0.762011  \n",
       "2  0.350546 -1.312283 -0.038696 -1.615772  1.121418  0.408901  \n",
       "3  0.441364 -0.100155 -0.136445 -0.119054  0.017409 -1.122019  \n",
       "4  0.659050 -1.627438  0.602319  0.420282  0.810952  1.044442  \n",
       "5 -0.120465 -1.233121 -1.182318 -0.665755 -1.674196  0.825030  \n",
       "6 -0.877282 -0.867787 -1.440876  1.232253 -0.254180  1.399844  \n",
       "7  3.030857  0.824585  0.654580 -0.051188 -0.725597 -0.867769  \n",
       "8 -0.701344 -0.537223  0.156264 -0.190221 -0.448738 -0.672448  \n",
       "9 -1.021886  0.794528 -1.873161  0.920615 -0.035368  2.110605  \n",
       "\n",
       "[10 rows x 40 columns]"
      ]
     },
     "execution_count": 58,
     "metadata": {},
     "output_type": "execute_result"
    }
   ],
   "source": [
    "new_df= df.copy()\n",
    "new_df"
   ]
  }
 ],
 "metadata": {
  "kernelspec": {
   "display_name": ".venv",
   "language": "python",
   "name": "python3"
  },
  "language_info": {
   "codemirror_mode": {
    "name": "ipython",
    "version": 3
   },
   "file_extension": ".py",
   "mimetype": "text/x-python",
   "name": "python",
   "nbconvert_exporter": "python",
   "pygments_lexer": "ipython3",
   "version": "3.12.8"
  }
 },
 "nbformat": 4,
 "nbformat_minor": 5
}
