{
 "cells": [
  {
   "cell_type": "code",
   "execution_count": 1,
   "id": "3e0bf6f4",
   "metadata": {},
   "outputs": [],
   "source": [
    "import numpy as np\n",
    "import pandas as pd\n",
    "import matplotlib.pyplot as plt\n",
    "import seaborn as sns\n",
    "import scipy\n",
    "import pingouin as pg\n",
    "sns.set_style(\"whitegrid\")"
   ]
  },
  {
   "cell_type": "markdown",
   "id": "3c851574",
   "metadata": {},
   "source": [
    "Our scenario is imaginary, so we generate sales data randomly. Let's consider a DataFrame that has Sales_wout_ad (variant A) and Sales_with_ad (variant B) columns, made with a NumPy function to create normally distributed data. After data generation, we calculate the differences between Sales_wout_ad and Sales_with_ad."
   ]
  },
  {
   "cell_type": "code",
   "execution_count": 11,
   "id": "4aeb2e49",
   "metadata": {},
   "outputs": [
    {
     "data": {
      "text/html": [
       "<div>\n",
       "<style scoped>\n",
       "    .dataframe tbody tr th:only-of-type {\n",
       "        vertical-align: middle;\n",
       "    }\n",
       "\n",
       "    .dataframe tbody tr th {\n",
       "        vertical-align: top;\n",
       "    }\n",
       "\n",
       "    .dataframe thead th {\n",
       "        text-align: right;\n",
       "    }\n",
       "</style>\n",
       "<table border=\"1\" class=\"dataframe\">\n",
       "  <thead>\n",
       "    <tr style=\"text-align: right;\">\n",
       "      <th></th>\n",
       "      <th>sales_wout_ad</th>\n",
       "      <th>sales_with_ad</th>\n",
       "      <th>difference_in_sale</th>\n",
       "    </tr>\n",
       "  </thead>\n",
       "  <tbody>\n",
       "    <tr>\n",
       "      <th>count</th>\n",
       "      <td>10.000000</td>\n",
       "      <td>10.000000</td>\n",
       "      <td>10.000000</td>\n",
       "    </tr>\n",
       "    <tr>\n",
       "      <th>mean</th>\n",
       "      <td>26.671784</td>\n",
       "      <td>28.161791</td>\n",
       "      <td>1.490008</td>\n",
       "    </tr>\n",
       "    <tr>\n",
       "      <th>std</th>\n",
       "      <td>4.257854</td>\n",
       "      <td>10.934418</td>\n",
       "      <td>12.027098</td>\n",
       "    </tr>\n",
       "    <tr>\n",
       "      <th>min</th>\n",
       "      <td>20.086143</td>\n",
       "      <td>14.691851</td>\n",
       "      <td>-12.834766</td>\n",
       "    </tr>\n",
       "    <tr>\n",
       "      <th>25%</th>\n",
       "      <td>24.052342</td>\n",
       "      <td>18.288519</td>\n",
       "      <td>-7.818175</td>\n",
       "    </tr>\n",
       "    <tr>\n",
       "      <th>50%</th>\n",
       "      <td>28.023639</td>\n",
       "      <td>27.979045</td>\n",
       "      <td>0.592895</td>\n",
       "    </tr>\n",
       "    <tr>\n",
       "      <th>75%</th>\n",
       "      <td>29.533606</td>\n",
       "      <td>34.937466</td>\n",
       "      <td>9.141159</td>\n",
       "    </tr>\n",
       "    <tr>\n",
       "      <th>max</th>\n",
       "      <td>32.130923</td>\n",
       "      <td>45.421873</td>\n",
       "      <td>24.896957</td>\n",
       "    </tr>\n",
       "  </tbody>\n",
       "</table>\n",
       "</div>"
      ],
      "text/plain": [
       "       sales_wout_ad  sales_with_ad  difference_in_sale\n",
       "count      10.000000      10.000000           10.000000\n",
       "mean       26.671784      28.161791            1.490008\n",
       "std         4.257854      10.934418           12.027098\n",
       "min        20.086143      14.691851          -12.834766\n",
       "25%        24.052342      18.288519           -7.818175\n",
       "50%        28.023639      27.979045            0.592895\n",
       "75%        29.533606      34.937466            9.141159\n",
       "max        32.130923      45.421873           24.896957"
      ]
     },
     "execution_count": 11,
     "metadata": {},
     "output_type": "execute_result"
    }
   ],
   "source": [
    "np.random.seed(951)\n",
    "\n",
    "df= pd.DataFrame(data={\n",
    "    \"sales_wout_ad\":np.random.normal(loc=27, scale=5, size=10),\n",
    "    \"sales_with_ad\": np.random.normal(loc=31, scale=10, size=10) \n",
    "})\n",
    "df[\"difference_in_sale\"] = df[\"sales_with_ad\"] - df[\"sales_wout_ad\"]\n",
    "df.describe()"
   ]
  },
  {
   "cell_type": "markdown",
   "id": "bf4a34ec",
   "metadata": {},
   "source": [
    "data is not normally distributed"
   ]
  },
  {
   "cell_type": "code",
   "execution_count": 9,
   "id": "058aa270",
   "metadata": {},
   "outputs": [
    {
     "data": {
      "text/html": [
       "<div>\n",
       "<style scoped>\n",
       "    .dataframe tbody tr th:only-of-type {\n",
       "        vertical-align: middle;\n",
       "    }\n",
       "\n",
       "    .dataframe tbody tr th {\n",
       "        vertical-align: top;\n",
       "    }\n",
       "\n",
       "    .dataframe thead th {\n",
       "        text-align: right;\n",
       "    }\n",
       "</style>\n",
       "<table border=\"1\" class=\"dataframe\">\n",
       "  <thead>\n",
       "    <tr style=\"text-align: right;\">\n",
       "      <th></th>\n",
       "      <th>W</th>\n",
       "      <th>pval</th>\n",
       "      <th>normal</th>\n",
       "    </tr>\n",
       "  </thead>\n",
       "  <tbody>\n",
       "    <tr>\n",
       "      <th>sales_wout_ad</th>\n",
       "      <td>0.921534</td>\n",
       "      <td>0.369930</td>\n",
       "      <td>True</td>\n",
       "    </tr>\n",
       "    <tr>\n",
       "      <th>sales_with_ad</th>\n",
       "      <td>0.932653</td>\n",
       "      <td>0.474490</td>\n",
       "      <td>True</td>\n",
       "    </tr>\n",
       "    <tr>\n",
       "      <th>difference_in_sale</th>\n",
       "      <td>0.940788</td>\n",
       "      <td>0.561816</td>\n",
       "      <td>True</td>\n",
       "    </tr>\n",
       "  </tbody>\n",
       "</table>\n",
       "</div>"
      ],
      "text/plain": [
       "                           W      pval  normal\n",
       "sales_wout_ad       0.921534  0.369930    True\n",
       "sales_with_ad       0.932653  0.474490    True\n",
       "difference_in_sale  0.940788  0.561816    True"
      ]
     },
     "execution_count": 9,
     "metadata": {},
     "output_type": "execute_result"
    }
   ],
   "source": [
    "pg.normality(data=df, alpha=0.05)"
   ]
  },
  {
   "cell_type": "markdown",
   "id": "6192a14c",
   "metadata": {},
   "source": [
    "data is normally distributed"
   ]
  },
  {
   "cell_type": "code",
   "execution_count": 14,
   "id": "10d7080d",
   "metadata": {},
   "outputs": [
    {
     "data": {
      "image/png": "[encoded data removed]",
      "text/plain": [
       "<Figure size 1000x600 with 2 Axes>"
      ]
     },
     "metadata": {},
     "output_type": "display_data"
    }
   ],
   "source": [
    "fig, axes = plt.subplots(nrows=1, ncols=2, figsize=(10,6))\n",
    "sns.histplot(data=df, kde=True, ax=axes[0])\n",
    "for col in df.columns:\n",
    "    axes[0].axvline(df[col].mean(), linestyle=\"-\", linewidth=1, c=\"r\")\n",
    "sns.boxenplot(data=df, ax=axes[1])\n",
    "plt.show()"
   ]
  },
  {
   "cell_type": "markdown",
   "id": "8cd407b9",
   "metadata": {},
   "source": [
    "to get the sample size 8 * std().sqd / mean().sqd - in our case, we're considering the std and mean of the third column - difference"
   ]
  },
  {
   "cell_type": "code",
   "execution_count": 15,
   "id": "80449e42",
   "metadata": {},
   "outputs": [
    {
     "data": {
      "text/plain": [
       "64.57467610912157"
      ]
     },
     "execution_count": 15,
     "metadata": {},
     "output_type": "execute_result"
    }
   ],
   "source": [
    "n_minimal = 8 * (12.027098)/(1.490008)\n",
    "n_minimal"
   ]
  },
  {
   "cell_type": "markdown",
   "id": "fb33dbc1",
   "metadata": {},
   "source": [
    "sample size should be 65."
   ]
  },
  {
   "cell_type": "markdown",
   "id": "347bb39a",
   "metadata": {},
   "source": [
    "the sample size indicates that we need at least 65 days to test how each variable functions(with and without ad)... in total we need 130 days worth data before making a decision - 130 becuase 65 with ad, and 65 without. I will take 20 more samples to be careful"
   ]
  },
  {
   "cell_type": "code",
   "execution_count": 43,
   "id": "f270245d",
   "metadata": {},
   "outputs": [
    {
     "data": {
      "text/html": [
       "<div>\n",
       "<style scoped>\n",
       "    .dataframe tbody tr th:only-of-type {\n",
       "        vertical-align: middle;\n",
       "    }\n",
       "\n",
       "    .dataframe tbody tr th {\n",
       "        vertical-align: top;\n",
       "    }\n",
       "\n",
       "    .dataframe thead th {\n",
       "        text-align: right;\n",
       "    }\n",
       "</style>\n",
       "<table border=\"1\" class=\"dataframe\">\n",
       "  <thead>\n",
       "    <tr style=\"text-align: right;\">\n",
       "      <th></th>\n",
       "      <th>T</th>\n",
       "      <th>dof</th>\n",
       "      <th>alternative</th>\n",
       "      <th>p-val</th>\n",
       "      <th>CI95%</th>\n",
       "      <th>cohen-d</th>\n",
       "      <th>BF10</th>\n",
       "      <th>power</th>\n",
       "    </tr>\n",
       "  </thead>\n",
       "  <tbody>\n",
       "    <tr>\n",
       "      <th>T-test</th>\n",
       "      <td>0.391767</td>\n",
       "      <td>9</td>\n",
       "      <td>greater</td>\n",
       "      <td>0.352173</td>\n",
       "      <td>[-5.48, inf]</td>\n",
       "      <td>0.123888</td>\n",
       "      <td>0.66</td>\n",
       "      <td>0.099974</td>\n",
       "    </tr>\n",
       "  </tbody>\n",
       "</table>\n",
       "</div>"
      ],
      "text/plain": [
       "               T  dof alternative     p-val         CI95%   cohen-d  BF10  \\\n",
       "T-test  0.391767    9     greater  0.352173  [-5.48, inf]  0.123888  0.66   \n",
       "\n",
       "           power  \n",
       "T-test  0.099974  "
      ]
     },
     "execution_count": 43,
     "metadata": {},
     "output_type": "execute_result"
    }
   ],
   "source": [
    "pg.ttest(x=df[\"difference_in_sale\"], y=0, alternative=\"greater\")"
   ]
  },
  {
   "cell_type": "code",
   "execution_count": 26,
   "id": "1704e868",
   "metadata": {},
   "outputs": [
    {
     "data": {
      "text/html": [
       "<div>\n",
       "<style scoped>\n",
       "    .dataframe tbody tr th:only-of-type {\n",
       "        vertical-align: middle;\n",
       "    }\n",
       "\n",
       "    .dataframe tbody tr th {\n",
       "        vertical-align: top;\n",
       "    }\n",
       "\n",
       "    .dataframe thead th {\n",
       "        text-align: right;\n",
       "    }\n",
       "</style>\n",
       "<table border=\"1\" class=\"dataframe\">\n",
       "  <thead>\n",
       "    <tr style=\"text-align: right;\">\n",
       "      <th></th>\n",
       "      <th>sales_wout_ad</th>\n",
       "      <th>sales_with_ad</th>\n",
       "      <th>diff_in_sales</th>\n",
       "    </tr>\n",
       "  </thead>\n",
       "  <tbody>\n",
       "    <tr>\n",
       "      <th>count</th>\n",
       "      <td>150.000000</td>\n",
       "      <td>150.000000</td>\n",
       "      <td>150.000000</td>\n",
       "    </tr>\n",
       "    <tr>\n",
       "      <th>mean</th>\n",
       "      <td>27.121671</td>\n",
       "      <td>30.531246</td>\n",
       "      <td>3.409576</td>\n",
       "    </tr>\n",
       "    <tr>\n",
       "      <th>std</th>\n",
       "      <td>5.139749</td>\n",
       "      <td>9.598826</td>\n",
       "      <td>10.851927</td>\n",
       "    </tr>\n",
       "    <tr>\n",
       "      <th>min</th>\n",
       "      <td>13.176362</td>\n",
       "      <td>6.160288</td>\n",
       "      <td>-22.533274</td>\n",
       "    </tr>\n",
       "    <tr>\n",
       "      <th>25%</th>\n",
       "      <td>23.973804</td>\n",
       "      <td>23.993396</td>\n",
       "      <td>-3.935352</td>\n",
       "    </tr>\n",
       "    <tr>\n",
       "      <th>50%</th>\n",
       "      <td>27.114746</td>\n",
       "      <td>30.862624</td>\n",
       "      <td>2.544698</td>\n",
       "    </tr>\n",
       "    <tr>\n",
       "      <th>75%</th>\n",
       "      <td>29.923664</td>\n",
       "      <td>35.802781</td>\n",
       "      <td>11.472241</td>\n",
       "    </tr>\n",
       "    <tr>\n",
       "      <th>max</th>\n",
       "      <td>41.040947</td>\n",
       "      <td>62.552833</td>\n",
       "      <td>37.931469</td>\n",
       "    </tr>\n",
       "  </tbody>\n",
       "</table>\n",
       "</div>"
      ],
      "text/plain": [
       "       sales_wout_ad  sales_with_ad  diff_in_sales\n",
       "count     150.000000     150.000000     150.000000\n",
       "mean       27.121671      30.531246       3.409576\n",
       "std         5.139749       9.598826      10.851927\n",
       "min        13.176362       6.160288     -22.533274\n",
       "25%        23.973804      23.993396      -3.935352\n",
       "50%        27.114746      30.862624       2.544698\n",
       "75%        29.923664      35.802781      11.472241\n",
       "max        41.040947      62.552833      37.931469"
      ]
     },
     "execution_count": 26,
     "metadata": {},
     "output_type": "execute_result"
    }
   ],
   "source": [
    "size = 150\n",
    "df1 = pd.DataFrame(data={\n",
    "    \"sales_wout_ad\": np.random.normal(loc=27, scale=5, size=size),\n",
    "    \"sales_with_ad\": np.random.normal(loc=31, scale=10, size=size)\n",
    "})\n",
    "df1[\"diff_in_sales\"] = df1[\"sales_with_ad\"] - df1[\"sales_wout_ad\"]\n",
    "df1.describe()"
   ]
  },
  {
   "cell_type": "code",
   "execution_count": 20,
   "id": "dc30941a",
   "metadata": {},
   "outputs": [
    {
     "data": {
      "text/html": [
       "<div>\n",
       "<style scoped>\n",
       "    .dataframe tbody tr th:only-of-type {\n",
       "        vertical-align: middle;\n",
       "    }\n",
       "\n",
       "    .dataframe tbody tr th {\n",
       "        vertical-align: top;\n",
       "    }\n",
       "\n",
       "    .dataframe thead th {\n",
       "        text-align: right;\n",
       "    }\n",
       "</style>\n",
       "<table border=\"1\" class=\"dataframe\">\n",
       "  <thead>\n",
       "    <tr style=\"text-align: right;\">\n",
       "      <th></th>\n",
       "      <th>W</th>\n",
       "      <th>pval</th>\n",
       "      <th>normal</th>\n",
       "    </tr>\n",
       "  </thead>\n",
       "  <tbody>\n",
       "    <tr>\n",
       "      <th>sales_wout_ad</th>\n",
       "      <td>0.989751</td>\n",
       "      <td>0.3449</td>\n",
       "      <td>True</td>\n",
       "    </tr>\n",
       "    <tr>\n",
       "      <th>sales_with_ad</th>\n",
       "      <td>0.989751</td>\n",
       "      <td>0.3449</td>\n",
       "      <td>True</td>\n",
       "    </tr>\n",
       "    <tr>\n",
       "      <th>diff_in_sales</th>\n",
       "      <td>0.989751</td>\n",
       "      <td>0.3449</td>\n",
       "      <td>True</td>\n",
       "    </tr>\n",
       "  </tbody>\n",
       "</table>\n",
       "</div>"
      ],
      "text/plain": [
       "                      W    pval  normal\n",
       "sales_wout_ad  0.989751  0.3449    True\n",
       "sales_with_ad  0.989751  0.3449    True\n",
       "diff_in_sales  0.989751  0.3449    True"
      ]
     },
     "execution_count": 20,
     "metadata": {},
     "output_type": "execute_result"
    }
   ],
   "source": [
    "pg.normality(data=df1, alpha=0.05)"
   ]
  },
  {
   "cell_type": "code",
   "execution_count": 27,
   "id": "26a082d5",
   "metadata": {},
   "outputs": [
    {
     "data": {
      "image/png": "[encoded data removed]",
      "text/plain": [
       "<Figure size 1000x600 with 2 Axes>"
      ]
     },
     "metadata": {},
     "output_type": "display_data"
    }
   ],
   "source": [
    "fig, axes = plt.subplots(nrows=1, ncols=2, figsize=(10,6))\n",
    "sns.histplot(data=df1, kde=True, ax=axes[0])\n",
    "for col in df1.columns:\n",
    "    axes[0].axvline(df1[col].mean(), linestyle=\"-\", linewidth=1, c=\"r\")\n",
    "sns.boxplot(data=df1, ax=axes[1])\n",
    "plt.show()"
   ]
  },
  {
   "cell_type": "code",
   "execution_count": 28,
   "id": "a925f48a",
   "metadata": {},
   "outputs": [
    {
     "data": {
      "text/html": [
       "<div>\n",
       "<style scoped>\n",
       "    .dataframe tbody tr th:only-of-type {\n",
       "        vertical-align: middle;\n",
       "    }\n",
       "\n",
       "    .dataframe tbody tr th {\n",
       "        vertical-align: top;\n",
       "    }\n",
       "\n",
       "    .dataframe thead th {\n",
       "        text-align: right;\n",
       "    }\n",
       "</style>\n",
       "<table border=\"1\" class=\"dataframe\">\n",
       "  <thead>\n",
       "    <tr style=\"text-align: right;\">\n",
       "      <th></th>\n",
       "      <th>T</th>\n",
       "      <th>dof</th>\n",
       "      <th>alternative</th>\n",
       "      <th>p-val</th>\n",
       "      <th>CI95%</th>\n",
       "      <th>cohen-d</th>\n",
       "      <th>BF10</th>\n",
       "      <th>power</th>\n",
       "    </tr>\n",
       "  </thead>\n",
       "  <tbody>\n",
       "    <tr>\n",
       "      <th>T-test</th>\n",
       "      <td>-3.835191</td>\n",
       "      <td>298</td>\n",
       "      <td>two-sided</td>\n",
       "      <td>0.000153</td>\n",
       "      <td>[-5.16, -1.66]</td>\n",
       "      <td>0.44285</td>\n",
       "      <td>125.808</td>\n",
       "      <td>0.968757</td>\n",
       "    </tr>\n",
       "  </tbody>\n",
       "</table>\n",
       "</div>"
      ],
      "text/plain": [
       "               T  dof alternative     p-val           CI95%  cohen-d     BF10  \\\n",
       "T-test -3.835191  298   two-sided  0.000153  [-5.16, -1.66]  0.44285  125.808   \n",
       "\n",
       "           power  \n",
       "T-test  0.968757  "
      ]
     },
     "execution_count": 28,
     "metadata": {},
     "output_type": "execute_result"
    }
   ],
   "source": [
    "pg.ttest(df1[\"sales_wout_ad\"], df1[\"sales_with_ad\"])"
   ]
  },
  {
   "cell_type": "markdown",
   "id": "c7d8da3c",
   "metadata": {},
   "source": [
    "**watchout for how you perform calculation**\n",
    "\n",
    "now the p-val increased... remember how you caluclate the difference column... i earlier deducted sales without ad(less) from sales with ad(more)... it should ideally be: sales with ad(more) deducted from sales wihout ad(less)\n",
    "\n",
    "also I used the wrong sign earlier: = instead of -\n",
    "\n",
    "this is why it's not enough for data to make just statistical sense, but should be practical too... how can the mean be the same when i'm assigning a random value of 27 and 31, and the scales are quite different too. before writing the old pval i had to be careful"
   ]
  },
  {
   "cell_type": "code",
   "execution_count": 30,
   "id": "52c1a415",
   "metadata": {},
   "outputs": [
    {
     "data": {
      "text/html": [
       "<div>\n",
       "<style scoped>\n",
       "    .dataframe tbody tr th:only-of-type {\n",
       "        vertical-align: middle;\n",
       "    }\n",
       "\n",
       "    .dataframe tbody tr th {\n",
       "        vertical-align: top;\n",
       "    }\n",
       "\n",
       "    .dataframe thead th {\n",
       "        text-align: right;\n",
       "    }\n",
       "</style>\n",
       "<table border=\"1\" class=\"dataframe\">\n",
       "  <thead>\n",
       "    <tr style=\"text-align: right;\">\n",
       "      <th></th>\n",
       "      <th>T</th>\n",
       "      <th>dof</th>\n",
       "      <th>alternative</th>\n",
       "      <th>p-val</th>\n",
       "      <th>CI95%</th>\n",
       "      <th>cohen-d</th>\n",
       "      <th>BF10</th>\n",
       "      <th>power</th>\n",
       "    </tr>\n",
       "  </thead>\n",
       "  <tbody>\n",
       "    <tr>\n",
       "      <th>T-test</th>\n",
       "      <td>3.848036</td>\n",
       "      <td>149</td>\n",
       "      <td>greater</td>\n",
       "      <td>0.000088</td>\n",
       "      <td>[1.94, inf]</td>\n",
       "      <td>0.314191</td>\n",
       "      <td>186.734</td>\n",
       "      <td>0.985579</td>\n",
       "    </tr>\n",
       "  </tbody>\n",
       "</table>\n",
       "</div>"
      ],
      "text/plain": [
       "               T  dof alternative     p-val        CI95%   cohen-d     BF10  \\\n",
       "T-test  3.848036  149     greater  0.000088  [1.94, inf]  0.314191  186.734   \n",
       "\n",
       "           power  \n",
       "T-test  0.985579  "
      ]
     },
     "execution_count": 30,
     "metadata": {},
     "output_type": "execute_result"
    }
   ],
   "source": [
    "pg.ttest(x=df1[\"diff_in_sales\"], y=0, alternative=\"greater\")"
   ]
  },
  {
   "cell_type": "code",
   "execution_count": 39,
   "id": "d46283d2",
   "metadata": {},
   "outputs": [
    {
     "data": {
      "text/plain": [
       "count    150.000000\n",
       "mean       3.409576\n",
       "std       10.851927\n",
       "min      -22.533274\n",
       "25%       -3.935352\n",
       "50%        2.544698\n",
       "75%       11.472241\n",
       "max       37.931469\n",
       "Name: diff_in_sales, dtype: float64"
      ]
     },
     "execution_count": 39,
     "metadata": {},
     "output_type": "execute_result"
    }
   ],
   "source": [
    "df1[\"diff_in_sales\"].describe()"
   ]
  },
  {
   "cell_type": "code",
   "execution_count": 40,
   "id": "0dfa6539",
   "metadata": {},
   "outputs": [
    {
     "name": "stdout",
     "output_type": "stream",
     "text": [
      "3.409575725988448\n"
     ]
    }
   ],
   "source": [
    "print(df1[\"diff_in_sales\"].mean())"
   ]
  },
  {
   "cell_type": "code",
   "execution_count": 42,
   "id": "d048de34",
   "metadata": {},
   "outputs": [
    {
     "data": {
      "text/plain": [
       "array([1.66, 5.16])"
      ]
     },
     "execution_count": 42,
     "metadata": {},
     "output_type": "execute_result"
    }
   ],
   "source": [
    "pg.ttest(x=df1[\"diff_in_sales\"], y=0).loc[\"T-test\", \"CI95%\"]"
   ]
  }
 ],
 "metadata": {
  "kernelspec": {
   "display_name": ".venv",
   "language": "python",
   "name": "python3"
  },
  "language_info": {
   "codemirror_mode": {
    "name": "ipython",
    "version": 3
   },
   "file_extension": ".py",
   "mimetype": "text/x-python",
   "name": "python",
   "nbconvert_exporter": "python",
   "pygments_lexer": "ipython3",
   "version": "3.12.8"
  }
 },
 "nbformat": 4,
 "nbformat_minor": 5
}
